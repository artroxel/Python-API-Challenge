{
 "cells": [
  {
   "cell_type": "code",
   "execution_count": 1,
   "metadata": {},
   "outputs": [],
   "source": [
    " # Dependencies and Setup\n",
    "import matplotlib.pyplot as plt\n",
    "import pandas as pd\n",
    "import numpy as np\n",
    "import requests\n",
    "import gmaps\n",
    "import os"
   ]
  },
  {
   "cell_type": "code",
   "execution_count": 2,
   "metadata": {},
   "outputs": [],
   "source": [
    "# Import API key\n",
    "from API_Keys import g_key"
   ]
  },
  {
   "cell_type": "code",
   "execution_count": 3,
   "metadata": {},
   "outputs": [
    {
     "data": {
      "text/html": [
       "<div>\n",
       "<style scoped>\n",
       "    .dataframe tbody tr th:only-of-type {\n",
       "        vertical-align: middle;\n",
       "    }\n",
       "\n",
       "    .dataframe tbody tr th {\n",
       "        vertical-align: top;\n",
       "    }\n",
       "\n",
       "    .dataframe thead th {\n",
       "        text-align: right;\n",
       "    }\n",
       "</style>\n",
       "<table border=\"1\" class=\"dataframe\">\n",
       "  <thead>\n",
       "    <tr style=\"text-align: right;\">\n",
       "      <th></th>\n",
       "      <th>Unnamed: 0</th>\n",
       "      <th>City</th>\n",
       "      <th>Lat</th>\n",
       "      <th>Lng</th>\n",
       "      <th>Max Temp</th>\n",
       "      <th>Humidity</th>\n",
       "      <th>Cloudiness</th>\n",
       "      <th>Wind Speed</th>\n",
       "      <th>Country</th>\n",
       "      <th>Date</th>\n",
       "    </tr>\n",
       "  </thead>\n",
       "  <tbody>\n",
       "    <tr>\n",
       "      <th>0</th>\n",
       "      <td>0</td>\n",
       "      <td>Butaritari</td>\n",
       "      <td>3.0707</td>\n",
       "      <td>172.7902</td>\n",
       "      <td>300.80</td>\n",
       "      <td>77</td>\n",
       "      <td>71</td>\n",
       "      <td>2.46</td>\n",
       "      <td>KI</td>\n",
       "      <td>1618672740</td>\n",
       "    </tr>\n",
       "    <tr>\n",
       "      <th>1</th>\n",
       "      <td>1</td>\n",
       "      <td>Castro</td>\n",
       "      <td>-24.7911</td>\n",
       "      <td>-50.0119</td>\n",
       "      <td>293.25</td>\n",
       "      <td>76</td>\n",
       "      <td>97</td>\n",
       "      <td>1.33</td>\n",
       "      <td>BR</td>\n",
       "      <td>1618672741</td>\n",
       "    </tr>\n",
       "    <tr>\n",
       "      <th>2</th>\n",
       "      <td>2</td>\n",
       "      <td>Tiksi</td>\n",
       "      <td>71.6872</td>\n",
       "      <td>128.8694</td>\n",
       "      <td>258.98</td>\n",
       "      <td>96</td>\n",
       "      <td>100</td>\n",
       "      <td>4.93</td>\n",
       "      <td>RU</td>\n",
       "      <td>1618672742</td>\n",
       "    </tr>\n",
       "    <tr>\n",
       "      <th>3</th>\n",
       "      <td>3</td>\n",
       "      <td>Ginir</td>\n",
       "      <td>7.1333</td>\n",
       "      <td>40.7000</td>\n",
       "      <td>290.77</td>\n",
       "      <td>75</td>\n",
       "      <td>72</td>\n",
       "      <td>3.27</td>\n",
       "      <td>ET</td>\n",
       "      <td>1618672742</td>\n",
       "    </tr>\n",
       "    <tr>\n",
       "      <th>4</th>\n",
       "      <td>4</td>\n",
       "      <td>Fortuna</td>\n",
       "      <td>40.5982</td>\n",
       "      <td>-124.1573</td>\n",
       "      <td>280.15</td>\n",
       "      <td>100</td>\n",
       "      <td>90</td>\n",
       "      <td>2.06</td>\n",
       "      <td>US</td>\n",
       "      <td>1618672742</td>\n",
       "    </tr>\n",
       "  </tbody>\n",
       "</table>\n",
       "</div>"
      ],
      "text/plain": [
       "   Unnamed: 0        City      Lat       Lng  Max Temp  Humidity  Cloudiness  \\\n",
       "0           0  Butaritari   3.0707  172.7902    300.80        77          71   \n",
       "1           1      Castro -24.7911  -50.0119    293.25        76          97   \n",
       "2           2       Tiksi  71.6872  128.8694    258.98        96         100   \n",
       "3           3       Ginir   7.1333   40.7000    290.77        75          72   \n",
       "4           4     Fortuna  40.5982 -124.1573    280.15       100          90   \n",
       "\n",
       "   Wind Speed Country        Date  \n",
       "0        2.46      KI  1618672740  \n",
       "1        1.33      BR  1618672741  \n",
       "2        4.93      RU  1618672742  \n",
       "3        3.27      ET  1618672742  \n",
       "4        2.06      US  1618672742  "
      ]
     },
     "execution_count": 3,
     "metadata": {},
     "output_type": "execute_result"
    }
   ],
   "source": [
    "#load csv\n",
    "city_df = pd.read_csv(\"../WeatherPy/city.csv\")\n",
    "city_df.head()"
   ]
  },
  {
   "cell_type": "code",
   "execution_count": 4,
   "metadata": {},
   "outputs": [
    {
     "data": {
      "text/html": [
       "<div>\n",
       "<style scoped>\n",
       "    .dataframe tbody tr th:only-of-type {\n",
       "        vertical-align: middle;\n",
       "    }\n",
       "\n",
       "    .dataframe tbody tr th {\n",
       "        vertical-align: top;\n",
       "    }\n",
       "\n",
       "    .dataframe thead th {\n",
       "        text-align: right;\n",
       "    }\n",
       "</style>\n",
       "<table border=\"1\" class=\"dataframe\">\n",
       "  <thead>\n",
       "    <tr style=\"text-align: right;\">\n",
       "      <th></th>\n",
       "      <th>City</th>\n",
       "      <th>Lat</th>\n",
       "      <th>Lng</th>\n",
       "      <th>Max Temp</th>\n",
       "      <th>Humidity</th>\n",
       "      <th>Cloudiness</th>\n",
       "      <th>Wind Speed</th>\n",
       "      <th>Country</th>\n",
       "      <th>Date</th>\n",
       "    </tr>\n",
       "  </thead>\n",
       "  <tbody>\n",
       "    <tr>\n",
       "      <th>0</th>\n",
       "      <td>Butaritari</td>\n",
       "      <td>3.0707</td>\n",
       "      <td>172.7902</td>\n",
       "      <td>300.80</td>\n",
       "      <td>77</td>\n",
       "      <td>71</td>\n",
       "      <td>2.46</td>\n",
       "      <td>KI</td>\n",
       "      <td>1618672740</td>\n",
       "    </tr>\n",
       "    <tr>\n",
       "      <th>1</th>\n",
       "      <td>Castro</td>\n",
       "      <td>-24.7911</td>\n",
       "      <td>-50.0119</td>\n",
       "      <td>293.25</td>\n",
       "      <td>76</td>\n",
       "      <td>97</td>\n",
       "      <td>1.33</td>\n",
       "      <td>BR</td>\n",
       "      <td>1618672741</td>\n",
       "    </tr>\n",
       "    <tr>\n",
       "      <th>2</th>\n",
       "      <td>Tiksi</td>\n",
       "      <td>71.6872</td>\n",
       "      <td>128.8694</td>\n",
       "      <td>258.98</td>\n",
       "      <td>96</td>\n",
       "      <td>100</td>\n",
       "      <td>4.93</td>\n",
       "      <td>RU</td>\n",
       "      <td>1618672742</td>\n",
       "    </tr>\n",
       "    <tr>\n",
       "      <th>3</th>\n",
       "      <td>Ginir</td>\n",
       "      <td>7.1333</td>\n",
       "      <td>40.7000</td>\n",
       "      <td>290.77</td>\n",
       "      <td>75</td>\n",
       "      <td>72</td>\n",
       "      <td>3.27</td>\n",
       "      <td>ET</td>\n",
       "      <td>1618672742</td>\n",
       "    </tr>\n",
       "    <tr>\n",
       "      <th>4</th>\n",
       "      <td>Fortuna</td>\n",
       "      <td>40.5982</td>\n",
       "      <td>-124.1573</td>\n",
       "      <td>280.15</td>\n",
       "      <td>100</td>\n",
       "      <td>90</td>\n",
       "      <td>2.06</td>\n",
       "      <td>US</td>\n",
       "      <td>1618672742</td>\n",
       "    </tr>\n",
       "  </tbody>\n",
       "</table>\n",
       "</div>"
      ],
      "text/plain": [
       "         City      Lat       Lng  Max Temp  Humidity  Cloudiness  Wind Speed  \\\n",
       "0  Butaritari   3.0707  172.7902    300.80        77          71        2.46   \n",
       "1      Castro -24.7911  -50.0119    293.25        76          97        1.33   \n",
       "2       Tiksi  71.6872  128.8694    258.98        96         100        4.93   \n",
       "3       Ginir   7.1333   40.7000    290.77        75          72        3.27   \n",
       "4     Fortuna  40.5982 -124.1573    280.15       100          90        2.06   \n",
       "\n",
       "  Country        Date  \n",
       "0      KI  1618672740  \n",
       "1      BR  1618672741  \n",
       "2      RU  1618672742  \n",
       "3      ET  1618672742  \n",
       "4      US  1618672742  "
      ]
     },
     "execution_count": 4,
     "metadata": {},
     "output_type": "execute_result"
    }
   ],
   "source": [
    "dropna_data = city_df.dropna()\n",
    "del dropna_data[\"Unnamed: 0\"]\n",
    "dropna_data.head()"
   ]
  },
  {
   "cell_type": "code",
   "execution_count": 5,
   "metadata": {},
   "outputs": [],
   "source": [
    "gmaps.configure(g_key)\n",
    "location = dropna_data[[\"Lat\",\"Lng\"]]\n",
    "humidity = dropna_data[\"Humidity\"]"
   ]
  },
  {
   "cell_type": "code",
   "execution_count": 6,
   "metadata": {},
   "outputs": [
    {
     "data": {
      "application/vnd.jupyter.widget-view+json": {
       "model_id": "ebc1e5914cc8415ba546d87d8d2a652e",
       "version_major": 2,
       "version_minor": 0
      },
      "text/plain": [
       "Figure(layout=FigureLayout(border='1px solid  black', height='300px', margin='0 auto 0 auto', padding='1px', w…"
      ]
     },
     "metadata": {},
     "output_type": "display_data"
    }
   ],
   "source": [
    "figure_layout = {\n",
    "    \"width\": \"400px\",\n",
    "    \"height\": \"300px\",\n",
    "    \"border\": \"1px solid  black\",\n",
    "    \"padding\": \"1px\",\n",
    "    \"margin\": \"0 auto 0 auto\"\n",
    "}\n",
    "fig = gmaps.figure(layout = figure_layout)\n",
    "fig"
   ]
  },
  {
   "cell_type": "code",
   "execution_count": 7,
   "metadata": {},
   "outputs": [
    {
     "data": {
      "application/vnd.jupyter.widget-view+json": {
       "model_id": "ebc1e5914cc8415ba546d87d8d2a652e",
       "version_major": 2,
       "version_minor": 0
      },
      "text/plain": [
       "Figure(layout=FigureLayout(border='1px solid  black', height='300px', margin='0 auto 0 auto', padding='1px', w…"
      ]
     },
     "metadata": {},
     "output_type": "display_data"
    }
   ],
   "source": [
    "heat = gmaps.heatmap_layer(location, weights=humidity, point_radius=1, dissipating=False, max_intensity=10)\n",
    "fig.add_layer(heat)\n",
    "fig"
   ]
  },
  {
   "cell_type": "code",
   "execution_count": 8,
   "metadata": {},
   "outputs": [
    {
     "data": {
      "text/html": [
       "<div>\n",
       "<style scoped>\n",
       "    .dataframe tbody tr th:only-of-type {\n",
       "        vertical-align: middle;\n",
       "    }\n",
       "\n",
       "    .dataframe tbody tr th {\n",
       "        vertical-align: top;\n",
       "    }\n",
       "\n",
       "    .dataframe thead th {\n",
       "        text-align: right;\n",
       "    }\n",
       "</style>\n",
       "<table border=\"1\" class=\"dataframe\">\n",
       "  <thead>\n",
       "    <tr style=\"text-align: right;\">\n",
       "      <th></th>\n",
       "      <th>City</th>\n",
       "      <th>Lat</th>\n",
       "      <th>Lng</th>\n",
       "      <th>Max Temp</th>\n",
       "      <th>Humidity</th>\n",
       "      <th>Cloudiness</th>\n",
       "      <th>Wind Speed</th>\n",
       "      <th>Country</th>\n",
       "      <th>Date</th>\n",
       "    </tr>\n",
       "  </thead>\n",
       "  <tbody>\n",
       "    <tr>\n",
       "      <th>411</th>\n",
       "      <td>Tahe</td>\n",
       "      <td>52.3333</td>\n",
       "      <td>124.7333</td>\n",
       "      <td>272.88</td>\n",
       "      <td>80</td>\n",
       "      <td>0</td>\n",
       "      <td>1.87</td>\n",
       "      <td>CN</td>\n",
       "      <td>1618672878</td>\n",
       "    </tr>\n",
       "  </tbody>\n",
       "</table>\n",
       "</div>"
      ],
      "text/plain": [
       "     City      Lat       Lng  Max Temp  Humidity  Cloudiness  Wind Speed  \\\n",
       "411  Tahe  52.3333  124.7333    272.88        80           0        1.87   \n",
       "\n",
       "    Country        Date  \n",
       "411      CN  1618672878  "
      ]
     },
     "execution_count": 8,
     "metadata": {},
     "output_type": "execute_result"
    }
   ],
   "source": [
    "weather_criteria_df = dropna_data.loc[dropna_data[\"Max Temp\"]<275]\n",
    "temp_criteria = weather_criteria_df.loc[weather_criteria_df[\"Max Temp\"]>200]\n",
    "wind_criteria = temp_criteria.loc[temp_criteria[\"Wind Speed\"]<10]\n",
    "cloudiness_criteria = wind_criteria.loc[wind_criteria[\"Cloudiness\"]==0]\n",
    "cloudiness_criteria"
   ]
  },
  {
   "cell_type": "code",
   "execution_count": 9,
   "metadata": {},
   "outputs": [
    {
     "data": {
      "text/html": [
       "<div>\n",
       "<style scoped>\n",
       "    .dataframe tbody tr th:only-of-type {\n",
       "        vertical-align: middle;\n",
       "    }\n",
       "\n",
       "    .dataframe tbody tr th {\n",
       "        vertical-align: top;\n",
       "    }\n",
       "\n",
       "    .dataframe thead th {\n",
       "        text-align: right;\n",
       "    }\n",
       "</style>\n",
       "<table border=\"1\" class=\"dataframe\">\n",
       "  <thead>\n",
       "    <tr style=\"text-align: right;\">\n",
       "      <th></th>\n",
       "      <th>City</th>\n",
       "      <th>Lat</th>\n",
       "      <th>Lng</th>\n",
       "      <th>Max Temp</th>\n",
       "      <th>Country</th>\n",
       "      <th>Hotel Name</th>\n",
       "    </tr>\n",
       "  </thead>\n",
       "  <tbody>\n",
       "    <tr>\n",
       "      <th>411</th>\n",
       "      <td>Tahe</td>\n",
       "      <td>52.3333</td>\n",
       "      <td>124.7333</td>\n",
       "      <td>272.88</td>\n",
       "      <td>CN</td>\n",
       "      <td></td>\n",
       "    </tr>\n",
       "  </tbody>\n",
       "</table>\n",
       "</div>"
      ],
      "text/plain": [
       "     City      Lat       Lng  Max Temp Country Hotel Name\n",
       "411  Tahe  52.3333  124.7333    272.88      CN           "
      ]
     },
     "execution_count": 9,
     "metadata": {},
     "output_type": "execute_result"
    }
   ],
   "source": [
    "hotel_df = cloudiness_criteria[[\"City\", \"Lat\", \"Lng\", \"Max Temp\", \"Country\"]].copy()\n",
    "hotel_df[\"Hotel Name\"] = \" \"\n",
    "hotel_df"
   ]
  },
  {
   "cell_type": "code",
   "execution_count": 10,
   "metadata": {},
   "outputs": [
    {
     "data": {
      "text/html": [
       "<div>\n",
       "<style scoped>\n",
       "    .dataframe tbody tr th:only-of-type {\n",
       "        vertical-align: middle;\n",
       "    }\n",
       "\n",
       "    .dataframe tbody tr th {\n",
       "        vertical-align: top;\n",
       "    }\n",
       "\n",
       "    .dataframe thead th {\n",
       "        text-align: right;\n",
       "    }\n",
       "</style>\n",
       "<table border=\"1\" class=\"dataframe\">\n",
       "  <thead>\n",
       "    <tr style=\"text-align: right;\">\n",
       "      <th></th>\n",
       "      <th>City</th>\n",
       "      <th>Lat</th>\n",
       "      <th>Lng</th>\n",
       "      <th>Max Temp</th>\n",
       "      <th>Country</th>\n",
       "      <th>Hotel Name</th>\n",
       "    </tr>\n",
       "  </thead>\n",
       "  <tbody>\n",
       "    <tr>\n",
       "      <th>411</th>\n",
       "      <td>Tahe</td>\n",
       "      <td>52.3333</td>\n",
       "      <td>124.7333</td>\n",
       "      <td>272.88</td>\n",
       "      <td>CN</td>\n",
       "      <td>诚信商务酒店</td>\n",
       "    </tr>\n",
       "  </tbody>\n",
       "</table>\n",
       "</div>"
      ],
      "text/plain": [
       "     City      Lat       Lng  Max Temp Country Hotel Name\n",
       "411  Tahe  52.3333  124.7333    272.88      CN     诚信商务酒店"
      ]
     },
     "execution_count": 10,
     "metadata": {},
     "output_type": "execute_result"
    }
   ],
   "source": [
    "params = {\n",
    "    \"keyword\": \"Hotel\",\n",
    "    \"types\": \"lodging\",\n",
    "    \"radius\": 5000,\n",
    "    \"key\": g_key\n",
    "}\n",
    "\n",
    "for index, row in hotel_df.iterrows():\n",
    "    lat = row[\"Lat\"]\n",
    "    lng = row[\"Lng\"]\n",
    "    \n",
    "    params[\"location\"] = f\"{lat},{lng}\"\n",
    "    base_url = \"https://maps.googleapis.com/maps/api/place/nearbysearch/json\"\n",
    "\n",
    "    \n",
    "    response = requests.get(base_url,params=params).json()\n",
    "    \n",
    "    try:\n",
    "        hotel_df.loc[index, \"Hotel Name\"] = response[\"results\"][0][\"name\"]\n",
    "    except:\n",
    "        print(\"Hotel not found\")\n",
    "hotel_df"
   ]
  },
  {
   "cell_type": "code",
   "execution_count": 11,
   "metadata": {},
   "outputs": [],
   "source": [
    " # NOTE: Do not change any of the code in this cell\n",
    "\n",
    "# Using the template add the hotel marks to the heatmap\n",
    "info_box_template = \"\"\"\n",
    "<dl>\n",
    "<dt>Name</dt><dd>{Hotel Name}</dd>\n",
    "<dt>City</dt><dd>{City}</dd>\n",
    "<dt>Country</dt><dd>{Country}</dd>\n",
    "</dl>\n",
    "\"\"\"\n",
    "# Store the DataFrame Row\n",
    "# NOTE: be sure to update with your DataFrame name\n",
    "hotel_info = [info_box_template.format(**row) for index, row in hotel_df.iterrows()]\n",
    "locations = hotel_df[[\"Lat\", \"Lng\"]]"
   ]
  },
  {
   "cell_type": "code",
   "execution_count": 12,
   "metadata": {},
   "outputs": [
    {
     "data": {
      "application/vnd.jupyter.widget-view+json": {
       "model_id": "ebc1e5914cc8415ba546d87d8d2a652e",
       "version_major": 2,
       "version_minor": 0
      },
      "text/plain": [
       "Figure(layout=FigureLayout(border='1px solid  black', height='300px', margin='0 auto 0 auto', padding='1px', w…"
      ]
     },
     "metadata": {},
     "output_type": "display_data"
    }
   ],
   "source": [
    "hotel_markers = gmaps.marker_layer(locations,hotel_info)\n",
    "fig.add_layer(hotel_markers)\n",
    "fig"
   ]
  },
  {
   "cell_type": "code",
   "execution_count": null,
   "metadata": {},
   "outputs": [],
   "source": []
  }
 ],
 "metadata": {
  "kernelspec": {
   "display_name": "Python [conda env:PythonData]",
   "language": "python",
   "name": "conda-env-PythonData-py"
  },
  "language_info": {
   "codemirror_mode": {
    "name": "ipython",
    "version": 3
   },
   "file_extension": ".py",
   "mimetype": "text/x-python",
   "name": "python",
   "nbconvert_exporter": "python",
   "pygments_lexer": "ipython3",
   "version": "3.6.10"
  }
 },
 "nbformat": 4,
 "nbformat_minor": 4
}
