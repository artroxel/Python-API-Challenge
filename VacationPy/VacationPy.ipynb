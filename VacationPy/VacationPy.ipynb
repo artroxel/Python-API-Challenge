{
 "cells": [
  {
   "cell_type": "code",
   "execution_count": 1,
   "metadata": {},
   "outputs": [],
   "source": [
    " # Dependencies and Setup\n",
    "import matplotlib.pyplot as plt\n",
    "import pandas as pd\n",
    "import numpy as np\n",
    "import requests\n",
    "import gmaps\n",
    "import os"
   ]
  },
  {
   "cell_type": "code",
   "execution_count": 2,
   "metadata": {},
   "outputs": [],
   "source": [
    "# Import API key\n",
    "from API_Keys import g_key"
   ]
  },
  {
   "cell_type": "code",
   "execution_count": 3,
   "metadata": {},
   "outputs": [
    {
     "data": {
      "text/html": [
       "<div>\n",
       "<style scoped>\n",
       "    .dataframe tbody tr th:only-of-type {\n",
       "        vertical-align: middle;\n",
       "    }\n",
       "\n",
       "    .dataframe tbody tr th {\n",
       "        vertical-align: top;\n",
       "    }\n",
       "\n",
       "    .dataframe thead th {\n",
       "        text-align: right;\n",
       "    }\n",
       "</style>\n",
       "<table border=\"1\" class=\"dataframe\">\n",
       "  <thead>\n",
       "    <tr style=\"text-align: right;\">\n",
       "      <th></th>\n",
       "      <th>Unnamed: 0</th>\n",
       "      <th>City</th>\n",
       "      <th>Lat</th>\n",
       "      <th>Lng</th>\n",
       "      <th>Max Temp</th>\n",
       "      <th>Humidity</th>\n",
       "      <th>Cloudiness</th>\n",
       "      <th>Wind Speed</th>\n",
       "      <th>Country</th>\n",
       "      <th>Date</th>\n",
       "    </tr>\n",
       "  </thead>\n",
       "  <tbody>\n",
       "    <tr>\n",
       "      <th>0</th>\n",
       "      <td>0</td>\n",
       "      <td>Puerto Ayora</td>\n",
       "      <td>-0.7393</td>\n",
       "      <td>-90.3518</td>\n",
       "      <td>297.59</td>\n",
       "      <td>97</td>\n",
       "      <td>94</td>\n",
       "      <td>1.34</td>\n",
       "      <td>EC</td>\n",
       "      <td>1618625881</td>\n",
       "    </tr>\n",
       "    <tr>\n",
       "      <th>1</th>\n",
       "      <td>1</td>\n",
       "      <td>Torbay</td>\n",
       "      <td>47.6666</td>\n",
       "      <td>-52.7314</td>\n",
       "      <td>273.25</td>\n",
       "      <td>93</td>\n",
       "      <td>90</td>\n",
       "      <td>5.66</td>\n",
       "      <td>CA</td>\n",
       "      <td>1618626044</td>\n",
       "    </tr>\n",
       "    <tr>\n",
       "      <th>2</th>\n",
       "      <td>2</td>\n",
       "      <td>Mareeba</td>\n",
       "      <td>-17.0000</td>\n",
       "      <td>145.4333</td>\n",
       "      <td>303.01</td>\n",
       "      <td>58</td>\n",
       "      <td>90</td>\n",
       "      <td>8.75</td>\n",
       "      <td>AU</td>\n",
       "      <td>1618626119</td>\n",
       "    </tr>\n",
       "    <tr>\n",
       "      <th>3</th>\n",
       "      <td>3</td>\n",
       "      <td>Hasaki</td>\n",
       "      <td>35.7333</td>\n",
       "      <td>140.8333</td>\n",
       "      <td>291.01</td>\n",
       "      <td>63</td>\n",
       "      <td>75</td>\n",
       "      <td>8.23</td>\n",
       "      <td>JP</td>\n",
       "      <td>1618625884</td>\n",
       "    </tr>\n",
       "    <tr>\n",
       "      <th>4</th>\n",
       "      <td>4</td>\n",
       "      <td>Punta Arenas</td>\n",
       "      <td>-53.1500</td>\n",
       "      <td>-70.9167</td>\n",
       "      <td>282.09</td>\n",
       "      <td>71</td>\n",
       "      <td>0</td>\n",
       "      <td>8.75</td>\n",
       "      <td>CL</td>\n",
       "      <td>1618625807</td>\n",
       "    </tr>\n",
       "  </tbody>\n",
       "</table>\n",
       "</div>"
      ],
      "text/plain": [
       "   Unnamed: 0          City      Lat       Lng  Max Temp  Humidity  \\\n",
       "0           0  Puerto Ayora  -0.7393  -90.3518    297.59        97   \n",
       "1           1        Torbay  47.6666  -52.7314    273.25        93   \n",
       "2           2       Mareeba -17.0000  145.4333    303.01        58   \n",
       "3           3        Hasaki  35.7333  140.8333    291.01        63   \n",
       "4           4  Punta Arenas -53.1500  -70.9167    282.09        71   \n",
       "\n",
       "   Cloudiness  Wind Speed Country        Date  \n",
       "0          94        1.34      EC  1618625881  \n",
       "1          90        5.66      CA  1618626044  \n",
       "2          90        8.75      AU  1618626119  \n",
       "3          75        8.23      JP  1618625884  \n",
       "4           0        8.75      CL  1618625807  "
      ]
     },
     "execution_count": 3,
     "metadata": {},
     "output_type": "execute_result"
    }
   ],
   "source": [
    "#load csv\n",
    "city_df = pd.read_csv(\"../WeatherPy/city.csv\")\n",
    "city_df.head()"
   ]
  },
  {
   "cell_type": "code",
   "execution_count": 4,
   "metadata": {},
   "outputs": [],
   "source": [
    "gmaps.configure(g_key)\n",
    "location = city_df[[\"Lat\",\"Lng\"]]\n",
    "humidity = city_df[\"Humidity\"]"
   ]
  },
  {
   "cell_type": "code",
   "execution_count": 8,
   "metadata": {},
   "outputs": [
    {
     "data": {
      "application/vnd.jupyter.widget-view+json": {
       "model_id": "b3e6838b7c2348e892eaa11bc0dc1141",
       "version_major": 2,
       "version_minor": 0
      },
      "text/plain": [
       "Figure(layout=FigureLayout(border='1px solid  black', height='300px', margin='0 auto 0 auto', padding='1px', w…"
      ]
     },
     "metadata": {},
     "output_type": "display_data"
    }
   ],
   "source": [
    "figure_layout = {\n",
    "    \"width\": \"400px\",\n",
    "    \"height\": \"300px\",\n",
    "    \"border\": \"1px solid  black\",\n",
    "    \"padding\": \"1px\",\n",
    "    \"margin\": \"0 auto 0 auto\"\n",
    "}\n",
    "fig = gmaps.figure(layout = figure_layout)\n",
    "fig"
   ]
  },
  {
   "cell_type": "code",
   "execution_count": 6,
   "metadata": {},
   "outputs": [
    {
     "data": {
      "application/vnd.jupyter.widget-view+json": {
       "model_id": "543dbd2010e1480b8d0e62c254ceae82",
       "version_major": 2,
       "version_minor": 0
      },
      "text/plain": [
       "Figure(layout=FigureLayout(border='1px solid  black', height='300px', margin='0 auto 0 auto', padding='1px', w…"
      ]
     },
     "metadata": {},
     "output_type": "display_data"
    }
   ],
   "source": [
    "markers = gmaps.marker_layer(location)\n",
    "fig.add_layer(markers)\n",
    "fig"
   ]
  },
  {
   "cell_type": "code",
   "execution_count": 7,
   "metadata": {},
   "outputs": [
    {
     "data": {
      "application/vnd.jupyter.widget-view+json": {
       "model_id": "543dbd2010e1480b8d0e62c254ceae82",
       "version_major": 2,
       "version_minor": 0
      },
      "text/plain": [
       "Figure(layout=FigureLayout(border='1px solid  black', height='300px', margin='0 auto 0 auto', padding='1px', w…"
      ]
     },
     "metadata": {},
     "output_type": "display_data"
    }
   ],
   "source": [
    "heat = gmaps.heatmap_layer(location, weights=humidity, point_radius=1, dissipating=False, max_intensity=10)\n",
    "fig.add_layer(heat)\n",
    "fig"
   ]
  },
  {
   "cell_type": "code",
   "execution_count": null,
   "metadata": {},
   "outputs": [],
   "source": []
  }
 ],
 "metadata": {
  "kernelspec": {
   "display_name": "Python [conda env:PythonData]",
   "language": "python",
   "name": "conda-env-PythonData-py"
  },
  "language_info": {
   "codemirror_mode": {
    "name": "ipython",
    "version": 3
   },
   "file_extension": ".py",
   "mimetype": "text/x-python",
   "name": "python",
   "nbconvert_exporter": "python",
   "pygments_lexer": "ipython3",
   "version": "3.6.10"
  }
 },
 "nbformat": 4,
 "nbformat_minor": 4
}
