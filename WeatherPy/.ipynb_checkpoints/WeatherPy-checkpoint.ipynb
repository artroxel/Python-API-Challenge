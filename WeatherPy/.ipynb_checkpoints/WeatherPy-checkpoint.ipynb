{
 "cells": [
  {
   "cell_type": "code",
   "execution_count": 4,
   "metadata": {},
   "outputs": [],
   "source": [
    "import matplotlib.pyplot as plt\n",
    "import pandas as pd\n",
    "import numpy as np\n",
    "import requests\n",
    "import time\n",
    "from scipy.stats import linregress"
   ]
  },
  {
   "cell_type": "code",
   "execution_count": 17,
   "metadata": {},
   "outputs": [],
   "source": [
    "# Import API key\n",
    "from api_keys import weather_api_key\n",
    "\n",
    "# Incorporated citipy to determine city based on latitude and longitude\n",
    "from citipy import citipy\n",
    "\n",
    "# Output File (CSV)\n",
    "output_data_file = \"output_data/cities.csv\"\n",
    "\n",
    "# Range of latitudes and longitudes\n",
    "lat_range = (-90, 90)\n",
    "lng_range = (-180, 180)"
   ]
  },
  {
   "cell_type": "code",
   "execution_count": 26,
   "metadata": {},
   "outputs": [
    {
     "ename": "SyntaxError",
     "evalue": "invalid syntax (<ipython-input-26-1e16e91c84a0>, line 1)",
     "output_type": "error",
     "traceback": [
      "\u001b[1;36m  File \u001b[1;32m\"<ipython-input-26-1e16e91c84a0>\"\u001b[1;36m, line \u001b[1;32m1\u001b[0m\n\u001b[1;33m    url = api.openweathermap.org/data/2.5/weather?id={city id}&appid={weather_api_key}\u001b[0m\n\u001b[1;37m                                                 ^\u001b[0m\n\u001b[1;31mSyntaxError\u001b[0m\u001b[1;31m:\u001b[0m invalid syntax\n"
     ]
    }
   ],
   "source": [
    "url = api.openweathermap.org/data/2.5/weather?id={city id}&appid={weather_api_key}\n",
    "print(url)"
   ]
  },
  {
   "cell_type": "code",
   "execution_count": 18,
   "metadata": {},
   "outputs": [
    {
     "data": {
      "text/plain": [
       "617"
      ]
     },
     "execution_count": 18,
     "metadata": {},
     "output_type": "execute_result"
    }
   ],
   "source": [
    "# List for holding lat_lngs and cities\n",
    "lat_lngs = []\n",
    "cities = []\n",
    "\n",
    "# Create a set of random lat and lng combinations\n",
    "lats = np.random.uniform(lat_range[0], lat_range[1], size=1500)\n",
    "lngs = np.random.uniform(lng_range[0], lng_range[1], size=1500)\n",
    "lat_lngs = zip(lats, lngs)\n",
    "\n",
    "# Identify nearest city for each lat, lng combination\n",
    "for lat_lng in lat_lngs:\n",
    "    city = citipy.nearest_city(lat_lng[0], lat_lng[1]).city_name\n",
    "    \n",
    "    # If the city is unique, then add it to a our cities list\n",
    "    if city not in cities:\n",
    "        cities.append(city)\n",
    "\n",
    "# Print the city count to confirm sufficient count\n",
    "len(cities)"
   ]
  },
  {
   "cell_type": "code",
   "execution_count": 25,
   "metadata": {},
   "outputs": [
    {
     "name": "stdout",
     "output_type": "stream",
     "text": [
      "Processing Record 0 of Set churapcha | ['churapcha', 'gazojak', 'chagda', 'tuktoyaktuk', 'ningan', 'puerto ayora', 'bayanday', 'iranshahr', 'port alfred', 'ushuaia', 'albany', 'bengkulu', 'mataura', 'provideniya', 'barrow', 'hualmay', 'tasiilaq', 'bredasdorp', 'punta arenas', 'hermanus', 'hobart', 'chiautla', 'coahuayana', 'esperance', 'west wendover', 'longyearbyen', 'ilulissat', 'flinders', 'namatanai', 'dhidhdhoo', 'ancud', 'balasinor', 'shostka', 'hilo', 'thompson', 'yellowknife', 'castro', 'cuxhaven', 'barentu', 'sorvag', 'omboue', 'cape town', 'port elizabeth', 'illoqqortoormiut', 'beringovskiy', 'norman wells', 'kaitangata', 'mineiros', 'dauphin', 'severo-kurilsk', 'biak', 'melnikovo', 'poum', 'sao joao da barra', 'bluff', 'ostersund', 'bernalillo', 'arraial do cabo', 'vaini', 'cairns', 'kodiak', 'chaozhou', 'taolanaro', 'catuday', 'kikwit', 'dikson', 'ponta do sol', 'kavaratti', 'timiryazevskoye', 'samarai', 'jamestown', 'cam ranh', 'olafsvik', 'avarua', 'olhao', 'puerto del rosario', 'sinkat', 'san pedro', 'izhma', 'karkaralinsk', 'calvinia', 'rikitea', 'lucapa', 'namibe', 'havoysund', 'northam', 'viedma', 'saint-philippe', 'bokspits', 'busselton', 'hatillo', 'lebu', 'teahupoo', 'ust-kut', 'berthierville', 'haines junction', 'labuhan', 'manta', 'cidreira', 'shemgang', 'pella', 'tiksi', 'hihifo', 'qaanaaq', 'antofagasta', 'lagoa', 'portland', 'yarada', 'mullaitivu', 'muyezerskiy', 'sentyabrskiy', 'laguna', 'port lincoln', 'sungaipenuh', 'mys shmidta', 'upernavik', 'kapaa', 'vincennes', 'salalah', 'krasnoselkup', 'geraldton', 'carauari', 'garowe', 'kamenskoye', 'palabuhanratu', 'cap-aux-meules', 'alofi', 'dalby', 'ribeira grande', 'komsomolskiy', 'amderma', 'umm durman', 'port augusta', 'macamic', 'coquimbo', 'vostok', 'sorland', 'victoria', 'georgetown', 'saint george', 'kuytun', 'chokurdakh', 'ribeira brava', 'togur', 'maun', 'barentsburg', 'jacareacanga', 'souillac', 'polunochnoye', 'werda', 'lichinga', 'saldanha', 'nikolskoye', 'tonneins', 'bathsheba', 'acapulco', 'tarudant', 'east london', 'yakeshi', 'shalu', 'heze', 'cotonou', 'cerrito', 'santa cruz', 'parana', 'saint anthony', 'santiago', 'lolua', 'nanortalik', 'atuona', 'duz', 'belmonte', 'emerald', 'butaritari', 'wulanhaote', 'enterprise', 'derzhavinsk', 'hofn', 'hearst', 'sur', 'talnakh', 'new norfolk', 'lata', 'halifax', 'soyo', 'mweka', 'phan thiet', 'marawi', 'saskylakh', 'tuatapere', 'jackson', 'flin flon', 'suez', 'thinadhoo', 'tsihombe', 'naifaru', 'kristiinankaupunki', 'aykhal', 'nantucket', 'ossora', 'chute-aux-outardes', 'grand gaube', 'pierre', 'yelizovo', 'lazaro cardenas', 'kulhudhuffushi', 'betsiamites', 'karaton', 'bambous virieux', 'faenza', 'fukue', 'nanning', 'fuerte olimpo', 'san joaquin', 'khasan', 'tyrma', 'mangai', 'kavieng', 'vestmannaeyjar', 'jacqueville', 'ngukurr', 'torbay', 'muncar', 'mindelo', 'nizhneyansk', 'vallenar', 'chardara', 'barranca', 'tura', 'kupang', 'pevek', 'sarkand', 'nepa nagar', 'ordu', 'mar del plata', 'camacha', 'aklavik', 'san fernando', 'ixtapa', 'kualakapuas', 'arrecife', 'katsuura', 'surt', 'redcliffe', 'saint-pierre', 'jaisalmer', 'makakilo city', 'tabuk', 'tateyama', 'cabo san lucas', 'praia da vitoria', 'bonthe', 'marechal floriano', 'kayerkan', 'kununurra', 'puerto colombia', 'lasa', 'richards bay', 'belushya guba', 'saint-augustin', 'ntungamo', 'atagay', 'falun', 'vao', 'oskarshamn', 'angoche', 'bitung', 'chulman', 'verkhoyansk', 'benjamin constant', 'saleaula', 'evensk', 'gat', 'carnarvon', 'padre bernardo', 'mehamn', 'port-cartier', 'lavrentiya', 'sistranda', 'codrington', 'qeshm', 'pokhara', 'mayumba', 'marsh harbour', 'pacific grove', 'yulara', 'nadvoitsy', 'bethel', 'conde', 'shache', 'vila velha', 'commerce', 'samagaltay', 'sekoma', 'sao francisco de paula', 'klaksvik', 'banda aceh', 'gannan', 'umiray', 'leningradskiy', 'cherskiy', 'clyde river', 'angra', 'juneau', 'fort erie', 'roald', 'hamilton', 'kuche', 'akyab', 'cuamba', 'newport', 'airai', 'puerto ayacucho', 'pachino', 'medea', 'kahului', 'hithadhoo', 'san patricio', 'sitka', 'avera', 'linhares', 'ambodifototra', 'bardiyah', 'harwich', 'babocsa', 'port hueneme', 'bolungarvik', 'san carlos', 'nanma', 'saleilua', 'samusu', 'palembang', 'chalchihuites', 'puerto escondido', 'auki', 'sisimiut', 'dianopolis', 'bogovarovo', 'gwadar', 'kungurtug', 'hasaki', 'vanavara', 'warqla', 'scottsbluff', 'piacabucu', 'luderitz', 'svetlogorsk', 'condado', 'meyungs', 'abha', 'necochea', 'rawson', 'abu samrah', 'vila', 'fare', 'solnechnyy', 'khatanga', 'lavumisa', 'oyama', 'sioux lookout', 'cayenne', 'broome', 'bosaso', 'grand river south east', 'uvalde', 'mattru', 'ha noi', 'shetpe', 'sigiriya', 'port blair', 'nabannagan', 'san vicente', 'presidencia roque saenz pena', 'urumqi', 'vardo', 'hambantota', 'gizo', 'port hardy', 'rungata', 'ballitoville', 'maloy', 'kambove', 'huarmey', 'ivanivka', 'fort nelson', 'husavik', 'napier', 'iseyin', 'isiro', 'changtu', 'nouadhibou', 'coihaique', 'havre-saint-pierre', 'belaya gora', 'luis correia', 'seoul', 'atherton', 'los llanos de aridane', 'rio grande', 'chuy', 'hami', 'kuching', 'dunedin', 'lindsay', 'dehui', 'guerrero negro', 'khash', 'neuquen', 'sept-iles', 'lewistown', 'anuradhapura', 'dumas', 'japura', 'birao', 'mahebourg', 'makueni', 'yigou', 'chake chake', 'xining', 'dinsor', 'calvia', 'faanui', 'louisbourg', 'dharchula', 'algiers', 'manay', 'dingle', 'winslow', 'aktash', 'safaga', 'mporokoso', 'batagay', 'alice springs', 'bud', 'roslyakovo', 'sola', 'kruisfontein', 'pitimbu', 'fortuna', 'te anau', 'uberaba', 'araceli', 'bontang', 'riccione', 'waterford', 'briancon', 'tadine', 'burkhala', 'svetlaya', 'mitsamiouli', 'batouri', 'qaqortoq', 'hay river', 'hede', 'staraya russa', 'zaysan', 'kadykchan', 'aybak', 'mafinga', 'mergui', 'axim', 'rylsk', 'saundatti yellamma', 'saint-joseph', 'betioky', 'korla', 'noshiro', 'nogliki', 'chimoio', 'san cristobal', 'takoradi', 'sedalia', 'thessalon', 'ridgecrest', 'hachinohe', 'sokol', 'minna', 'narsaq', 'saint-louis', 'qurayyat', 'pisco', 'ferme-neuve', 'pinos', 'dzhusaly', 'mentok', 'anadyr', 'canitas', 'marcona', 'da lat', 'helena', 'lompoc', 'asau', 'mezen', 'rusape', 'las palmas', 'san policarpo', 'rio gallegos', 'nagamangala', 'tapaua', 'brookhaven', 'gallup', 'karaul', 'brae', 'kaeo', 'mercedes', 'soderhamn', 'ayan', 'san quintin', 'morki', 'mogadishu', 'timmins', 'fethiye', 'wenling', 'arsenyev', 'santa helena', 'attawapiskat', 'mbala', 'goderich', 'iquitos', 'terra santa', 'snasa', 'college', 'rehoboth', 'pangnirtung', 'cochabamba', 'umzimvubu', 'muzhi', 'honiara', 'yagodnoye', 'bielefeld', 'bosobolo', 'baraki barak', 'ballina', 'sao filipe', 'mount gambier', 'bubaque', 'sondrio', 'tigzirt', 'tromso', 'valparaiso', 'makhu', 'oytal', 'nabire', 'asayita', 'alexandria', 'vaitupu', 'novobirilyussy', 'verkhnyaya inta', 'stonewall', 'aksarka', 'buncrana', 'nokaneng', 'uige', 'margate', 'tenenkou', 'beloha', 'morgan city', 'faya', 'ludvika', 'port macquarie', 'padang', 'katherine', 'cumaribo', 'bayeux', 'oriximina', 'padilla', 'yumen', 'vikulovo', 'basoko', 'sambava', 'manggar', 'hammerfest', 'tumannyy', 'gadwal', 'acarau', 'tazmalt', 'sampit', 'turukhansk', 'sibolga', 'palauig', 'kraslava', 'kopanskaya', 'verkhnyaya toyma', 'nome', 'brahmapuri', 'teguise', 'staryy nadym', 'rawannawi', 'tual', 'umm lajj', 'zolotinka', 'bargal', 'liptovsky hradok', 'corinto', 'winona', 'mackay', 'jiddah', 'ahipara', 'ruatoria', 'satitoa', 'dali', 'kloulklubed', 'kefamenanu', 'tanda', 'sabha', 'moree', 'guhagar', 'bambanglipuro', 'jasper', 'rocky mount', 'alyangula', 'shitanjing', 'santa rosalia', 'quatre cocos', 'port-gentil', 'tambacounda', 'lorengau']\n"
     ]
    },
    {
     "ename": "NameError",
     "evalue": "name 'url' is not defined",
     "output_type": "error",
     "traceback": [
      "\u001b[1;31m---------------------------------------------------------------------------\u001b[0m",
      "\u001b[1;31mNameError\u001b[0m                                 Traceback (most recent call last)",
      "\u001b[1;32m<ipython-input-25-675be0f42d6a>\u001b[0m in \u001b[0;36m<module>\u001b[1;34m\u001b[0m\n\u001b[0;32m      1\u001b[0m \u001b[1;32mfor\u001b[0m \u001b[0mx\u001b[0m \u001b[1;32min\u001b[0m \u001b[0mrange\u001b[0m\u001b[1;33m(\u001b[0m\u001b[0mlen\u001b[0m\u001b[1;33m(\u001b[0m\u001b[0mcities\u001b[0m\u001b[1;33m)\u001b[0m\u001b[1;33m)\u001b[0m\u001b[1;33m:\u001b[0m\u001b[1;33m\u001b[0m\u001b[1;33m\u001b[0m\u001b[0m\n\u001b[0;32m      2\u001b[0m     \u001b[0mprint\u001b[0m\u001b[1;33m(\u001b[0m\u001b[1;34mf\"Processing Record {x} of Set {cities[x]} | {cities}\"\u001b[0m\u001b[1;33m)\u001b[0m\u001b[1;33m\u001b[0m\u001b[1;33m\u001b[0m\u001b[0m\n\u001b[1;32m----> 3\u001b[1;33m     \u001b[0mresponse_output\u001b[0m \u001b[1;33m=\u001b[0m \u001b[0mrequests\u001b[0m\u001b[1;33m.\u001b[0m\u001b[0mget\u001b[0m\u001b[1;33m(\u001b[0m\u001b[0murl\u001b[0m \u001b[1;33m+\u001b[0m \u001b[0mstr\u001b[0m\u001b[1;33m(\u001b[0m\u001b[0mcities\u001b[0m\u001b[1;33m[\u001b[0m\u001b[0mx\u001b[0m\u001b[1;33m]\u001b[0m\u001b[1;33m)\u001b[0m\u001b[1;33m)\u001b[0m\u001b[1;33m\u001b[0m\u001b[1;33m\u001b[0m\u001b[0m\n\u001b[0m\u001b[0;32m      4\u001b[0m     \u001b[0mresponse_json\u001b[0m\u001b[1;33m.\u001b[0m\u001b[0mappend\u001b[0m\u001b[1;33m(\u001b[0m\u001b[0mresponse_output\u001b[0m\u001b[1;33m.\u001b[0m\u001b[0mjson\u001b[0m\u001b[1;33m(\u001b[0m\u001b[1;33m)\u001b[0m\u001b[1;33m)\u001b[0m\u001b[1;33m\u001b[0m\u001b[1;33m\u001b[0m\u001b[0m\n",
      "\u001b[1;31mNameError\u001b[0m: name 'url' is not defined"
     ]
    }
   ],
   "source": [
    "for x in range(len(cities)):\n",
    "    print(f\"Processing Record {x} of Set {cities[x]} | {cities}\")\n",
    "    response_output = requests.get(url + str(cities[x]))\n",
    "    response_json.append(response_output.json())"
   ]
  },
  {
   "cell_type": "code",
   "execution_count": null,
   "metadata": {},
   "outputs": [],
   "source": []
  }
 ],
 "metadata": {
  "kernelspec": {
   "display_name": "Python [conda env:PythonData]",
   "language": "python",
   "name": "conda-env-PythonData-py"
  },
  "language_info": {
   "codemirror_mode": {
    "name": "ipython",
    "version": 3
   },
   "file_extension": ".py",
   "mimetype": "text/x-python",
   "name": "python",
   "nbconvert_exporter": "python",
   "pygments_lexer": "ipython3",
   "version": "3.6.10"
  }
 },
 "nbformat": 4,
 "nbformat_minor": 4
}
