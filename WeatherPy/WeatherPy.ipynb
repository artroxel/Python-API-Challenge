{
 "cells": [
  {
   "cell_type": "code",
   "execution_count": 35,
   "metadata": {},
   "outputs": [],
   "source": [
    "import matplotlib.pyplot as plt\n",
    "import pandas as pd\n",
    "import numpy as np\n",
    "import requests\n",
    "import time\n",
    "from scipy.stats import linregress\n",
    "from datetime import date"
   ]
  },
  {
   "cell_type": "code",
   "execution_count": 36,
   "metadata": {},
   "outputs": [
    {
     "data": {
      "text/plain": [
       "'2021 04 16'"
      ]
     },
     "execution_count": 36,
     "metadata": {},
     "output_type": "execute_result"
    }
   ],
   "source": [
    "today = date.today()\n",
    "day = today.strftime(\"%Y %m %d\")\n",
    "day"
   ]
  },
  {
   "cell_type": "code",
   "execution_count": 2,
   "metadata": {},
   "outputs": [],
   "source": [
    "# Import API key\n",
    "from api_keys import weather_api_key\n",
    "\n",
    "# Incorporated citipy to determine city based on latitude and longitude\n",
    "from citipy import citipy\n",
    "\n",
    "# Output File (CSV)\n",
    "output_data_file = \"output_data/cities.csv\"\n",
    "\n",
    "# Range of latitudes and longitudes\n",
    "lat_range = (-90, 90)\n",
    "lng_range = (-180, 180)"
   ]
  },
  {
   "cell_type": "code",
   "execution_count": 3,
   "metadata": {
    "scrolled": true
   },
   "outputs": [
    {
     "name": "stdout",
     "output_type": "stream",
     "text": [
      "['ushuaia', 'goderich', 'port macquarie', 'aloleng', 'san patricio', 'sangar', 'dickinson', 'puerto ayora', 'praia da vitoria', 'cape town', 'magadi', 'albany', 'luanda', 'hithadhoo', 'huangnihe', 'mbuguni', 'rikitea', 'ilulissat', 'kodiak', 'faya', 'illoqqortoormiut', 'samusu', 'busselton', 'saint-joseph', 'jamestown', 'margate', 'beloha', 'nome', 'mataura', 'saint-philippe', 'yellowknife', 'khormuj', 'saskylakh', 'anuradhapura', 'antalaha', 'tsihombe', 'severnoye', 'avarua', 'east london', 'dong hoi', 'nikolskoye', 'chuy', 'labuhan', 'mormugao', 'tanete', 'utiroa', 'castro', 'kapaa', 'tuatapere', 'preobrazheniye', 'vallenar', 'nanortalik', 'port alfred', 'poum', 'georgetown', 'kaitangata', 'burnie', 'tasiilaq', 'cherskiy', 'velikie luki', 'la huaca', 'sur', 'vaini', 'saldanha', 'sokoni', 'lebanon', 'lambarene', 'igrim', 'cap malheureux', 'sobolevo', 'fare', 'bilibino', 'iqaluit', 'cabo san lucas', 'tolga', 'orje', 'nizhneyansk', 'touros', 'lavrentiya', 'codrington', 'qabis', 'vaitupu', 'bontang', 'kavieng', 'punta arenas', 'sete lagoas', 'berbera', 'huercal-overa', 'fortuna', 'chik', 'kavaratti', 'basco', 'ixtapa', 'tuktoyaktuk', 'grand river south east', 'north vanlaiphai', 'new norfolk', 'kununurra', 'taolanaro', 'robertsport', 'ponta do sol', 'pangoa', 'egvekinot', 'victoria', 'qaanaaq', 'sola', 'lagos', 'barrow', 'butaritari', 'mikun', 'mar del plata', 'ust-omchug', 'qaqortoq', 'hobart', 'rawson', 'grindavik', 'neu wulmstorf', 'moerai', 'bengkulu', 'yuli', 'jasper', 'bathsheba', 'aksu', 'chokurdakh', 'urumqi', 'ekibastuz', 'xuddur', 'mahebourg', 'vestmannaeyjar', 'thompson', 'quatre cocos', 'provideniya', 'zanesville', 'shakawe', 'mocuba', 'buala', 'havre-saint-pierre', 'faanui', 'oussouye', 'hualmay', 'sadove', 'esperance', 'bluff', 'fort nelson', 'pionerskiy', 'leningradskiy', 'la ronge', 'pelym', 'hermanus', 'coihaique', 'veraval', 'bubaque', 'dikson', 'lac du bonnet', 'union', 'porto novo', 'kondinskoye', 'havoysund', 'iquitos', 'starokozache', 'vrangel', 'kolondieba', 'kumluca', 'karratha', 'attawapiskat', 'campbell river', 'pimentel', 'alofi', 'copiapo', 'kasumigaura', 'arraial do cabo', 'tumannyy', 'richards bay', 'sitka', 'ballitoville', 'hay river', 'chai badan', 'aswan', 'yermish', 'prince rupert', 'jiaonan', 'miyako', 'los aquijes', 'yumen', 'nsanje', 'yanan', 'carnarvon', 'marcona', 'iskateley', 'dudinka', 'yantal', 'tsimlyansk', 'maceio', 'sataua', 'sambava', 'wasilla', 'shush', 'geraldton', 'lebu', 'sorland', 'sept-iles', 'guaruja', 'najran', 'vardo', 'filingue', 'necochea', 'barentsburg', 'pangnirtung', 'mys shmidta', 'seoul', 'hasaki', 'garbolovo', 'asau', 'gannan', 'muana', 'atuona', 'crotone', 'shingu', 'changping', 'sinnamary', 'hima', 'muros', 'jinxiang', 'makakilo city', 'san cristobal', 'ribeira grande', 'saint anthony', 'calvinia', 'westport', 'baoshan', 'champerico', 'jaltocan', 'balimo', 'clyde river', 'pandan', 'lompoc', 'queenstown', 'torbay', 'yerbogachen', 'estelle', 'los llanos de aridane', 'itoman', 'hilo', 'klaksvik', 'shaoguan', 'vila velha', 'rawannawi', 'yurimaguas', 'saint george', 'mitsamiouli', 'naryan-mar', 'saleaula', 'kahului', 'belushya guba', 'tilichiki', 'rakai', 'bambous virieux', 'kem', 'yichang', 'vao', 'kupang', 'airai', 'port hardy', 'yenagoa', 'witu', 'salalah', 'matara', 'onega', 'fairbanks', 'kolchugino', 'lorengau', 'upernavik', 'po', 'erenhot', 'norman wells', 'caraballeda', 'pisco', 'atar', 'kiunga', 'kamenskoye', 'ishigaki', 'maragogi', 'safaga', 'rio gallegos', 'shillong', 'eydhafushi', 'peniche', 'carlyle', 'kruisfontein', 'pevek', 'morondava', 'amderma', 'mount gambier', 'tahta', 'kloulklubed', 'santa marta', 'beringovskiy', 'jacareacanga', 'pacific grove', 'katsuura', 'kushima', 'jinan', 'lermontovka', 'orlik', 'kyaukse', 'cagayan de tawi-tawi', 'san quintin', 'sheridan', 'aripuana', 'maba', 'cidreira', 'huarmey', 'maputo', 'santa rosa', 'puerto narino', 'kadoma', 'xingyi', 'rocha', 'makung', 'hihifo', 'bredasdorp', 'ugoofaaru', 'lagoa', 'bethel', 'padang', 'warwick', 'athabasca', 'la tuque', 'farah', 'kalemie', 'severo-kurilsk', 'belmonte', 'ziro', 'verkhoyansk', 'lugovoy', 'isangel', 'tabiauea', 'brae', 'parati', 'tingrela', 'kendari', 'hovd', 'turukhansk', 'west wendover', 'lodja', 'sterling', 'san joaquin', 'winsum', 'adre', 'komsomolskiy', 'obo', 'santander', 'franklin park', 'mount isa', 'tambul', 'barra', 'nurlat', 'oistins', 'palmer', 'zhigansk', 'znamenskoye', 'husum', 'naze', 'portland', 'minab', 'raudeberg', 'tumbes', 'unai', 'sebezh', 'namibe', 'chukhloma', 'mattru', 'te anau', 'narsaq', 'cedar city', 'oyama', 'rovaniemi', 'eureka', 'mitzic', 'barra patuca', 'bulgan', 'toyooka', 'azare', 'el seibo', 'puerto palomas', 'nemuro', 'jatibarang', 'kerman', 'mandera', 'kamien pomorski', 'wajir', 'novichikha', 'northam', 'choya', 'naisud', 'cayenne', 'anshun', 'hirara', 'vestmanna', 'neuquen', 'boma', 'slobodskoy', 'gat', 'ewa beach', 'atambua', 'souillac', 'sao filipe', 'svetlaya', 'zachary', 'baghdad', 'yulara', 'omaruru', 'yashan', 'berthierville', 'tual', 'lasa', 'ambatofinandrahana', 'humaita', 'acarau', 'ust-kan', 'palembang', 'talnakh', 'cabedelo', 'marrakesh', 'avera', 'tura', 'anadyr', 'bavly', 'arman', 'ponta delgada', 'gorontalo', 'kautokeino', 'awjilah', 'fukue', 'phalaborwa', 'lolua', 'ostrovnoy', 'hami', 'kismayo', 'ciudad bolivar', 'semikarakorsk', 'ajra', 'marzuq', 'zhezkazgan', 'lar gerd', 'bahia blanca', 'gigmoto', 'carballo', 'jaisalmer', 'neiafu', 'biak', 'indore', 'vanimo', 'ancud', 'arlit', 'waipawa', 'general roca', 'umzimvubu', 'andra', 'haslett', 'joshimath', 'villacarrillo', 'kamenka', 'meyungs', 'khatanga', 'harsin', 'paragominas', 'port elizabeth', 'ola', 'chumikan', 'saravena', 'escuinapa', 'safwah', 'balkanabat', 'bajo baudo', 'chapada dos guimaraes', 'san rafael', 'aklavik', 'vila franca do campo', 'abu kamal', 'arkhipo-osipovka', 'santa cruz', 'manta', 'cobija', 'mujiayingzi', 'umm kaddadah', 'jumla', 'ahipara', 'aleksandrov gay', 'buraydah', 'abingdon', 'baherden', 'honningsvag', 'qasigiannguit', 'nouadhibou', 'dhidhdhoo', 'nanakuli', 'bereda', 'ulu-telyak', 'bagotville', 'englewood', 'macaboboni', 'port lincoln', 'tigil', 'qandahar', 'acapulco', 'soller', 'harper', 'caravelas', 'fort william', 'sete', 'syamzha', 'zhoucheng', 'yaan', 'riyadh', 'tiksi', 'mayfield', 'berlin', 'leshukonskoye', 'sarangani', 'husavik', 'japura', 'silleda', 'baykit', 'sainte-thecle', 'sistranda', 'oktyabrskoye', 'luganville', 'amapa', 'wanaka', 'hanzhong', 'nagaur', 'utete', 'tiznit', 'casma', 'saint-francois', 'flinders', 'rio grande', 'homer', 'kutum', 'puerto ayacucho', 'ambon', 'dimbokro', 'vakhrushev', 'auki', 'nelson', 'tagusao', 'severomuysk', 'evensk', 'yakeshi', 'talaya', 'nabire', 'manyana', 'tomesti', 'rio casca', 'hervey bay', 'lahaina', 'moron', 'shimoda', 'cordoba', 'suclayin', 'emba', 'killarney', 'college', 'yang talat', 'kirovskiy', 'aktau', 'pasighat', 'punta de piedra', 'dali', 'tshikapa', 'bonthe', 'toora-khem', 'andarab', 'olafsvik', 'aksarayskiy', 'saint-georges', 'sao miguel do iguacu', 'aranos', 'saleilua', 'nipawin', 'grand gaube', 'pandharpur', 'longyearbyen', 'genhe', 'rungata', 'sentyabrskiy', 'ustrzyki dolne', 'healdsburg', 'salinas', 'pyshma', 'ninohe', 'houma', 'constitucion', 'ballachulish', 'kadi', 'kamaishi', 'lexington', 'pakhtakoron', 'littlehampton', 'huilong', 'kargil', 'takoradi', 'mayo', 'vanavara']\n"
     ]
    }
   ],
   "source": [
    "# List for holding lat_lngs and cities\n",
    "lat_lngs = []\n",
    "cities = []\n",
    "\n",
    "# Create a set of random lat and lng combinations\n",
    "lats = np.random.uniform(lat_range[0], lat_range[1], size=1500)\n",
    "lngs = np.random.uniform(lng_range[0], lng_range[1], size=1500)\n",
    "lat_lngs = zip(lats, lngs)\n",
    "\n",
    "# Identify nearest city for each lat, lng combination\n",
    "for lat_lng in lat_lngs:\n",
    "    city = citipy.nearest_city(lat_lng[0], lat_lng[1]).city_name\n",
    "    \n",
    "    # If the city is unique, then add it to a our cities list\n",
    "    if city not in cities:\n",
    "        cities.append(city)\n",
    "\n",
    "# Print the city count to confirm sufficient count\n",
    "print(cities)"
   ]
  },
  {
   "cell_type": "code",
   "execution_count": 32,
   "metadata": {
    "scrolled": true
   },
   "outputs": [
    {
     "name": "stdout",
     "output_type": "stream",
     "text": [
      "http://api.openweathermap.org/data/2.5/weather?appid=117dc3b2338db533eebb9a9c407cc7e0&q=\n"
     ]
    }
   ],
   "source": [
    "url = \"http://api.openweathermap.org/data/2.5/weather?\"\n",
    "# weather_api_key = \"117dc3b2338db533eebb9a9c407cc7e0\"\n",
    "query_url = url + \"appid=\" + weather_api_key + \"&q=\"\n",
    "print(query_url)"
   ]
  },
  {
   "cell_type": "code",
   "execution_count": 9,
   "metadata": {},
   "outputs": [
    {
     "data": {
      "text/plain": [
       "{'coord': {'lon': -81.7165, 'lat': 43.7501},\n",
       " 'weather': [{'id': 804,\n",
       "   'main': 'Clouds',\n",
       "   'description': 'overcast clouds',\n",
       "   'icon': '04n'}],\n",
       " 'base': 'stations',\n",
       " 'main': {'temp': 277.15,\n",
       "  'feels_like': 274.8,\n",
       "  'temp_min': 277.15,\n",
       "  'temp_max': 277.15,\n",
       "  'pressure': 1014,\n",
       "  'humidity': 87},\n",
       " 'visibility': 10000,\n",
       " 'wind': {'speed': 2.57, 'deg': 360},\n",
       " 'clouds': {'all': 100},\n",
       " 'dt': 1618627464,\n",
       " 'sys': {'type': 1,\n",
       "  'id': 253,\n",
       "  'country': 'CA',\n",
       "  'sunrise': 1618569698,\n",
       "  'sunset': 1618618266},\n",
       " 'timezone': -14400,\n",
       " 'id': 5962442,\n",
       " 'name': 'Goderich',\n",
       " 'cod': 200}"
      ]
     },
     "execution_count": 9,
     "metadata": {},
     "output_type": "execute_result"
    }
   ],
   "source": [
    "test = requests.get(query_url + cities[1]).json()\n",
    "test"
   ]
  },
  {
   "cell_type": "code",
   "execution_count": 33,
   "metadata": {},
   "outputs": [
    {
     "name": "stdout",
     "output_type": "stream",
     "text": [
      "Beginning Data Retrieval\n",
      "--------------------------------\n",
      "Processing Record 1 | ushuaia\n",
      "Processing Record 2 | goderich\n",
      "Processing Record 3 | port macquarie\n",
      "Processing Record 4 | aloleng\n",
      "Processing Record 5 | san patricio\n",
      "Processing Record 6 | sangar\n",
      "Processing Record 7 | dickinson\n",
      "Processing Record 8 | puerto ayora\n",
      "Processing Record 9 | praia da vitoria\n",
      "Processing Record 10 | cape town\n",
      "Processing Record 11 | magadi\n",
      "Processing Record 12 | albany\n",
      "Processing Record 13 | luanda\n",
      "Processing Record 14 | hithadhoo\n",
      "Processing Record 15 | huangnihe\n",
      "Processing Record 16 | mbuguni\n",
      "Processing Record 17 | rikitea\n",
      "Processing Record 18 | ilulissat\n",
      "Processing Record 19 | kodiak\n",
      "Processing Record 20 | faya\n",
      "City not found. Skipping ...\n",
      "City not found. Skipping ...\n",
      "Processing Record 21 | busselton\n",
      "Processing Record 22 | saint-joseph\n",
      "Processing Record 23 | jamestown\n",
      "Processing Record 24 | margate\n",
      "Processing Record 25 | beloha\n",
      "Processing Record 26 | nome\n",
      "Processing Record 27 | mataura\n",
      "Processing Record 28 | saint-philippe\n",
      "Processing Record 29 | yellowknife\n",
      "City not found. Skipping ...\n",
      "Processing Record 30 | saskylakh\n",
      "Processing Record 31 | anuradhapura\n",
      "Processing Record 32 | antalaha\n",
      "City not found. Skipping ...\n",
      "Processing Record 33 | severnoye\n",
      "Processing Record 34 | avarua\n",
      "Processing Record 35 | east london\n",
      "Processing Record 36 | dong hoi\n",
      "Processing Record 37 | nikolskoye\n",
      "Processing Record 38 | chuy\n",
      "Processing Record 39 | labuhan\n",
      "Processing Record 40 | mormugao\n",
      "Processing Record 41 | tanete\n",
      "City not found. Skipping ...\n",
      "Processing Record 42 | castro\n",
      "Processing Record 43 | kapaa\n",
      "Processing Record 44 | tuatapere\n",
      "Processing Record 45 | preobrazheniye\n",
      "Processing Record 46 | vallenar\n",
      "Processing Record 47 | nanortalik\n",
      "Processing Record 48 | port alfred\n",
      "Processing Record 49 | poum\n",
      "Processing Record 50 | georgetown\n",
      "Processing Record 51 | kaitangata\n",
      "Processing Record 52 | burnie\n",
      "Processing Record 53 | tasiilaq\n",
      "Processing Record 54 | cherskiy\n",
      "City not found. Skipping ...\n",
      "Processing Record 55 | la huaca\n",
      "Processing Record 56 | sur\n",
      "Processing Record 57 | vaini\n",
      "Processing Record 58 | saldanha\n",
      "Processing Record 59 | sokoni\n",
      "Processing Record 60 | lebanon\n",
      "Processing Record 61 | lambarene\n",
      "Processing Record 62 | igrim\n",
      "Processing Record 63 | cap malheureux\n",
      "Processing Record 64 | sobolevo\n",
      "Processing Record 65 | fare\n",
      "Processing Record 66 | bilibino\n",
      "Processing Record 67 | iqaluit\n",
      "Processing Record 68 | cabo san lucas\n",
      "Processing Record 69 | tolga\n",
      "Processing Record 70 | orje\n",
      "City not found. Skipping ...\n",
      "Processing Record 71 | touros\n",
      "Processing Record 72 | lavrentiya\n",
      "Processing Record 73 | codrington\n",
      "City not found. Skipping ...\n",
      "City not found. Skipping ...\n",
      "Processing Record 74 | bontang\n",
      "Processing Record 75 | kavieng\n",
      "Processing Record 76 | punta arenas\n",
      "Processing Record 77 | sete lagoas\n",
      "Processing Record 78 | berbera\n",
      "Processing Record 79 | huercal-overa\n",
      "Processing Record 80 | fortuna\n",
      "Processing Record 81 | chik\n",
      "Processing Record 82 | kavaratti\n",
      "Processing Record 83 | basco\n",
      "Processing Record 84 | ixtapa\n",
      "Processing Record 85 | tuktoyaktuk\n",
      "City not found. Skipping ...\n",
      "Processing Record 86 | north vanlaiphai\n",
      "Processing Record 87 | new norfolk\n",
      "Processing Record 88 | kununurra\n",
      "City not found. Skipping ...\n",
      "Processing Record 89 | robertsport\n",
      "Processing Record 90 | ponta do sol\n",
      "Processing Record 91 | pangoa\n",
      "Processing Record 92 | egvekinot\n",
      "Processing Record 93 | victoria\n",
      "Processing Record 94 | qaanaaq\n",
      "Processing Record 95 | sola\n",
      "Processing Record 96 | lagos\n",
      "Processing Record 97 | barrow\n",
      "Processing Record 98 | butaritari\n",
      "Processing Record 99 | mikun\n",
      "Processing Record 100 | mar del plata\n",
      "Processing Record 101 | ust-omchug\n",
      "Processing Record 102 | qaqortoq\n",
      "Processing Record 103 | hobart\n",
      "Processing Record 104 | rawson\n",
      "Processing Record 105 | grindavik\n",
      "Processing Record 106 | neu wulmstorf\n",
      "Processing Record 107 | moerai\n",
      "Processing Record 108 | bengkulu\n",
      "Processing Record 109 | yuli\n",
      "Processing Record 110 | jasper\n",
      "Processing Record 111 | bathsheba\n",
      "Processing Record 112 | aksu\n",
      "Processing Record 113 | chokurdakh\n",
      "Processing Record 114 | urumqi\n",
      "Processing Record 115 | ekibastuz\n",
      "Processing Record 116 | xuddur\n",
      "Processing Record 117 | mahebourg\n",
      "Processing Record 118 | vestmannaeyjar\n",
      "Processing Record 119 | thompson\n",
      "Processing Record 120 | quatre cocos\n",
      "Processing Record 121 | provideniya\n",
      "Processing Record 122 | zanesville\n",
      "Processing Record 123 | shakawe\n",
      "Processing Record 124 | mocuba\n",
      "Processing Record 125 | buala\n",
      "Processing Record 126 | havre-saint-pierre\n",
      "Processing Record 127 | faanui\n",
      "Processing Record 128 | oussouye\n",
      "Processing Record 129 | hualmay\n",
      "Processing Record 130 | sadove\n",
      "Processing Record 131 | esperance\n",
      "Processing Record 132 | bluff\n",
      "Processing Record 133 | fort nelson\n",
      "Processing Record 134 | pionerskiy\n",
      "Processing Record 135 | leningradskiy\n",
      "Processing Record 136 | la ronge\n",
      "Processing Record 137 | pelym\n",
      "Processing Record 138 | hermanus\n",
      "Processing Record 139 | coihaique\n",
      "Processing Record 140 | veraval\n",
      "Processing Record 141 | bubaque\n",
      "Processing Record 142 | dikson\n",
      "Processing Record 143 | lac du bonnet\n",
      "Processing Record 144 | union\n",
      "Processing Record 145 | porto novo\n",
      "Processing Record 146 | kondinskoye\n",
      "Processing Record 147 | havoysund\n",
      "Processing Record 148 | iquitos\n",
      "Processing Record 149 | starokozache\n",
      "Processing Record 150 | vrangel\n",
      "Processing Record 151 | kolondieba\n",
      "Processing Record 152 | kumluca\n",
      "Processing Record 153 | karratha\n",
      "City not found. Skipping ...\n",
      "Processing Record 154 | campbell river\n",
      "Processing Record 155 | pimentel\n",
      "Processing Record 156 | alofi\n",
      "Processing Record 157 | copiapo\n",
      "Processing Record 158 | kasumigaura\n",
      "Processing Record 159 | arraial do cabo\n",
      "City not found. Skipping ...\n",
      "Processing Record 160 | richards bay\n",
      "Processing Record 161 | sitka\n",
      "Processing Record 162 | ballitoville\n",
      "Processing Record 163 | hay river\n",
      "Processing Record 164 | chai badan\n",
      "Processing Record 165 | aswan\n",
      "Processing Record 166 | yermish\n",
      "Processing Record 167 | prince rupert\n",
      "Processing Record 168 | jiaonan\n",
      "Processing Record 169 | miyako\n",
      "Processing Record 170 | los aquijes\n",
      "Processing Record 171 | yumen\n",
      "Processing Record 172 | nsanje\n",
      "City not found. Skipping ...\n",
      "Processing Record 173 | carnarvon\n",
      "City not found. Skipping ...\n",
      "Processing Record 174 | iskateley\n",
      "Processing Record 175 | dudinka\n",
      "Processing Record 176 | yantal\n",
      "Processing Record 177 | tsimlyansk\n",
      "Processing Record 178 | maceio\n",
      "City not found. Skipping ...\n",
      "Processing Record 179 | sambava\n",
      "Processing Record 180 | wasilla\n",
      "Processing Record 181 | shush\n",
      "Processing Record 182 | geraldton\n",
      "Processing Record 183 | lebu\n",
      "Processing Record 184 | sorland\n",
      "Processing Record 185 | sept-iles\n",
      "Processing Record 186 | guaruja\n",
      "Processing Record 187 | najran\n",
      "Processing Record 188 | vardo\n",
      "Processing Record 189 | filingue\n",
      "Processing Record 190 | necochea\n",
      "City not found. Skipping ...\n",
      "Processing Record 191 | pangnirtung\n",
      "City not found. Skipping ...\n",
      "Processing Record 192 | seoul\n",
      "Processing Record 193 | hasaki\n",
      "Processing Record 194 | garbolovo\n",
      "Processing Record 195 | asau\n",
      "Processing Record 196 | gannan\n",
      "Processing Record 197 | muana\n",
      "Processing Record 198 | atuona\n",
      "Processing Record 199 | crotone\n",
      "Processing Record 200 | shingu\n",
      "Processing Record 201 | changping\n",
      "Processing Record 202 | sinnamary\n",
      "Processing Record 203 | hima\n",
      "Processing Record 204 | muros\n",
      "Processing Record 205 | jinxiang\n",
      "Processing Record 206 | makakilo city\n",
      "Processing Record 207 | san cristobal\n",
      "Processing Record 208 | ribeira grande\n",
      "Processing Record 209 | saint anthony\n",
      "Processing Record 210 | calvinia\n",
      "Processing Record 211 | westport\n",
      "Processing Record 212 | baoshan\n",
      "Processing Record 213 | champerico\n",
      "Processing Record 214 | jaltocan\n",
      "City not found. Skipping ...\n",
      "Processing Record 215 | clyde river\n",
      "Processing Record 216 | pandan\n",
      "Processing Record 217 | lompoc\n",
      "Processing Record 218 | queenstown\n",
      "Processing Record 219 | torbay\n",
      "Processing Record 220 | yerbogachen\n",
      "Processing Record 221 | estelle\n",
      "Processing Record 222 | los llanos de aridane\n",
      "Processing Record 223 | itoman\n",
      "Processing Record 224 | hilo\n",
      "Processing Record 225 | klaksvik\n",
      "Processing Record 226 | shaoguan\n",
      "Processing Record 227 | vila velha\n",
      "City not found. Skipping ...\n",
      "Processing Record 228 | yurimaguas\n",
      "Processing Record 229 | saint george\n",
      "Processing Record 230 | mitsamiouli\n",
      "Processing Record 231 | naryan-mar\n",
      "City not found. Skipping ...\n"
     ]
    },
    {
     "name": "stdout",
     "output_type": "stream",
     "text": [
      "Processing Record 232 | kahului\n",
      "City not found. Skipping ...\n",
      "Processing Record 233 | tilichiki\n",
      "Processing Record 234 | rakai\n",
      "Processing Record 235 | bambous virieux\n",
      "Processing Record 236 | kem\n",
      "Processing Record 237 | yichang\n",
      "Processing Record 238 | vao\n",
      "Processing Record 239 | kupang\n",
      "Processing Record 240 | airai\n",
      "Processing Record 241 | port hardy\n",
      "Processing Record 242 | yenagoa\n",
      "Processing Record 243 | witu\n",
      "Processing Record 244 | salalah\n",
      "Processing Record 245 | matara\n",
      "Processing Record 246 | onega\n",
      "Processing Record 247 | fairbanks\n",
      "Processing Record 248 | kolchugino\n",
      "Processing Record 249 | lorengau\n",
      "Processing Record 250 | upernavik\n",
      "City not found. Skipping ...\n",
      "Processing Record 251 | erenhot\n",
      "Processing Record 252 | norman wells\n",
      "Processing Record 253 | caraballeda\n",
      "Processing Record 254 | pisco\n",
      "Processing Record 255 | atar\n",
      "Processing Record 256 | kiunga\n",
      "City not found. Skipping ...\n",
      "Processing Record 257 | ishigaki\n",
      "Processing Record 258 | maragogi\n",
      "Processing Record 259 | safaga\n",
      "Processing Record 260 | rio gallegos\n",
      "Processing Record 261 | shillong\n",
      "Processing Record 262 | eydhafushi\n",
      "Processing Record 263 | peniche\n",
      "Processing Record 264 | carlyle\n",
      "Processing Record 265 | kruisfontein\n",
      "Processing Record 266 | pevek\n",
      "Processing Record 267 | morondava\n",
      "City not found. Skipping ...\n",
      "Processing Record 268 | mount gambier\n",
      "Processing Record 269 | tahta\n",
      "Processing Record 270 | kloulklubed\n",
      "Processing Record 271 | santa marta\n",
      "Processing Record 272 | beringovskiy\n",
      "Processing Record 273 | jacareacanga\n",
      "Processing Record 274 | pacific grove\n",
      "Processing Record 275 | katsuura\n",
      "Processing Record 276 | kushima\n",
      "Processing Record 277 | jinan\n",
      "Processing Record 278 | lermontovka\n",
      "Processing Record 279 | orlik\n",
      "Processing Record 280 | kyaukse\n",
      "City not found. Skipping ...\n",
      "Processing Record 281 | san quintin\n",
      "Processing Record 282 | sheridan\n",
      "Processing Record 283 | aripuana\n",
      "Processing Record 284 | maba\n",
      "Processing Record 285 | cidreira\n",
      "Processing Record 286 | huarmey\n",
      "Processing Record 287 | maputo\n",
      "Processing Record 288 | santa rosa\n",
      "Processing Record 289 | puerto narino\n",
      "Processing Record 290 | kadoma\n",
      "Processing Record 291 | xingyi\n",
      "Processing Record 292 | rocha\n",
      "City not found. Skipping ...\n",
      "City not found. Skipping ...\n",
      "Processing Record 293 | bredasdorp\n",
      "Processing Record 294 | ugoofaaru\n",
      "Processing Record 295 | lagoa\n",
      "Processing Record 296 | bethel\n",
      "Processing Record 297 | padang\n",
      "Processing Record 298 | warwick\n",
      "Processing Record 299 | athabasca\n",
      "Processing Record 300 | la tuque\n",
      "Processing Record 301 | farah\n",
      "Processing Record 302 | kalemie\n",
      "Processing Record 303 | severo-kurilsk\n",
      "Processing Record 304 | belmonte\n",
      "Processing Record 305 | ziro\n",
      "Processing Record 306 | verkhoyansk\n",
      "Processing Record 307 | lugovoy\n",
      "Processing Record 308 | isangel\n",
      "City not found. Skipping ...\n",
      "Processing Record 309 | brae\n",
      "Processing Record 310 | parati\n",
      "City not found. Skipping ...\n",
      "Processing Record 311 | kendari\n",
      "Processing Record 312 | hovd\n",
      "Processing Record 313 | turukhansk\n",
      "Processing Record 314 | west wendover\n",
      "Processing Record 315 | lodja\n",
      "Processing Record 316 | sterling\n",
      "Processing Record 317 | san joaquin\n",
      "Processing Record 318 | winsum\n",
      "Processing Record 319 | adre\n",
      "Processing Record 320 | komsomolskiy\n",
      "Processing Record 321 | obo\n",
      "Processing Record 322 | santander\n",
      "Processing Record 323 | franklin park\n",
      "Processing Record 324 | mount isa\n",
      "City not found. Skipping ...\n",
      "Processing Record 325 | barra\n",
      "Processing Record 326 | nurlat\n",
      "Processing Record 327 | oistins\n",
      "Processing Record 328 | palmer\n",
      "Processing Record 329 | zhigansk\n",
      "Processing Record 330 | znamenskoye\n",
      "Processing Record 331 | husum\n",
      "Processing Record 332 | naze\n",
      "Processing Record 333 | portland\n",
      "Processing Record 334 | minab\n",
      "Processing Record 335 | raudeberg\n",
      "Processing Record 336 | tumbes\n",
      "Processing Record 337 | unai\n",
      "Processing Record 338 | sebezh\n",
      "Processing Record 339 | namibe\n",
      "Processing Record 340 | chukhloma\n",
      "Processing Record 341 | mattru\n",
      "Processing Record 342 | te anau\n",
      "Processing Record 343 | narsaq\n",
      "Processing Record 344 | cedar city\n",
      "Processing Record 345 | oyama\n",
      "Processing Record 346 | rovaniemi\n",
      "Processing Record 347 | eureka\n",
      "Processing Record 348 | mitzic\n",
      "Processing Record 349 | barra patuca\n",
      "Processing Record 350 | bulgan\n",
      "Processing Record 351 | toyooka\n",
      "Processing Record 352 | azare\n",
      "Processing Record 353 | el seibo\n",
      "Processing Record 354 | puerto palomas\n",
      "Processing Record 355 | nemuro\n",
      "Processing Record 356 | jatibarang\n",
      "Processing Record 357 | kerman\n",
      "Processing Record 358 | mandera\n",
      "Processing Record 359 | kamien pomorski\n",
      "Processing Record 360 | wajir\n",
      "Processing Record 361 | novichikha\n",
      "Processing Record 362 | northam\n",
      "Processing Record 363 | choya\n",
      "Processing Record 364 | naisud\n",
      "Processing Record 365 | cayenne\n",
      "Processing Record 366 | anshun\n",
      "Processing Record 367 | hirara\n",
      "Processing Record 368 | vestmanna\n",
      "Processing Record 369 | neuquen\n",
      "Processing Record 370 | boma\n",
      "Processing Record 371 | slobodskoy\n",
      "Processing Record 372 | gat\n",
      "Processing Record 373 | ewa beach\n",
      "Processing Record 374 | atambua\n",
      "Processing Record 375 | souillac\n",
      "Processing Record 376 | sao filipe\n",
      "Processing Record 377 | svetlaya\n",
      "Processing Record 378 | zachary\n",
      "Processing Record 379 | baghdad\n",
      "Processing Record 380 | yulara\n",
      "Processing Record 381 | omaruru\n",
      "Processing Record 382 | yashan\n",
      "Processing Record 383 | berthierville\n",
      "Processing Record 384 | tual\n",
      "Processing Record 385 | lasa\n",
      "Processing Record 386 | ambatofinandrahana\n",
      "Processing Record 387 | humaita\n",
      "Processing Record 388 | acarau\n",
      "Processing Record 389 | ust-kan\n",
      "Processing Record 390 | palembang\n",
      "Processing Record 391 | talnakh\n",
      "Processing Record 392 | cabedelo\n",
      "Processing Record 393 | marrakesh\n",
      "Processing Record 394 | avera\n",
      "Processing Record 395 | tura\n",
      "Processing Record 396 | anadyr\n",
      "Processing Record 397 | bavly\n",
      "Processing Record 398 | arman\n",
      "Processing Record 399 | ponta delgada\n",
      "Processing Record 400 | gorontalo\n",
      "Processing Record 401 | kautokeino\n",
      "Processing Record 402 | awjilah\n",
      "Processing Record 403 | fukue\n",
      "Processing Record 404 | phalaborwa\n",
      "City not found. Skipping ...\n",
      "Processing Record 405 | ostrovnoy\n",
      "Processing Record 406 | hami\n",
      "Processing Record 407 | kismayo\n",
      "Processing Record 408 | ciudad bolivar\n",
      "Processing Record 409 | semikarakorsk\n",
      "Processing Record 410 | ajra\n",
      "Processing Record 411 | marzuq\n",
      "Processing Record 412 | zhezkazgan\n",
      "City not found. Skipping ...\n",
      "Processing Record 413 | bahia blanca\n",
      "Processing Record 414 | gigmoto\n",
      "Processing Record 415 | carballo\n",
      "Processing Record 416 | jaisalmer\n",
      "Processing Record 417 | neiafu\n",
      "Processing Record 418 | biak\n",
      "Processing Record 419 | indore\n",
      "Processing Record 420 | vanimo\n",
      "Processing Record 421 | ancud\n",
      "Processing Record 422 | arlit\n",
      "Processing Record 423 | waipawa\n",
      "Processing Record 424 | general roca\n",
      "City not found. Skipping ...\n",
      "Processing Record 425 | andra\n",
      "Processing Record 426 | haslett\n",
      "Processing Record 427 | joshimath\n",
      "Processing Record 428 | villacarrillo\n",
      "Processing Record 429 | kamenka\n",
      "City not found. Skipping ...\n",
      "Processing Record 430 | khatanga\n",
      "Processing Record 431 | harsin\n",
      "Processing Record 432 | paragominas\n",
      "Processing Record 433 | port elizabeth\n",
      "Processing Record 434 | ola\n",
      "Processing Record 435 | chumikan\n",
      "Processing Record 436 | saravena\n",
      "Processing Record 437 | escuinapa\n",
      "City not found. Skipping ...\n",
      "Processing Record 438 | balkanabat\n",
      "City not found. Skipping ...\n",
      "Processing Record 439 | chapada dos guimaraes\n",
      "Processing Record 440 | san rafael\n",
      "Processing Record 441 | aklavik\n",
      "Processing Record 442 | vila franca do campo\n",
      "Processing Record 443 | abu kamal\n",
      "Processing Record 444 | arkhipo-osipovka\n",
      "Processing Record 445 | santa cruz\n",
      "Processing Record 446 | manta\n",
      "Processing Record 447 | cobija\n",
      "Processing Record 448 | mujiayingzi\n",
      "Processing Record 449 | umm kaddadah\n",
      "Processing Record 450 | jumla\n",
      "Processing Record 451 | ahipara\n",
      "Processing Record 452 | aleksandrov gay\n",
      "Processing Record 453 | buraydah\n",
      "Processing Record 454 | abingdon\n",
      "Processing Record 455 | baherden\n",
      "Processing Record 456 | honningsvag\n",
      "Processing Record 457 | qasigiannguit\n",
      "Processing Record 458 | nouadhibou\n",
      "Processing Record 459 | dhidhdhoo\n",
      "Processing Record 460 | nanakuli\n",
      "Processing Record 461 | bereda\n",
      "Processing Record 462 | ulu-telyak\n",
      "Processing Record 463 | bagotville\n",
      "Processing Record 464 | englewood\n",
      "City not found. Skipping ...\n",
      "Processing Record 465 | port lincoln\n"
     ]
    },
    {
     "name": "stdout",
     "output_type": "stream",
     "text": [
      "Processing Record 466 | tigil\n",
      "City not found. Skipping ...\n",
      "Processing Record 467 | acapulco\n",
      "Processing Record 468 | soller\n",
      "Processing Record 469 | harper\n",
      "Processing Record 470 | caravelas\n",
      "Processing Record 471 | fort william\n",
      "Processing Record 472 | sete\n",
      "Processing Record 473 | syamzha\n",
      "Processing Record 474 | zhoucheng\n",
      "Processing Record 475 | yaan\n",
      "Processing Record 476 | riyadh\n",
      "Processing Record 477 | tiksi\n",
      "Processing Record 478 | mayfield\n",
      "Processing Record 479 | berlin\n",
      "Processing Record 480 | leshukonskoye\n",
      "Processing Record 481 | sarangani\n",
      "Processing Record 482 | husavik\n",
      "Processing Record 483 | japura\n",
      "Processing Record 484 | silleda\n",
      "Processing Record 485 | baykit\n",
      "Processing Record 486 | sainte-thecle\n",
      "Processing Record 487 | sistranda\n",
      "Processing Record 488 | oktyabrskoye\n",
      "Processing Record 489 | luganville\n",
      "Processing Record 490 | amapa\n",
      "Processing Record 491 | wanaka\n",
      "Processing Record 492 | hanzhong\n",
      "Processing Record 493 | nagaur\n",
      "Processing Record 494 | utete\n",
      "Processing Record 495 | tiznit\n",
      "Processing Record 496 | casma\n",
      "Processing Record 497 | saint-francois\n",
      "Processing Record 498 | flinders\n",
      "Processing Record 499 | rio grande\n",
      "Processing Record 500 | homer\n",
      "Processing Record 501 | kutum\n",
      "Processing Record 502 | puerto ayacucho\n",
      "Processing Record 503 | ambon\n",
      "Processing Record 504 | dimbokro\n",
      "Processing Record 505 | vakhrushev\n",
      "Processing Record 506 | auki\n",
      "Processing Record 507 | nelson\n",
      "Processing Record 508 | tagusao\n",
      "Processing Record 509 | severomuysk\n",
      "Processing Record 510 | evensk\n",
      "Processing Record 511 | yakeshi\n",
      "Processing Record 512 | talaya\n",
      "Processing Record 513 | nabire\n",
      "Processing Record 514 | manyana\n",
      "Processing Record 515 | tomesti\n",
      "Processing Record 516 | rio casca\n",
      "Processing Record 517 | hervey bay\n",
      "Processing Record 518 | lahaina\n",
      "Processing Record 519 | moron\n",
      "Processing Record 520 | shimoda\n",
      "Processing Record 521 | cordoba\n",
      "Processing Record 522 | suclayin\n",
      "Processing Record 523 | emba\n",
      "Processing Record 524 | killarney\n",
      "Processing Record 525 | college\n",
      "Processing Record 526 | yang talat\n",
      "Processing Record 527 | kirovskiy\n",
      "Processing Record 528 | aktau\n",
      "Processing Record 529 | pasighat\n",
      "Processing Record 530 | punta de piedra\n",
      "Processing Record 531 | dali\n",
      "Processing Record 532 | tshikapa\n",
      "Processing Record 533 | bonthe\n",
      "Processing Record 534 | toora-khem\n",
      "City not found. Skipping ...\n",
      "Processing Record 535 | olafsvik\n",
      "Processing Record 536 | aksarayskiy\n",
      "Processing Record 537 | saint-georges\n",
      "Processing Record 538 | sao miguel do iguacu\n",
      "Processing Record 539 | aranos\n",
      "City not found. Skipping ...\n",
      "Processing Record 540 | nipawin\n",
      "Processing Record 541 | grand gaube\n",
      "Processing Record 542 | pandharpur\n",
      "Processing Record 543 | longyearbyen\n",
      "Processing Record 544 | genhe\n",
      "City not found. Skipping ...\n",
      "City not found. Skipping ...\n",
      "Processing Record 545 | ustrzyki dolne\n",
      "Processing Record 546 | healdsburg\n",
      "Processing Record 547 | salinas\n",
      "Processing Record 548 | pyshma\n",
      "Processing Record 549 | ninohe\n",
      "Processing Record 550 | houma\n",
      "Processing Record 551 | constitucion\n",
      "Processing Record 552 | ballachulish\n",
      "Processing Record 553 | kadi\n",
      "Processing Record 554 | kamaishi\n",
      "Processing Record 555 | lexington\n",
      "Processing Record 556 | pakhtakoron\n",
      "Processing Record 557 | littlehampton\n",
      "Processing Record 558 | huilong\n",
      "Processing Record 559 | kargil\n",
      "Processing Record 560 | takoradi\n",
      "Processing Record 561 | mayo\n",
      "Processing Record 562 | vanavara\n"
     ]
    }
   ],
   "source": [
    "name = []\n",
    "lat = []\n",
    "lng = []\n",
    "temp = []\n",
    "humidity = []\n",
    "cloudiness = []\n",
    "wind = []\n",
    "country = []\n",
    "date = []\n",
    "y = 1\n",
    "\n",
    "print(\"Beginning Data Retrieval\")\n",
    "print(\"--------------------------------\")\n",
    "\n",
    "for c in cities:\n",
    "    try:\n",
    "        city = requests.get(query_url + c).json()\n",
    "        name.append(city[\"name\"])\n",
    "        lat.append(city[\"coord\"][\"lat\"])\n",
    "        lng.append(city[\"coord\"][\"lon\"])\n",
    "        temp.append(city[\"main\"][\"temp\"])\n",
    "        humidity.append(city[\"main\"][\"humidity\"])\n",
    "        cloudiness.append(city[\"clouds\"][\"all\"])\n",
    "        wind.append(city[\"wind\"][\"speed\"])\n",
    "        country.append(city[\"sys\"][\"country\"])\n",
    "        date.append(city[\"dt\"])\n",
    "        print(f\"Processing Record {y} | {c}\")\n",
    "        y = y+1\n",
    "    except:\n",
    "        print(\"City not found. Skipping ...\")\n",
    "\n"
   ]
  },
  {
   "cell_type": "code",
   "execution_count": 17,
   "metadata": {},
   "outputs": [
    {
     "data": {
      "text/plain": [
       "['Ushuaia',\n",
       " 'Goderich',\n",
       " 'Port Macquarie',\n",
       " 'Aloleng',\n",
       " 'San Patricio',\n",
       " 'Sangar',\n",
       " 'Dickinson',\n",
       " 'Puerto Ayora',\n",
       " 'Praia da Vitória',\n",
       " 'Cape Town',\n",
       " 'Māgadi',\n",
       " 'Albany',\n",
       " 'Luanda',\n",
       " 'Hithadhoo',\n",
       " 'Huangnihe',\n",
       " 'Mbuguni',\n",
       " 'Rikitea',\n",
       " 'Ilulissat',\n",
       " 'Saint Paul Harbor',\n",
       " 'Faya']"
      ]
     },
     "execution_count": 17,
     "metadata": {},
     "output_type": "execute_result"
    }
   ],
   "source": [
    "name"
   ]
  },
  {
   "cell_type": "code",
   "execution_count": 23,
   "metadata": {
    "scrolled": false
   },
   "outputs": [
    {
     "data": {
      "text/html": [
       "<div>\n",
       "<style scoped>\n",
       "    .dataframe tbody tr th:only-of-type {\n",
       "        vertical-align: middle;\n",
       "    }\n",
       "\n",
       "    .dataframe tbody tr th {\n",
       "        vertical-align: top;\n",
       "    }\n",
       "\n",
       "    .dataframe thead th {\n",
       "        text-align: right;\n",
       "    }\n",
       "</style>\n",
       "<table border=\"1\" class=\"dataframe\">\n",
       "  <thead>\n",
       "    <tr style=\"text-align: right;\">\n",
       "      <th></th>\n",
       "      <th>City</th>\n",
       "      <th>Lat</th>\n",
       "      <th>Lng</th>\n",
       "      <th>Max Temp</th>\n",
       "      <th>Humidity</th>\n",
       "      <th>Cloudiness</th>\n",
       "      <th>Wind Speed</th>\n",
       "      <th>Country</th>\n",
       "      <th>Date</th>\n",
       "    </tr>\n",
       "  </thead>\n",
       "  <tbody>\n",
       "    <tr>\n",
       "      <th>0</th>\n",
       "      <td>Ushuaia</td>\n",
       "      <td>-54.8000</td>\n",
       "      <td>-68.3000</td>\n",
       "      <td>279.15</td>\n",
       "      <td>75</td>\n",
       "      <td>90</td>\n",
       "      <td>2.06</td>\n",
       "      <td>AR</td>\n",
       "      <td>1618627466</td>\n",
       "    </tr>\n",
       "    <tr>\n",
       "      <th>1</th>\n",
       "      <td>Goderich</td>\n",
       "      <td>43.7501</td>\n",
       "      <td>-81.7165</td>\n",
       "      <td>277.15</td>\n",
       "      <td>87</td>\n",
       "      <td>100</td>\n",
       "      <td>2.57</td>\n",
       "      <td>CA</td>\n",
       "      <td>1618627464</td>\n",
       "    </tr>\n",
       "    <tr>\n",
       "      <th>2</th>\n",
       "      <td>Port Macquarie</td>\n",
       "      <td>-31.4333</td>\n",
       "      <td>152.9167</td>\n",
       "      <td>287.91</td>\n",
       "      <td>100</td>\n",
       "      <td>90</td>\n",
       "      <td>4.63</td>\n",
       "      <td>AU</td>\n",
       "      <td>1618627267</td>\n",
       "    </tr>\n",
       "    <tr>\n",
       "      <th>3</th>\n",
       "      <td>Aloleng</td>\n",
       "      <td>16.1307</td>\n",
       "      <td>119.7824</td>\n",
       "      <td>302.63</td>\n",
       "      <td>66</td>\n",
       "      <td>98</td>\n",
       "      <td>4.93</td>\n",
       "      <td>PH</td>\n",
       "      <td>1618627469</td>\n",
       "    </tr>\n",
       "    <tr>\n",
       "      <th>4</th>\n",
       "      <td>San Patricio</td>\n",
       "      <td>28.0170</td>\n",
       "      <td>-97.5169</td>\n",
       "      <td>297.07</td>\n",
       "      <td>94</td>\n",
       "      <td>90</td>\n",
       "      <td>3.09</td>\n",
       "      <td>US</td>\n",
       "      <td>1618627483</td>\n",
       "    </tr>\n",
       "    <tr>\n",
       "      <th>...</th>\n",
       "      <td>...</td>\n",
       "      <td>...</td>\n",
       "      <td>...</td>\n",
       "      <td>...</td>\n",
       "      <td>...</td>\n",
       "      <td>...</td>\n",
       "      <td>...</td>\n",
       "      <td>...</td>\n",
       "      <td>...</td>\n",
       "    </tr>\n",
       "    <tr>\n",
       "      <th>557</th>\n",
       "      <td>Huilong</td>\n",
       "      <td>31.8111</td>\n",
       "      <td>121.6550</td>\n",
       "      <td>291.16</td>\n",
       "      <td>74</td>\n",
       "      <td>95</td>\n",
       "      <td>0.89</td>\n",
       "      <td>CN</td>\n",
       "      <td>1618627877</td>\n",
       "    </tr>\n",
       "    <tr>\n",
       "      <th>558</th>\n",
       "      <td>Kargil</td>\n",
       "      <td>34.5667</td>\n",
       "      <td>76.1000</td>\n",
       "      <td>274.24</td>\n",
       "      <td>73</td>\n",
       "      <td>100</td>\n",
       "      <td>1.49</td>\n",
       "      <td>IN</td>\n",
       "      <td>1618627877</td>\n",
       "    </tr>\n",
       "    <tr>\n",
       "      <th>559</th>\n",
       "      <td>Takoradze</td>\n",
       "      <td>4.8845</td>\n",
       "      <td>-1.7554</td>\n",
       "      <td>298.79</td>\n",
       "      <td>86</td>\n",
       "      <td>87</td>\n",
       "      <td>1.64</td>\n",
       "      <td>GH</td>\n",
       "      <td>1618627878</td>\n",
       "    </tr>\n",
       "    <tr>\n",
       "      <th>560</th>\n",
       "      <td>Mayo</td>\n",
       "      <td>38.8876</td>\n",
       "      <td>-76.5119</td>\n",
       "      <td>283.32</td>\n",
       "      <td>60</td>\n",
       "      <td>5</td>\n",
       "      <td>3.13</td>\n",
       "      <td>US</td>\n",
       "      <td>1618627854</td>\n",
       "    </tr>\n",
       "    <tr>\n",
       "      <th>561</th>\n",
       "      <td>Vanavara</td>\n",
       "      <td>60.3400</td>\n",
       "      <td>102.2797</td>\n",
       "      <td>262.79</td>\n",
       "      <td>63</td>\n",
       "      <td>93</td>\n",
       "      <td>6.00</td>\n",
       "      <td>RU</td>\n",
       "      <td>1618627878</td>\n",
       "    </tr>\n",
       "  </tbody>\n",
       "</table>\n",
       "<p>562 rows × 9 columns</p>\n",
       "</div>"
      ],
      "text/plain": [
       "               City      Lat       Lng  Max Temp  Humidity  Cloudiness  \\\n",
       "0           Ushuaia -54.8000  -68.3000    279.15        75          90   \n",
       "1          Goderich  43.7501  -81.7165    277.15        87         100   \n",
       "2    Port Macquarie -31.4333  152.9167    287.91       100          90   \n",
       "3           Aloleng  16.1307  119.7824    302.63        66          98   \n",
       "4      San Patricio  28.0170  -97.5169    297.07        94          90   \n",
       "..              ...      ...       ...       ...       ...         ...   \n",
       "557         Huilong  31.8111  121.6550    291.16        74          95   \n",
       "558          Kargil  34.5667   76.1000    274.24        73         100   \n",
       "559       Takoradze   4.8845   -1.7554    298.79        86          87   \n",
       "560            Mayo  38.8876  -76.5119    283.32        60           5   \n",
       "561        Vanavara  60.3400  102.2797    262.79        63          93   \n",
       "\n",
       "     Wind Speed Country        Date  \n",
       "0          2.06      AR  1618627466  \n",
       "1          2.57      CA  1618627464  \n",
       "2          4.63      AU  1618627267  \n",
       "3          4.93      PH  1618627469  \n",
       "4          3.09      US  1618627483  \n",
       "..          ...     ...         ...  \n",
       "557        0.89      CN  1618627877  \n",
       "558        1.49      IN  1618627877  \n",
       "559        1.64      GH  1618627878  \n",
       "560        3.13      US  1618627854  \n",
       "561        6.00      RU  1618627878  \n",
       "\n",
       "[562 rows x 9 columns]"
      ]
     },
     "execution_count": 23,
     "metadata": {},
     "output_type": "execute_result"
    }
   ],
   "source": [
    "city_df = pd.DataFrame({\"City\": name,\n",
    "                       \"Lat\": lat,\n",
    "                       \"Lng\": lng,\n",
    "                       \"Max Temp\": temp,\n",
    "                       \"Humidity\": humidity,\n",
    "                       \"Cloudiness\": cloudiness,\n",
    "                       \"Wind Speed\": wind,\n",
    "                       \"Country\": country,\n",
    "                       \"Date\": date\n",
    "                       })\n",
    "city_df"
   ]
  },
  {
   "cell_type": "code",
   "execution_count": 8,
   "metadata": {},
   "outputs": [
    {
     "data": {
      "text/plain": [
       "<bound method NDFrame.describe of               City      Lat       Lng  Max Temp  Humidity  Cloudiness  \\\n",
       "0     Puerto Ayora  -0.7393  -90.3518    297.59        97          94   \n",
       "1           Torbay  47.6666  -52.7314    273.25        93          90   \n",
       "2          Mareeba -17.0000  145.4333    303.01        58          90   \n",
       "3           Hasaki  35.7333  140.8333    291.01        63          75   \n",
       "4     Punta Arenas -53.1500  -70.9167    282.09        71           0   \n",
       "..             ...      ...       ...       ...       ...         ...   \n",
       "570          Mahon  39.8885    4.2658    283.15        57           0   \n",
       "571     Kralendijk  12.1500  -68.2667    300.15        83          75   \n",
       "572       Seymchan  62.8833  152.4333    268.70        71          19   \n",
       "573      Nantucket  41.2835  -70.0995    276.84        93          90   \n",
       "574  Stevens Point  44.5236  -89.5746    279.36        49           1   \n",
       "\n",
       "     Wind Speed Country        Date  \n",
       "0          1.34      EC  1618625881  \n",
       "1          5.66      CA  1618626044  \n",
       "2          8.75      AU  1618626119  \n",
       "3          8.23      JP  1618625884  \n",
       "4          8.75      CL  1618625807  \n",
       "..          ...     ...         ...  \n",
       "570        4.12      ES  1618626270  \n",
       "571        7.20      BQ  1618626270  \n",
       "572        3.79      RU  1618626270  \n",
       "573        7.20      US  1618625991  \n",
       "574        4.45      US  1618626271  \n",
       "\n",
       "[575 rows x 9 columns]>"
      ]
     },
     "execution_count": 8,
     "metadata": {},
     "output_type": "execute_result"
    }
   ],
   "source": [
    "city_df.describe"
   ]
  },
  {
   "cell_type": "code",
   "execution_count": 9,
   "metadata": {},
   "outputs": [],
   "source": [
    "#save to csv\n",
    "pd.DataFrame.to_csv(city_df, \"city.csv\")"
   ]
  },
  {
   "cell_type": "code",
   "execution_count": 10,
   "metadata": {},
   "outputs": [
    {
     "name": "stdout",
     "output_type": "stream",
     "text": [
      "Empty DataFrame\n",
      "Columns: [City, Lat, Lng, Max Temp, Humidity, Cloudiness, Wind Speed, Country, Date]\n",
      "Index: []\n"
     ]
    }
   ],
   "source": [
    "humidity_over_100 = city_df.loc[city_df[\"Humidity\"]>100]\n",
    "print(humidity_over_100)"
   ]
  },
  {
   "cell_type": "markdown",
   "metadata": {},
   "source": [
    "There are no cities with humidity over 100%"
   ]
  },
  {
   "cell_type": "code",
   "execution_count": 11,
   "metadata": {},
   "outputs": [
    {
     "data": {
      "image/png": "[encoded data removed]",
      "text/plain": [
       "<Figure size 432x288 with 1 Axes>"
      ]
     },
     "metadata": {
      "needs_background": "light"
     },
     "output_type": "display_data"
    }
   ],
   "source": [
    "#lat versus temp scatter\n",
    "plt.scatter(city_df[\"Lat\"],city_df[\"Max Temp\"])\n",
    "plt.xlabel(\"Latitude\")\n",
    "plt.ylabel(\"Temperature in Kelvin\")\n",
    "plt.title(f\"Latitude v. Temperature\")\n",
    "plt.show()"
   ]
  },
  {
   "cell_type": "markdown",
   "metadata": {},
   "source": [
    "This scatter plot shows the relationship between the latitude of different cities versus their temperatures in Kelvin."
   ]
  },
  {
   "cell_type": "code",
   "execution_count": 12,
   "metadata": {},
   "outputs": [
    {
     "data": {
      "image/png": "[encoded data removed]",
      "text/plain": [
       "<Figure size 432x288 with 1 Axes>"
      ]
     },
     "metadata": {
      "needs_background": "light"
     },
     "output_type": "display_data"
    }
   ],
   "source": [
    "#lat versus humidity scatter\n",
    "plt.scatter(city_df[\"Lat\"],city_df[\"Humidity\"])\n",
    "plt.xlabel(\"Latitude\")\n",
    "plt.ylabel(\"Humidity in %\")\n",
    "plt.title(\"Latitude v. Humidity\")\n",
    "plt.show()"
   ]
  },
  {
   "cell_type": "markdown",
   "metadata": {},
   "source": [
    "This scatter plot shows the relationship between the latitude of different cities versus their humidity percentage."
   ]
  },
  {
   "cell_type": "code",
   "execution_count": 13,
   "metadata": {},
   "outputs": [
    {
     "data": {
      "image/png": "[encoded data removed]",
      "text/plain": [
       "<Figure size 432x288 with 1 Axes>"
      ]
     },
     "metadata": {
      "needs_background": "light"
     },
     "output_type": "display_data"
    }
   ],
   "source": [
    "#lat versus cloudiness scatter\n",
    "plt.scatter(city_df[\"Lat\"],city_df[\"Cloudiness\"])\n",
    "plt.xlabel(\"Latitude\")\n",
    "plt.ylabel(\"Cloudiness in %\")\n",
    "plt.title(\"Latitude v. Cloudiness\")\n",
    "plt.show()"
   ]
  },
  {
   "cell_type": "markdown",
   "metadata": {},
   "source": [
    "This scatter plot shows the relationship between the latitude of different cities versus their cloudiness percentage."
   ]
  },
  {
   "cell_type": "code",
   "execution_count": 14,
   "metadata": {},
   "outputs": [
    {
     "data": {
      "image/png": "[encoded data removed]",
      "text/plain": [
       "<Figure size 432x288 with 1 Axes>"
      ]
     },
     "metadata": {
      "needs_background": "light"
     },
     "output_type": "display_data"
    }
   ],
   "source": [
    "#lat versus wind scatter\n",
    "plt.scatter(city_df[\"Lat\"],city_df[\"Wind Speed\"])\n",
    "plt.xlabel(\"Latitude\")\n",
    "plt.ylabel(\"Wind Speed in mph\")\n",
    "plt.title(\"Latitude v. Wind Speed\")\n",
    "plt.show()"
   ]
  },
  {
   "cell_type": "markdown",
   "metadata": {},
   "source": [
    "This scatter plot shows the relationship between the latitude of different cities versus their wind speed in miles per hour."
   ]
  },
  {
   "cell_type": "code",
   "execution_count": 30,
   "metadata": {},
   "outputs": [],
   "source": [
    "northern_hem = city_df.loc[city_df[\"Lat\"]>=0]\n",
    "southern_hem = city_df.loc[city_df[\"Lat\"]<0]"
   ]
  },
  {
   "cell_type": "code",
   "execution_count": 37,
   "metadata": {},
   "outputs": [
    {
     "data": {
      "image/png": "[encoded data removed]",
      "text/plain": [
       "<Figure size 432x288 with 1 Axes>"
      ]
     },
     "metadata": {
      "needs_background": "light"
     },
     "output_type": "display_data"
    }
   ],
   "source": [
    "#northern lat versus temp scatter\n",
    "x_value = northern_hem[\"Lat\"]\n",
    "y_value = northern_hem[\"Max Temp\"]\n",
    "plt.scatter(x_value, y_value, marker = \"o\")\n",
    "(slope, intercept, rvalue, pvalue, stderr) = linregress(x_value, y_value)\n",
    "regress_values = x_value * slope + intercept\n",
    "plt.plot(x_value, regress_values, \"r\")\n",
    "plt.xlabel(\"Latitude\")\n",
    "plt.ylabel(\"Temperature in Kelvin\")\n",
    "plt.title(f\"Latitude v. Temperature for Northern Hemisphere {day}\")\n",
    "plt.show()"
   ]
  },
  {
   "cell_type": "code",
   "execution_count": 17,
   "metadata": {},
   "outputs": [
    {
     "name": "stdout",
     "output_type": "stream",
     "text": [
      "y = -0.5298012732123137x +305.43315462393775\n",
      "0.7745547749972692\n"
     ]
    }
   ],
   "source": [
    "print(f\"y = {slope}x +{intercept}\")\n",
    "print(rvalue**2)"
   ]
  },
  {
   "cell_type": "markdown",
   "metadata": {},
   "source": [
    "In this scatter plot, it shows the relationship between cities with latitudes above 0 degrees and their temperature. There is a strong positive correlation between the two."
   ]
  },
  {
   "cell_type": "code",
   "execution_count": 38,
   "metadata": {},
   "outputs": [
    {
     "data": {
      "image/png": "[encoded data removed]",
      "text/plain": [
       "<Figure size 432x288 with 1 Axes>"
      ]
     },
     "metadata": {
      "needs_background": "light"
     },
     "output_type": "display_data"
    }
   ],
   "source": [
    "#southern lat versus temp scatter\n",
    "x_value = southern_hem[\"Lat\"]\n",
    "y_value = southern_hem[\"Max Temp\"]\n",
    "plt.scatter(x_value, y_value, marker = \"o\")\n",
    "(slope, intercept, rvalue, pvalue, stderr) = linregress(x_value, y_value)\n",
    "regress_values = x_value * slope + intercept\n",
    "plt.plot(x_value, regress_values, \"r\")\n",
    "plt.xlabel(\"Latitude\")\n",
    "plt.ylabel(\"Temperature in F\")\n",
    "plt.title(f\"Latitude v. Temperature for Southern Hemisphere {day}\")\n",
    "plt.show()"
   ]
  },
  {
   "cell_type": "code",
   "execution_count": 19,
   "metadata": {},
   "outputs": [
    {
     "name": "stdout",
     "output_type": "stream",
     "text": [
      "y = 0.3063702048388765x +300.5903751412291\n",
      "0.5126456569270549\n"
     ]
    }
   ],
   "source": [
    "print(f\"y = {slope}x +{intercept}\")\n",
    "print(rvalue**2)"
   ]
  },
  {
   "cell_type": "markdown",
   "metadata": {},
   "source": [
    "In this scatter plot, it shows the relationship between cities with latitudes below 0 degrees and their temperature. There is a weak positive correlation between the two."
   ]
  },
  {
   "cell_type": "code",
   "execution_count": 39,
   "metadata": {},
   "outputs": [
    {
     "data": {
      "image/png": "[encoded data removed]",
      "text/plain": [
       "<Figure size 432x288 with 1 Axes>"
      ]
     },
     "metadata": {
      "needs_background": "light"
     },
     "output_type": "display_data"
    }
   ],
   "source": [
    "#northern lat versus humidity scatter\n",
    "x_value = northern_hem[\"Lat\"]\n",
    "y_value = northern_hem[\"Humidity\"]\n",
    "plt.scatter(x_value, y_value, marker = \"o\")\n",
    "(slope, intercept, rvalue, pvalue, stderr) = linregress(x_value, y_value)\n",
    "regress_values = x_value * slope + intercept\n",
    "plt.plot(x_value, regress_values, \"r\")\n",
    "plt.xlabel(\"Latitude\")\n",
    "plt.ylabel(\"Humidity in %\")\n",
    "plt.title(f\"Latitude v. Humidity for Northern Hemisphere {day}\")\n",
    "plt.show()"
   ]
  },
  {
   "cell_type": "code",
   "execution_count": 21,
   "metadata": {},
   "outputs": [
    {
     "name": "stdout",
     "output_type": "stream",
     "text": [
      "y = 0.14371792655671575x +63.19870548322635\n",
      "0.015879174426344147\n"
     ]
    }
   ],
   "source": [
    "print(f\"y = {slope}x +{intercept}\")\n",
    "print(rvalue**2)"
   ]
  },
  {
   "cell_type": "markdown",
   "metadata": {},
   "source": [
    "In this scatter plot, it shows the relationship between cities with latitudes above 0 degrees and their humidity percentage. There is a very weak positive correlation between the two."
   ]
  },
  {
   "cell_type": "code",
   "execution_count": 40,
   "metadata": {},
   "outputs": [
    {
     "data": {
      "image/png": "[encoded data removed]",
      "text/plain": [
       "<Figure size 432x288 with 1 Axes>"
      ]
     },
     "metadata": {
      "needs_background": "light"
     },
     "output_type": "display_data"
    }
   ],
   "source": [
    "#southern lat versus humidity scatter\n",
    "x_value = southern_hem[\"Lat\"]\n",
    "y_value = southern_hem[\"Humidity\"]\n",
    "plt.scatter(x_value, y_value, marker = \"o\")\n",
    "(slope, intercept, rvalue, pvalue, stderr) = linregress(x_value, y_value)\n",
    "regress_values = x_value * slope + intercept\n",
    "plt.plot(x_value, regress_values, \"r\")\n",
    "plt.xlabel(\"Latitude\")\n",
    "plt.ylabel(\"Humidity in %\")\n",
    "plt.title(f\"Latitude v. Humidity for Southern Hemisphere {day}\")\n",
    "plt.show()"
   ]
  },
  {
   "cell_type": "code",
   "execution_count": 23,
   "metadata": {},
   "outputs": [
    {
     "name": "stdout",
     "output_type": "stream",
     "text": [
      "y = 0.3994200635824724x +82.43220674164746\n",
      "0.09616940480937963\n"
     ]
    }
   ],
   "source": [
    "print(f\"y = {slope}x +{intercept}\")\n",
    "print(rvalue**2)"
   ]
  },
  {
   "cell_type": "markdown",
   "metadata": {},
   "source": [
    "In this scatter plot, it shows the relationship between cities with latitudes below 0 degrees and their humidity percentage. There is a very weak positive correlation between the two."
   ]
  },
  {
   "cell_type": "code",
   "execution_count": 41,
   "metadata": {},
   "outputs": [
    {
     "data": {
      "image/png": "[encoded data removed]",
      "text/plain": [
       "<Figure size 432x288 with 1 Axes>"
      ]
     },
     "metadata": {
      "needs_background": "light"
     },
     "output_type": "display_data"
    }
   ],
   "source": [
    "#northern lat versus cloudiness scatter\n",
    "x_value = northern_hem[\"Lat\"]\n",
    "y_value = northern_hem[\"Cloudiness\"]\n",
    "plt.scatter(x_value, y_value, marker = \"o\")\n",
    "(slope, intercept, rvalue, pvalue, stderr) = linregress(x_value, y_value)\n",
    "regress_values = x_value * slope + intercept\n",
    "plt.plot(x_value, regress_values, \"r\")\n",
    "plt.xlabel(\"Latitude\")\n",
    "plt.ylabel(\"Cloudiness in %\")\n",
    "plt.title(f\"Latitude v. Cloudiness for Northern Hemisphere {day}\")\n",
    "plt.show()"
   ]
  },
  {
   "cell_type": "code",
   "execution_count": 25,
   "metadata": {},
   "outputs": [
    {
     "name": "stdout",
     "output_type": "stream",
     "text": [
      "y = 0.21654164812129048x +47.138788136950154\n",
      "0.013044528213498767\n"
     ]
    }
   ],
   "source": [
    "print(f\"y = {slope}x +{intercept}\")\n",
    "print(rvalue**2)"
   ]
  },
  {
   "cell_type": "markdown",
   "metadata": {},
   "source": [
    "In this scatter plot, it shows the relationship between cities with latitudes above 0 degrees and their cloudiness percentage. There is a very weak positive correlation between the two."
   ]
  },
  {
   "cell_type": "code",
   "execution_count": 42,
   "metadata": {},
   "outputs": [
    {
     "data": {
      "image/png": "[encoded data removed]",
      "text/plain": [
       "<Figure size 432x288 with 1 Axes>"
      ]
     },
     "metadata": {
      "needs_background": "light"
     },
     "output_type": "display_data"
    }
   ],
   "source": [
    "#southern lat versus cloudiness scatter\n",
    "x_value = southern_hem[\"Lat\"]\n",
    "y_value = southern_hem[\"Cloudiness\"]\n",
    "plt.scatter(x_value, y_value, marker = \"o\")\n",
    "(slope, intercept, rvalue, pvalue, stderr) = linregress(x_value, y_value)\n",
    "regress_values = x_value * slope + intercept\n",
    "plt.plot(x_value, regress_values, \"r\")\n",
    "plt.xlabel(\"Latitude\")\n",
    "plt.ylabel(\"Cloudiness in %\")\n",
    "plt.title(f\"Latitude v. Cloudiness for Southern Hemisphere {day}\")\n",
    "plt.show()"
   ]
  },
  {
   "cell_type": "code",
   "execution_count": 27,
   "metadata": {},
   "outputs": [
    {
     "name": "stdout",
     "output_type": "stream",
     "text": [
      "y = 0.8921131186478193x +70.63923795561237\n",
      "0.09987488909018132\n"
     ]
    }
   ],
   "source": [
    "print(f\"y = {slope}x +{intercept}\")\n",
    "print(rvalue**2)"
   ]
  },
  {
   "cell_type": "markdown",
   "metadata": {},
   "source": [
    "In this scatter plot, it shows the relationship between cities with latitudes below 0 degrees and their cloudiness percentage. There is a very weak positive correlation between the two."
   ]
  },
  {
   "cell_type": "code",
   "execution_count": 43,
   "metadata": {},
   "outputs": [
    {
     "data": {
      "image/png": "[encoded data removed]",
      "text/plain": [
       "<Figure size 432x288 with 1 Axes>"
      ]
     },
     "metadata": {
      "needs_background": "light"
     },
     "output_type": "display_data"
    }
   ],
   "source": [
    "#northern lat versus wind speed scatter\n",
    "x_value = northern_hem[\"Lat\"]\n",
    "y_value = northern_hem[\"Wind Speed\"]\n",
    "plt.scatter(x_value, y_value, marker = \"o\")\n",
    "(slope, intercept, rvalue, pvalue, stderr) = linregress(x_value, y_value)\n",
    "regress_values = x_value * slope + intercept\n",
    "plt.plot(x_value, regress_values, \"r\")\n",
    "plt.xlabel(\"Latitude\")\n",
    "plt.ylabel(\"Wind Speed in mph\")\n",
    "plt.title(f\"Latitude v.Wind Speed for Northern Hemisphere {day}\")\n",
    "plt.show()"
   ]
  },
  {
   "cell_type": "code",
   "execution_count": 29,
   "metadata": {},
   "outputs": [
    {
     "name": "stdout",
     "output_type": "stream",
     "text": [
      "y = 0.030094334211564717x +2.4145458730617824\n",
      "0.058638567847343614\n"
     ]
    }
   ],
   "source": [
    "print(f\"y = {slope}x +{intercept}\")\n",
    "print(rvalue**2)"
   ]
  },
  {
   "cell_type": "markdown",
   "metadata": {},
   "source": [
    "In this scatter plot, it shows the relationship between cities with latitudes above 0 degrees and their wind speed in mph. There is a very weak positive correlation between the two."
   ]
  },
  {
   "cell_type": "code",
   "execution_count": 44,
   "metadata": {},
   "outputs": [
    {
     "data": {
      "image/png": "[encoded data removed]",
      "text/plain": [
       "<Figure size 432x288 with 1 Axes>"
      ]
     },
     "metadata": {
      "needs_background": "light"
     },
     "output_type": "display_data"
    }
   ],
   "source": [
    "#southern lat versus wind speed scatter\n",
    "x_value = southern_hem[\"Lat\"]\n",
    "y_value = southern_hem[\"Wind Speed\"]\n",
    "plt.scatter(x_value, y_value, marker = \"o\")\n",
    "(slope, intercept, rvalue, pvalue, stderr) = linregress(x_value, y_value)\n",
    "regress_values = x_value * slope + intercept\n",
    "plt.plot(x_value, regress_values, \"r\")\n",
    "plt.xlabel(\"Latitude\")\n",
    "plt.ylabel(\"Wind Speed in mph\")\n",
    "plt.title(f\"Latitude v.Wind Speed for Southern Hemisphere {day}\")\n",
    "plt.show()"
   ]
  },
  {
   "cell_type": "code",
   "execution_count": 31,
   "metadata": {},
   "outputs": [
    {
     "name": "stdout",
     "output_type": "stream",
     "text": [
      "y = -0.0253171161104473x +2.4711316540146115\n",
      "0.026635319898213203\n"
     ]
    }
   ],
   "source": [
    "print(f\"y = {slope}x +{intercept}\")\n",
    "print(rvalue**2)"
   ]
  },
  {
   "cell_type": "markdown",
   "metadata": {},
   "source": [
    "In this scatter plot, it shows the relationship between cities with latitudes below 0 degrees and their wind speed in mph. There is a very weak positive correlation between the two."
   ]
  },
  {
   "cell_type": "code",
   "execution_count": null,
   "metadata": {},
   "outputs": [],
   "source": []
  }
 ],
 "metadata": {
  "kernelspec": {
   "display_name": "Python [conda env:PythonData]",
   "language": "python",
   "name": "conda-env-PythonData-py"
  },
  "language_info": {
   "codemirror_mode": {
    "name": "ipython",
    "version": 3
   },
   "file_extension": ".py",
   "mimetype": "text/x-python",
   "name": "python",
   "nbconvert_exporter": "python",
   "pygments_lexer": "ipython3",
   "version": "3.6.10"
  }
 },
 "nbformat": 4,
 "nbformat_minor": 4
}
