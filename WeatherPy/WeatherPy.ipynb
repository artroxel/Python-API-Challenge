{
 "cells": [
  {
   "cell_type": "code",
   "execution_count": 1,
   "metadata": {},
   "outputs": [],
   "source": [
    "import matplotlib.pyplot as plt\n",
    "import pandas as pd\n",
    "import numpy as np\n",
    "import requests\n",
    "import time\n",
    "from scipy.stats import linregress"
   ]
  },
  {
   "cell_type": "code",
   "execution_count": 23,
   "metadata": {},
   "outputs": [],
   "source": [
    "# Import API key\n",
    "from api_keys import weather_api_key\n",
    "\n",
    "# Incorporated citipy to determine city based on latitude and longitude\n",
    "from citipy import citipy\n",
    "\n",
    "# Output File (CSV)\n",
    "output_data_file = \"output_data/cities.csv\"\n",
    "\n",
    "# Range of latitudes and longitudes\n",
    "lat_range = (-90, 90)\n",
    "lng_range = (-180, 180)"
   ]
  },
  {
   "cell_type": "code",
   "execution_count": 25,
   "metadata": {},
   "outputs": [
    {
     "name": "stdout",
     "output_type": "stream",
     "text": [
      "http://api.openweathermap.org/data/2.5/weather?appid=24625c741fe3a225014cb5cf710a199f&q=\n"
     ]
    }
   ],
   "source": [
    "url = \"http://api.openweathermap.org/data/2.5/weather?\"\n",
    "query_url = url + \"appid=\" + weather_api_key + \"&q=\"\n",
    "print(query_url)"
   ]
  },
  {
   "cell_type": "code",
   "execution_count": 26,
   "metadata": {},
   "outputs": [
    {
     "name": "stdout",
     "output_type": "stream",
     "text": [
      "{'cod': '400', 'message': 'Nothing to geocode'}\n"
     ]
    }
   ],
   "source": [
    "weather_response = requests.get(query_url)\n",
    "weather_json = weather_response.json()\n",
    "print(weather_json)"
   ]
  },
  {
   "cell_type": "code",
   "execution_count": 24,
   "metadata": {},
   "outputs": [
    {
     "data": {
      "text/plain": [
       "613"
      ]
     },
     "execution_count": 24,
     "metadata": {},
     "output_type": "execute_result"
    }
   ],
   "source": [
    "# List for holding lat_lngs and cities\n",
    "lat_lngs = []\n",
    "cities = []\n",
    "\n",
    "# Create a set of random lat and lng combinations\n",
    "lats = np.random.uniform(lat_range[0], lat_range[1], size=1500)\n",
    "lngs = np.random.uniform(lng_range[0], lng_range[1], size=1500)\n",
    "lat_lngs = zip(lats, lngs)\n",
    "\n",
    "# Identify nearest city for each lat, lng combination\n",
    "for lat_lng in lat_lngs:\n",
    "    city = citipy.nearest_city(lat_lng[0], lat_lng[1]).city_name\n",
    "    \n",
    "    # If the city is unique, then add it to a our cities list\n",
    "    if city not in cities:\n",
    "        cities.append(city)\n",
    "\n",
    "# Print the city count to confirm sufficient count\n",
    "len(cities)"
   ]
  },
  {
   "cell_type": "code",
   "execution_count": null,
   "metadata": {},
   "outputs": [],
   "source": [
    "name = []\n",
    "lat = []\n",
    "lng = []\n",
    "temp = []\n",
    "humidity = []\n",
    "cloudiness = []\n",
    "wind = []\n",
    "date = []"
   ]
  },
  {
   "cell_type": "code",
   "execution_count": 22,
   "metadata": {},
   "outputs": [
    {
     "name": "stdout",
     "output_type": "stream",
     "text": [
      "Processing Record 0 of Set acari | ['acari', 'atuona', 'vaitape', 'bredasdorp', 'kalamata', 'puerto escondido', 'lompoc', 'muravlenko', 'vardo', 'amderma', 'skovorodino', 'olafsvik', 'pangnirtung', 'nizhneyansk', 'hofn', 'dikson', 'butaritari', 'busselton', 'jamestown', 'phan thiet', 'shunyi', 'kavieng', 'hobart', 'mahebourg', 'korcula', 'aksu', 'punta arenas', 'clyde river', 'barcelona', 'pisco', 'rikitea', 'bayan', 'hue', 'ulaanbaatar', 'boyolangu', 'cherskiy', 'louisbourg', 'illoqqortoormiut', 'khandyga', 'qaanaaq', 'zelenoborsk', 'jinchang', 'rio gallegos', 'bluff', 'ushuaia', 'bilma', 'naze', 'mys shmidta', 'peniche', 'mataura', 'ereymentau', 'bengkulu', 'spring hill', 'saint-leu', 'talah', 'bambous virieux', 'saint pete beach', 'rincon', 'codrington', 'alingsas', 'petropavlovsk-kamchatskiy', 'cape town', 'san cristobal', 'ialibu', 'mocuba', 'tuktoyaktuk', 'castro', 'puerto ayora', 'narsaq', 'mazagao', 'manjacaze', 'sitka', 'hokitika', 'broken hill', 'new norfolk', 'mumford', 'banmo', 'key west', 'kenai', 'belushya guba', 'requena', 'albany', 'nome', 'isla mujeres', 'barrow', 'da nang', 'grand river south east', 'ponta do sol', 'caceres', 'lucea', 'kuche', 'haines junction', 'hovd', 'coyaima', 'cabo san lucas', 'shitanjing', 'hermanus', 'payo', 'port elizabeth', 'arraial do cabo', 'ostrovnoy', 'shaumiani', 'lebu', 'husavik', 'gelemso', 'te anau', 'chokurdakh', 'hilo', 'ribeira grande', 'kruisfontein', 'sinnamary', 'sawakin', 'tasiilaq', 'san patricio', 'kapaa', 'portland', 'dunkwa', 'tiksi', 'lensk', 'nanakuli', 'douglas', 'mathbaria', 'taolanaro', 'east london', 'lagoa', 'kaitangata', 'zhezkazgan', 'srivardhan', 'vaini', 'aripuana', 'olinda', 'lorengau', 'manzanillo', 'coihaique', 'port alfred', 'sabang', 'fort-shevchenko', 'arequipa', 'west bay', 'dunedin', 'matamoros', 'provideniya', 'sumbawanga', 'karasjok', 'kez', 'hajnowka', 'kodiak', 'borogontsy', 'lufilufi', 'nouadhibou', 'saint-philippe', 'kahului', 'doha', 'marzuq', 'tsihombe', 'bolekhiv', 'beringovskiy', 'yerbogachen', 'barentsburg', 'sibolga', 'alice springs', 'klaksvik', 'lata', 'mackay', 'bur gabo', 'puerto carreno', 'farrukhnagar', 'santa maria', 'carnarvon', 'iqaluit', 'marawi', 'puerto narino', 'touros', 'guerrero negro', 'ulladulla', 'ajaccio', 'yeppoon', 'zarubino', 'margate', 'antofagasta', 'nimbahera', 'port hardy', 'kuito', 'pittsburg', 'benalla', 'qujing', 'iaciara', 'kirensk', 'grand centre', 'evensk', 'el fuerte', 'zlatoustovsk', 'pevek', 'thompson', 'svetlogorsk', 'pochutla', 'sindou', 'severo-kurilsk', 'mar del plata', 'nicoya', 'aasiaat', 'longlac', 'waitati', 'mindelo', 'bethel', 'yellowknife', 'avarua', 'itarema', 'chara', 'bandarbeyla', 'mpulungu', 'haibowan', 'jalu', 'hithadhoo', 'upernavik', 'northam', 'sinazongwe', 'mentok', 'vaitupu', 'oktyabrskoye', 'blue springs', 'comodoro rivadavia', 'yazman', 'khatanga', 'batagay-alyta', 'gamba', 'daru', 'victoria', 'champerico', 'port hedland', 'birao', 'isangel', 'souillac', 'yulara', 'wittlich', 'nguiu', 'tocopilla', 'serebryansk', 'buta', 'banda aceh', 'fortuna', 'hyeres', 'tamboril', 'paita', 'airai', 'bintulu', 'gimli', 'werda', 'saint-augustin', 'torbay', 'tumannyy', 'chuy', 'avera', 'jiuquan', 'copiapo', 'samarai', 'la rioja', 'verkhnetulomskiy', 'lazaro cardenas', 'port macquarie', 'nikolskoye', 'santa isabel do rio negro', 'alofi', 'kapuskasing', 'stephenville', 'sentyabrskiy', 'xingyi', 'mocambique', 'hayden', 'gat', 'laguna', 'waterloo', 'tungkang', 'fort saint john', 'yerofey pavlovich', 'barbar', 'mount isa', 'roald', 'mahibadhoo', 'san quintin', 'amparafaravola', 'norman wells', 'pozo colorado', 'grand-santi', 'georgetown', 'kommunisticheskiy', 'nador', 'darnah', 'boca do acre', 'omsukchan', 'ibra', 'gizo', 'andenes', 'umzimvubu', 'tshane', 'hibbing', 'rudnogorsk', 'teutonia', 'purpe', 'ahipara', 'saskylakh', 'morondava', 'arraias', 'swift current', 'mananjary', 'bemidji', 'baijiantan', 'nanpiao', 'tasbuget', 'ciudad del maiz', 'kenora', 'zhuhai', 'luderitz', 'de-kastri', 'puerto quijarro', 'araouane', 'longyearbyen', 'port-gentil', 'asau', 'nanortalik', 'palabuhanratu', 'poum', 'izumo', 'bara', 'casablanca', 'batagay', 'ode', 'mushie', 'areosa', 'inhambane', 'bagrami', 'harnosand', 'skjervoy', 'grindavik', 'arroyo', 'axim', 'vallenar', 'ilulissat', 'marsa matruh', 'nyrany', 'jarjis', 'dianopolis', 'loa janan', 'salalah', 'kandete', 'santarem', 'rio grande', 'kyzyl-suu', 'muriti', 'san jeronimo', 'riyadh', 'ixtapa', 'leninogorsk', 'geraldton', 'lichinga', 'jacareacanga', 'quesnel', 'puerto del rosario', 'killybegs', 'oranjestad', 'marsabit', 'sedelnikovo', 'karratha', 'pachino', 'aswan', 'tabou', 'samusu', 'takoradi', 'chiang kham', 'lac du bonnet', 'syracuse', 'coquimbo', 'khonuu', 'kavaratti', 'krasnoselkup', 'san francisco', 'umea', 'bozeman', 'muros', 'prince george', 'bose', 'santo antonio do sudoeste', 'van', 'leningradskiy', 'wasilla', 'ballina', 'ouesso', 'brae', 'juruti', 'gurgan', 'jonkoping', 'springbok', 'sambava', 'skelleftea', 'pocone', 'evenskjaer', 'mogadishu', 'adamantina', 'shalinskoye', 'lavrentiya', 'samalaeulu', 'sorland', 'lubumbashi', 'paez', 'menongue', 'arinos', 'westport', 'tommot', 'shar', 'makung', 'faanui', 'uige', 'erenhot', 'gao', 'ayan', 'otradnyy', 'stokmarknes', 'la ronge', 'at-bashi', 'gap', 'tuatapere', 'belaya gora', 'aflu', 'zhaozhou', 'malwan', 'attawapiskat', 'turukhansk', 'lima', 'launceston', 'ancud', 'ambilobe', 'umm kaddadah', 'matale', 'imbituba', 'porto novo', 'medea', 'livingston', 'mankono', 'tuggurt', 'mayo', 'palmares do sul', 'quthing', 'necochea', 'wajid', 'san mateo ixtatan', 'albanel', 'shuangcheng', 'atar', 'aksay', 'osmena', 'ketchikan', 'hit', 'trinidad', 'la ceiba', 'kununurra', 'tula', 'port lincoln', 'bonthe', 'muniz freire', 'buraydah', 'bastia', 'richard toll', 'saldanha', 'vestmannaeyjar', 'birjand', 'marsaxlokk', 'fort nelson', 'rovaniemi', 'andros town', 'mehamn', 'rocha', 'barra da estiva', 'promyshlennaya', 'cayenne', 'falun', 'solnechnyy', 'rach gia', 'mtambile', 'ballachulish', 'kholodnyy', 'burns lake', 'kawana waters', 'prince rupert', 'esperance', 'doliana', 'faxinal', 'mgandu', 'shouguang', 'tweed', 'grand gaube', 'acajutla', 'huarmey', 'ignacio zaragoza', 'biltine', 'palana', 'constantine', 'greve strand', 'ciudad real', 'vila velha', 'coos bay', 'san vicente', 'yatou', 'sapao', 'urut', 'adrar', 'constitucion', 'miles city', 'umarkot', 'envira', 'ibirataia', 'nueve de julio', 'aquiraz', 'fergus falls', 'bolungarvik', 'nago', 'kralendijk', 'vondrozo', 'pedernales', 'skalistyy', 'tiznit', 'kaeo', 'saint-francois', 'platteville', 'palmerston', 'meadville', 'brattleboro', 'mani', 'tura', 'kudahuvadhoo', 'russell', 'gwadar', 'varel', 'saint george', 'utete', 'cidreira', 'kalmunai', 'tabiauea', 'lagos', 'sanghar', 'dongying', 'murwillumbah', 'paso de los toros', 'manzhouli', 'yarada', 'waingapu', 'bundaberg', 'vao', 'the pas', 'saleaula', 'walvis bay', 'pundaguitan', 'savona', 'viligili', 'houma', 'banamba', 'wetaskiwin', 'ligayan', 'ridgecrest', 'tautira', 'port blair', 'loandjili', 'kananga', 'shizunai', 'jiddah', 'codajas', 'dalinghe', 'hangu', 'okha', 'panguma', 'recas', 'ningxiang', 'charters towers', 'burnie', 'guipavas', 'port-cartier', 'hay river', 'half moon bay', 'yar-sale', 'mutsamudu', 'sechura', 'goderich', 'manaure', 'tynda', 'bani walid', 'sao filipe', 'pathein', 'mandalgovi']\n"
     ]
    },
    {
     "ename": "NameError",
     "evalue": "name 'response_json' is not defined",
     "output_type": "error",
     "traceback": [
      "\u001b[1;31m---------------------------------------------------------------------------\u001b[0m",
      "\u001b[1;31mNameError\u001b[0m                                 Traceback (most recent call last)",
      "\u001b[1;32m<ipython-input-22-675be0f42d6a>\u001b[0m in \u001b[0;36m<module>\u001b[1;34m\u001b[0m\n\u001b[0;32m      2\u001b[0m     \u001b[0mprint\u001b[0m\u001b[1;33m(\u001b[0m\u001b[1;34mf\"Processing Record {x} of Set {cities[x]} | {cities}\"\u001b[0m\u001b[1;33m)\u001b[0m\u001b[1;33m\u001b[0m\u001b[1;33m\u001b[0m\u001b[0m\n\u001b[0;32m      3\u001b[0m     \u001b[0mresponse_output\u001b[0m \u001b[1;33m=\u001b[0m \u001b[0mrequests\u001b[0m\u001b[1;33m.\u001b[0m\u001b[0mget\u001b[0m\u001b[1;33m(\u001b[0m\u001b[0murl\u001b[0m \u001b[1;33m+\u001b[0m \u001b[0mstr\u001b[0m\u001b[1;33m(\u001b[0m\u001b[0mcities\u001b[0m\u001b[1;33m[\u001b[0m\u001b[0mx\u001b[0m\u001b[1;33m]\u001b[0m\u001b[1;33m)\u001b[0m\u001b[1;33m)\u001b[0m\u001b[1;33m\u001b[0m\u001b[1;33m\u001b[0m\u001b[0m\n\u001b[1;32m----> 4\u001b[1;33m     \u001b[0mresponse_json\u001b[0m\u001b[1;33m.\u001b[0m\u001b[0mappend\u001b[0m\u001b[1;33m(\u001b[0m\u001b[0mresponse_output\u001b[0m\u001b[1;33m.\u001b[0m\u001b[0mjson\u001b[0m\u001b[1;33m(\u001b[0m\u001b[1;33m)\u001b[0m\u001b[1;33m)\u001b[0m\u001b[1;33m\u001b[0m\u001b[1;33m\u001b[0m\u001b[0m\n\u001b[0m",
      "\u001b[1;31mNameError\u001b[0m: name 'response_json' is not defined"
     ]
    }
   ],
   "source": [
    "for x in range(len(cities)):\n",
    "    print(f\"Processing Record {x} of Set {cities[x]} | {cities}\")\n",
    "    response_output = requests.get(url + str(cities[x]))\n",
    "    response_json.append(response_output.json())"
   ]
  },
  {
   "cell_type": "code",
   "execution_count": 9,
   "metadata": {},
   "outputs": [
    {
     "ename": "ValueError",
     "evalue": "If using all scalar values, you must pass an index",
     "output_type": "error",
     "traceback": [
      "\u001b[1;31m---------------------------------------------------------------------------\u001b[0m",
      "\u001b[1;31mValueError\u001b[0m                                Traceback (most recent call last)",
      "\u001b[1;32m<ipython-input-9-5f98eeafee39>\u001b[0m in \u001b[0;36m<module>\u001b[1;34m\u001b[0m\n\u001b[0;32m      7\u001b[0m                        \u001b[1;34m\"Wind Speed\"\u001b[0m\u001b[1;33m:\u001b[0m \u001b[1;34m\" w\"\u001b[0m\u001b[1;33m,\u001b[0m\u001b[1;33m\u001b[0m\u001b[1;33m\u001b[0m\u001b[0m\n\u001b[0;32m      8\u001b[0m                        \u001b[1;34m\"Country\"\u001b[0m\u001b[1;33m:\u001b[0m \u001b[1;34m\" c\"\u001b[0m\u001b[1;33m,\u001b[0m\u001b[1;33m\u001b[0m\u001b[1;33m\u001b[0m\u001b[0m\n\u001b[1;32m----> 9\u001b[1;33m                        \u001b[1;34m\"Date\"\u001b[0m\u001b[1;33m:\u001b[0m \u001b[1;34m\" d\"\u001b[0m\u001b[1;33m\u001b[0m\u001b[1;33m\u001b[0m\u001b[0m\n\u001b[0m\u001b[0;32m     10\u001b[0m                        })\n\u001b[0;32m     11\u001b[0m \u001b[0mcity_df\u001b[0m\u001b[1;33m\u001b[0m\u001b[1;33m\u001b[0m\u001b[0m\n",
      "\u001b[1;32m~\\anaconda3\\envs\\PythonData\\lib\\site-packages\\pandas\\core\\frame.py\u001b[0m in \u001b[0;36m__init__\u001b[1;34m(self, data, index, columns, dtype, copy)\u001b[0m\n\u001b[0;32m    433\u001b[0m             )\n\u001b[0;32m    434\u001b[0m         \u001b[1;32melif\u001b[0m \u001b[0misinstance\u001b[0m\u001b[1;33m(\u001b[0m\u001b[0mdata\u001b[0m\u001b[1;33m,\u001b[0m \u001b[0mdict\u001b[0m\u001b[1;33m)\u001b[0m\u001b[1;33m:\u001b[0m\u001b[1;33m\u001b[0m\u001b[1;33m\u001b[0m\u001b[0m\n\u001b[1;32m--> 435\u001b[1;33m             \u001b[0mmgr\u001b[0m \u001b[1;33m=\u001b[0m \u001b[0minit_dict\u001b[0m\u001b[1;33m(\u001b[0m\u001b[0mdata\u001b[0m\u001b[1;33m,\u001b[0m \u001b[0mindex\u001b[0m\u001b[1;33m,\u001b[0m \u001b[0mcolumns\u001b[0m\u001b[1;33m,\u001b[0m \u001b[0mdtype\u001b[0m\u001b[1;33m=\u001b[0m\u001b[0mdtype\u001b[0m\u001b[1;33m)\u001b[0m\u001b[1;33m\u001b[0m\u001b[1;33m\u001b[0m\u001b[0m\n\u001b[0m\u001b[0;32m    436\u001b[0m         \u001b[1;32melif\u001b[0m \u001b[0misinstance\u001b[0m\u001b[1;33m(\u001b[0m\u001b[0mdata\u001b[0m\u001b[1;33m,\u001b[0m \u001b[0mma\u001b[0m\u001b[1;33m.\u001b[0m\u001b[0mMaskedArray\u001b[0m\u001b[1;33m)\u001b[0m\u001b[1;33m:\u001b[0m\u001b[1;33m\u001b[0m\u001b[1;33m\u001b[0m\u001b[0m\n\u001b[0;32m    437\u001b[0m             \u001b[1;32mimport\u001b[0m \u001b[0mnumpy\u001b[0m\u001b[1;33m.\u001b[0m\u001b[0mma\u001b[0m\u001b[1;33m.\u001b[0m\u001b[0mmrecords\u001b[0m \u001b[1;32mas\u001b[0m \u001b[0mmrecords\u001b[0m\u001b[1;33m\u001b[0m\u001b[1;33m\u001b[0m\u001b[0m\n",
      "\u001b[1;32m~\\anaconda3\\envs\\PythonData\\lib\\site-packages\\pandas\\core\\internals\\construction.py\u001b[0m in \u001b[0;36minit_dict\u001b[1;34m(data, index, columns, dtype)\u001b[0m\n\u001b[0;32m    252\u001b[0m             \u001b[0marr\u001b[0m \u001b[1;32mif\u001b[0m \u001b[1;32mnot\u001b[0m \u001b[0mis_datetime64tz_dtype\u001b[0m\u001b[1;33m(\u001b[0m\u001b[0marr\u001b[0m\u001b[1;33m)\u001b[0m \u001b[1;32melse\u001b[0m \u001b[0marr\u001b[0m\u001b[1;33m.\u001b[0m\u001b[0mcopy\u001b[0m\u001b[1;33m(\u001b[0m\u001b[1;33m)\u001b[0m \u001b[1;32mfor\u001b[0m \u001b[0marr\u001b[0m \u001b[1;32min\u001b[0m \u001b[0marrays\u001b[0m\u001b[1;33m\u001b[0m\u001b[1;33m\u001b[0m\u001b[0m\n\u001b[0;32m    253\u001b[0m         ]\n\u001b[1;32m--> 254\u001b[1;33m     \u001b[1;32mreturn\u001b[0m \u001b[0marrays_to_mgr\u001b[0m\u001b[1;33m(\u001b[0m\u001b[0marrays\u001b[0m\u001b[1;33m,\u001b[0m \u001b[0mdata_names\u001b[0m\u001b[1;33m,\u001b[0m \u001b[0mindex\u001b[0m\u001b[1;33m,\u001b[0m \u001b[0mcolumns\u001b[0m\u001b[1;33m,\u001b[0m \u001b[0mdtype\u001b[0m\u001b[1;33m=\u001b[0m\u001b[0mdtype\u001b[0m\u001b[1;33m)\u001b[0m\u001b[1;33m\u001b[0m\u001b[1;33m\u001b[0m\u001b[0m\n\u001b[0m\u001b[0;32m    255\u001b[0m \u001b[1;33m\u001b[0m\u001b[0m\n\u001b[0;32m    256\u001b[0m \u001b[1;33m\u001b[0m\u001b[0m\n",
      "\u001b[1;32m~\\anaconda3\\envs\\PythonData\\lib\\site-packages\\pandas\\core\\internals\\construction.py\u001b[0m in \u001b[0;36marrays_to_mgr\u001b[1;34m(arrays, arr_names, index, columns, dtype)\u001b[0m\n\u001b[0;32m     62\u001b[0m     \u001b[1;31m# figure out the index, if necessary\u001b[0m\u001b[1;33m\u001b[0m\u001b[1;33m\u001b[0m\u001b[1;33m\u001b[0m\u001b[0m\n\u001b[0;32m     63\u001b[0m     \u001b[1;32mif\u001b[0m \u001b[0mindex\u001b[0m \u001b[1;32mis\u001b[0m \u001b[1;32mNone\u001b[0m\u001b[1;33m:\u001b[0m\u001b[1;33m\u001b[0m\u001b[1;33m\u001b[0m\u001b[0m\n\u001b[1;32m---> 64\u001b[1;33m         \u001b[0mindex\u001b[0m \u001b[1;33m=\u001b[0m \u001b[0mextract_index\u001b[0m\u001b[1;33m(\u001b[0m\u001b[0marrays\u001b[0m\u001b[1;33m)\u001b[0m\u001b[1;33m\u001b[0m\u001b[1;33m\u001b[0m\u001b[0m\n\u001b[0m\u001b[0;32m     65\u001b[0m     \u001b[1;32melse\u001b[0m\u001b[1;33m:\u001b[0m\u001b[1;33m\u001b[0m\u001b[1;33m\u001b[0m\u001b[0m\n\u001b[0;32m     66\u001b[0m         \u001b[0mindex\u001b[0m \u001b[1;33m=\u001b[0m \u001b[0mensure_index\u001b[0m\u001b[1;33m(\u001b[0m\u001b[0mindex\u001b[0m\u001b[1;33m)\u001b[0m\u001b[1;33m\u001b[0m\u001b[1;33m\u001b[0m\u001b[0m\n",
      "\u001b[1;32m~\\anaconda3\\envs\\PythonData\\lib\\site-packages\\pandas\\core\\internals\\construction.py\u001b[0m in \u001b[0;36mextract_index\u001b[1;34m(data)\u001b[0m\n\u001b[0;32m    353\u001b[0m \u001b[1;33m\u001b[0m\u001b[0m\n\u001b[0;32m    354\u001b[0m         \u001b[1;32mif\u001b[0m \u001b[1;32mnot\u001b[0m \u001b[0mindexes\u001b[0m \u001b[1;32mand\u001b[0m \u001b[1;32mnot\u001b[0m \u001b[0mraw_lengths\u001b[0m\u001b[1;33m:\u001b[0m\u001b[1;33m\u001b[0m\u001b[1;33m\u001b[0m\u001b[0m\n\u001b[1;32m--> 355\u001b[1;33m             \u001b[1;32mraise\u001b[0m \u001b[0mValueError\u001b[0m\u001b[1;33m(\u001b[0m\u001b[1;34m\"If using all scalar values, you must pass an index\"\u001b[0m\u001b[1;33m)\u001b[0m\u001b[1;33m\u001b[0m\u001b[1;33m\u001b[0m\u001b[0m\n\u001b[0m\u001b[0;32m    356\u001b[0m \u001b[1;33m\u001b[0m\u001b[0m\n\u001b[0;32m    357\u001b[0m         \u001b[1;32mif\u001b[0m \u001b[0mhave_series\u001b[0m\u001b[1;33m:\u001b[0m\u001b[1;33m\u001b[0m\u001b[1;33m\u001b[0m\u001b[0m\n",
      "\u001b[1;31mValueError\u001b[0m: If using all scalar values, you must pass an index"
     ]
    }
   ],
   "source": [
    "city_df = pd.DataFrame({\"City\": \" \",\n",
    "                       \"Lat\": \" \",\n",
    "                       \"Lng\": \" \",\n",
    "                       \"Max Temp\": \" \",\n",
    "                       \"Humidity\": \" \",\n",
    "                       \"Cloudiness\": \" \",\n",
    "                       \"Wind Speed\": \" \",\n",
    "                       \"Country\": \" \",\n",
    "                       \"Date\": \" \"\n",
    "                       })\n",
    "city_df"
   ]
  },
  {
   "cell_type": "code",
   "execution_count": null,
   "metadata": {},
   "outputs": [],
   "source": []
  }
 ],
 "metadata": {
  "kernelspec": {
   "display_name": "Python [conda env:PythonData]",
   "language": "python",
   "name": "conda-env-PythonData-py"
  },
  "language_info": {
   "codemirror_mode": {
    "name": "ipython",
    "version": 3
   },
   "file_extension": ".py",
   "mimetype": "text/x-python",
   "name": "python",
   "nbconvert_exporter": "python",
   "pygments_lexer": "ipython3",
   "version": "3.6.10"
  }
 },
 "nbformat": 4,
 "nbformat_minor": 4
}
