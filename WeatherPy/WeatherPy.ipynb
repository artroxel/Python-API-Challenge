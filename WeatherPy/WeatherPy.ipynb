{
 "cells": [
  {
   "cell_type": "code",
   "execution_count": 49,
   "metadata": {},
   "outputs": [],
   "source": [
    "import matplotlib.pyplot as plt\n",
    "import pandas as pd\n",
    "import numpy as np\n",
    "import requests\n",
    "import time\n",
    "from scipy.stats import linregress"
   ]
  },
  {
   "cell_type": "code",
   "execution_count": 150,
   "metadata": {},
   "outputs": [],
   "source": [
    "# Import API key\n",
    "from api_keys import weather_api_key\n",
    "\n",
    "# Incorporated citipy to determine city based on latitude and longitude\n",
    "from citipy import citipy\n",
    "\n",
    "# Output File (CSV)\n",
    "output_data_file = \"output_data/cities.csv\"\n",
    "\n",
    "# Range of latitudes and longitudes\n",
    "lat_range = (-90, 90)\n",
    "lng_range = (-180, 180)"
   ]
  },
  {
   "cell_type": "code",
   "execution_count": 151,
   "metadata": {
    "scrolled": true
   },
   "outputs": [
    {
     "name": "stdout",
     "output_type": "stream",
     "text": [
      "['bethel', 'port elizabeth', 'flinders', 'victoria', 'khurda', 'rikitea', 'hobart', 'calvinia', 'darnah', 'qaanaaq', 'nome', 'tiksi', 'santa isabel do rio negro', 'valverde del camino', 'tucumcari', 'yoichi', 'taolanaro', 'sal rei', 'malwan', 'amderma', 'ushuaia', 'paciran', 'new norfolk', 'aranos', 'pundaguitan', 'bredasdorp', 'east london', 'taltal', 'port alfred', 'syedove', 'portland', 'albany', 'jablah', 'lebu', 'cherskiy', 'palmer', 'bluff', 'severo-kurilsk', 'chokurdakh', 'iqaluit', 'kotlas', 'atuona', 'comodoro rivadavia', 'ponta do sol', 'mataura', 'san patricio', 'busselton', 'vaini', 'lagoa', 'alugan', 'anadyr', 'mentok', 'ixtapa', 'hermanus', 'russell', 'betsiamites', 'tasiilaq', 'castro', 'puerto madryn', 'along', 'paidha', 'vaitupu', 'uch', 'pangoa', 'vestmannaeyjar', 'hualmay', 'saskylakh', 'yellowknife', 'utiroa', 'punta arenas', 'moroni', 'vardo', 'nyagan', 'hasaki', 'barrow', 'carnarvon', 'maloshuyka', 'kodiak', 'gorontalo', 'mar del plata', 'butaritari', 'bambous virieux', 'ganta', 'cobija', 'kapaa', 'chagda', 'jamestown', 'praia da vitoria', 'tuktoyaktuk', 'louisbourg', 'thompson', 'eureka', 'belyy yar', 'hilo', 'santiago', 'quatre cocos', 'karabulak', 'pisco', 'suez', 'bonthe', 'antsohihy', 'mbulu', 'apostolove', 'chipinge', 'huarmey', 'arraial do cabo', 'tandalti', 'svetlaya', 'ribeira grande', 'saldanha', 'chimbote', 'zaozerne', 'georgetown', 'saint-philippe', 'tatsinskaya', 'paamiut', 'chuy', 'sao filipe', 'kousseri', 'komsomolskiy', 'puerto lempira', 'nizhneyansk', 'aripuana', 'angoche', 'akureyri', 'dikson', 'gat', 'bambanglipuro', 'savalou', 'kununurra', 'mporokoso', 'jinsha', 'iwanai', 'deh rawud', 'mount isa', 'airai', 'finnsnes', 'naze', 'grindavik', 'luderitz', 'lorengau', 'caravelas', 'tilichiki', 'sjovegan', 'shimoda', 'ossora', 'yenagoa', 'tromso', 'sisimiut', 'beringovskiy', 'sitka', 'palana', 'axim', 'riviere-du-loup', 'mahebourg', 'warrnambool', 'cape town', 'ulaangom', 'mokrous', 'severomuysk', 'verkhoyansk', 'lata', 'salinungan', 'sao joao da barra', 'tiznit', 'upernavik', 'jalu', 'port lincoln', 'lompoc', 'cairns', 'attawapiskat', 'kavieng', 'yerbogachen', 'nelipyno', 'naliya', 'azimur', 'tessalit', 'cidreira', 'bandarbeyla', 'dawson creek', 'norman wells', 'salalah', 'fairview', 'esperance', 'kokkola', 'mecca', 'dekar', 'vila velha', 'dashitou', 'garowe', 'bilibino', 'tazovskiy', 'taksimo', 'hithadhoo', 'thies', 'tual', 'geraldton', 'bengkulu', 'acarau', 'bintulu', 'saint george', 'hervey bay', 'byron bay', 'codrington', 'namtsy', 'balaipungut', 'puerres', 'saint-augustin', 'turukhansk', 'jacareacanga', 'yulara', 'nanortalik', 'dunedin', 'novikovo', 'churapcha', 'lalomanu', 'torbay', 'hobyo', 'kleive', 'lufilufi', 'gondar', 'det udom', 'ratangarh', 'lumberton', 'tocache', 'payson', 'namatanai', 'ganzhou', 'the valley', 'illoqqortoormiut', 'minas de barroteran', 'barwadih', 'boyany', 'cayenne', 'khani', 'jodhpur', 'roches noires', 'collie', 'divnoye', 'port hawkesbury', 'husavik', 'sfantu gheorghe', 'riyadh', 'khatanga', 'pedernales', 'great falls', 'souillac', 'makakilo city', 'mackenzie', 'abu samrah', 'ca mau', 'avarua', 'vao', 'sentyabrskiy', 'umzimvubu', 'pshekhskaya', 'banda aceh', 'tagusao', 'tsihombe', 'alyangula', 'roros', 'buckeye', 'mutsu', 'puerto ayora', 'olafsvik', 'kurilsk', 'leningradskiy', 'asau', 'pevek', 'surt', 'aksu', 'suihua', 'tezu', 'alta floresta', 'nurlat', 'lac du bonnet', 'yangmei', 'payakumbuh', 'mogadishu', 'katobu', 'nemuro', 'faya', 'provideniya', 'belaya gora', 'pangai', 'palabuhanratu', 'bolshegrivskoye', 'salinopolis', 'candeias', 'srednekolymsk', 'touros', 'jasper', 'westport', 'altamira', 'shitkino', 'gizo', 'nabire', 'nago', 'vangaindrano', 'vostok', 'gushikawa', 'west des moines', 'nikolskoye', 'san quintin', 'macaboboni', 'tokur', 'dawlatabad', 'bilma', 'hanting', 'clyde river', 'ayagoz', 'barranca', 'maine-soroa', 'los llanos de aridane', 'semey', 'yeppoon', 'snasa', 'harper', 'pringsewu', 'porto nacional', 'hastings', 'yerofey pavlovich', 'andselv', 'aasiaat', 'bolshaya vishera', 'rio gallegos', 'ruatoria', 'sawtell', 'hibbing', 'salamanca', 'pangnirtung', 'petatlan', 'trinidad', 'suamico', 'markova', 'urubamba', 'pacific grove', 'havoysund', 'karatau', 'magadan', 'port hedland', 'hambantota', 'kentau', 'havre-saint-pierre', 'ostrovnoy', 'margate', 'aykhal', 'kaitangata', 'bandundu', 'batemans bay', 'labuhan', 'faanui', 'ngukurr', 'kruisfontein', 'mount gambier', 'guerrero negro', 'rungata', 'bealanana', 'isangel', 'katsuura', 'horadiz', 'bigaan', 'broome', 'itarema', 'roald', 'coquimbo', 'praia', 'barawe', 'wloszczowa', 'nyurba', 'wilmington', 'kytmanovo', 'arrecife', 'liverpool', 'ilulissat', 'coihaique', 'belushya guba', 'merauke', 'paramonga', 'ahumada', 'halalo', 'san juan', 'necochea', 'nova olimpia', 'henties bay', 'honningsvag', 'te anau', 'tommot', 'iracoubo', 'mys shmidta', 'imisli', 'verkhnevilyuysk', 'atasu', 'biloela', 'aswan', 'siguiri', 'gunnaur', 'sola', 'kristiinankaupunki', 'poum', 'maymyo', 'riyaq', 'soyo', 'wau', 'tabiauea', 'hamilton', 'alofi', 'kiunga', 'gigmoto', 'acapulco', 'balkhash', 'koosa', 'sunrise manor', 'palu', 'cootamundra', 'neiafu', 'cabo san lucas', 'san cristobal', 'zheleznodorozhnyy', 'kloulklubed', 'sao gabriel da cachoeira', 'tsurib', 'polunochnoye', 'fare', 'iberia', 'vicente guerrero', 'aklavik', 'ippy', 'grand gaube', 'acajutla', 'wajima', 'mmathubudukwane', 'namibe', 'nakusp', 'fairbanks', 'moranbah', 'mandalgovi', 'murray bridge', 'coos bay', 'esperanza', 'la ronge', 'nipawin', 'korla', 'samusu', 'brownsburg', 'mata de sao joao', 'leshukonskoye', 'poya', 'kirakira', 'santiago del estero', 'bacungan', 'vanavara', 'yeletskiy', 'saurimo', 'talnakh', 'meiganga', 'padang', 'ouallam', 'sri aman', 'verkhnyaya sinyachikha', 'dwarka', 'changji', 'amli', 'phultala', 'koumac', 'port hardy', 'takoradi', 'kiruna', 'kisanga', 'longyearbyen', 'afgoye', 'paita', 'coolum beach', 'hami', 'kaeo', 'yarada', 'artyk', 'maniitsoq', 'hanstholm', 'parabel', 'kilrush', 'guadalupe y calvo', 'myitkyina', 'ibra', 'gazojak', 'wattegama', 'burns lake', 'ust-kuyga', 'tabou', 'walvis bay', 'galiakot', 'san ignacio', 'marcona', 'zyryanka', 'kjopsvik', 'tawau', 'minab', 'bom jardim', 'porto', 'oranjemund', 'mildura', 'fortuna', 'moundsville', 'kaniama', 'marzuq', 'rensvik', 'barentsburg', 'hailun', 'kindu', 'ozinki', 'kajaani', 'taoudenni', 'sovetskiy', 'baghdad', 'kyshtovka', 'roma', 'northam', 'kalamare', 'skelleftea', 'vilhena', 'nara', 'omboue', 'kirovskiy', 'katangli', 'fez', 'kutum', 'klaksvik', 'uglovskoye', 'teya', 'mangalia', 'kegayli', 'xining', 'cockburn town', 'gloversville', 'illapel', 'sibolga', 'arraias', 'salar', 'daitari', 'staraya russa', 'ust-kalmanka', 'patea', 'wa', 'januaria', 'makat', 'lavrentiya', 'ewa beach', 'selma', 'biak', 'izhmorskiy', 'gunjur', 'mairana', 'olinda', 'dingle', 'zmeinogorsk', 'thouars', 'erenhot', 'svobodnyy', 'ust-nera', 'priiskovyy', 'ilinskoye-khovanskoye', 'samandag', 'magistralnyy', 'bella union', 'ajuchitlan', 'cooma', 'coffs harbour', 'khalkhal', 'zhanatas', 'kismayo', 'giyani', 'klaeng', 'urumqi', 'hailey', 'zhangjiakou', 'marawi', 'baldeogarh', 'loandjili', 'guasdualito', 'yar-sale', 'sioux lookout', 'ingersoll', 'beloha', 'nampula', 'marsabit', 'mbala', 'abu zabad', 'alibag', 'buy', 'goderich', 'constitucion', 'mashhad', 'mugur-aksy', 'saleaula', 'mazyr', 'kuytun', 'tuatapere', 'mazagao', 'akyab', 'merano', 'kysyl-syr', 'nguiu', 'beihai', 'uruguaiana', 'dien bien', 'tibu', 'mattru', 'rosetta', 'jashpurnagar', 'lethem', 'rochegda', 'dubrovka', 'montoro', 'lafiagi', 'kambove', 'veraval', 'chernyshevskiy', 'jizan', 'congonhas', 'bur gabo', 'narsaq', 'chepareria', 'christchurch', 'bahia blanca', 'petropavlovsk-kamchatskiy', 'solnechnyy', 'sao felix do xingu', 'peniche', 'bairiki', 'khandyga', 'umm lajj', 'ayan']\n"
     ]
    }
   ],
   "source": [
    "# List for holding lat_lngs and cities\n",
    "lat_lngs = []\n",
    "cities = []\n",
    "\n",
    "# Create a set of random lat and lng combinations\n",
    "lats = np.random.uniform(lat_range[0], lat_range[1], size=1500)\n",
    "lngs = np.random.uniform(lng_range[0], lng_range[1], size=1500)\n",
    "lat_lngs = zip(lats, lngs)\n",
    "\n",
    "# Identify nearest city for each lat, lng combination\n",
    "for lat_lng in lat_lngs:\n",
    "    city = citipy.nearest_city(lat_lng[0], lat_lng[1]).city_name\n",
    "    \n",
    "    # If the city is unique, then add it to a our cities list\n",
    "    if city not in cities:\n",
    "        cities.append(city)\n",
    "\n",
    "# Print the city count to confirm sufficient count\n",
    "print(cities)"
   ]
  },
  {
   "cell_type": "code",
   "execution_count": 152,
   "metadata": {},
   "outputs": [
    {
     "name": "stdout",
     "output_type": "stream",
     "text": [
      "http://api.openweathermap.org/data/2.5/weather?appid=24625c741fe3a225014cb5cf710a199f&q=\n"
     ]
    }
   ],
   "source": [
    "url = \"http://api.openweathermap.org/data/2.5/weather?\"\n",
    "query_url = url + \"appid=\" + weather_api_key + \"&q=\"\n",
    "print(query_url)"
   ]
  },
  {
   "cell_type": "code",
   "execution_count": 153,
   "metadata": {},
   "outputs": [
    {
     "name": "stdout",
     "output_type": "stream",
     "text": [
      "Beginning Data Retrieval\n",
      "--------------------------------\n",
      "City not found. Skipping ...\n",
      "City not found. Skipping ...\n",
      "City not found. Skipping ...\n",
      "City not found. Skipping ...\n",
      "City not found. Skipping ...\n",
      "City not found. Skipping ...\n",
      "City not found. Skipping ...\n",
      "City not found. Skipping ...\n",
      "City not found. Skipping ...\n",
      "City not found. Skipping ...\n",
      "City not found. Skipping ...\n",
      "City not found. Skipping ...\n",
      "City not found. Skipping ...\n",
      "City not found. Skipping ...\n",
      "City not found. Skipping ...\n",
      "City not found. Skipping ...\n",
      "City not found. Skipping ...\n",
      "City not found. Skipping ...\n",
      "City not found. Skipping ...\n",
      "City not found. Skipping ...\n",
      "City not found. Skipping ...\n",
      "City not found. Skipping ...\n",
      "City not found. Skipping ...\n",
      "City not found. Skipping ...\n",
      "City not found. Skipping ...\n",
      "City not found. Skipping ...\n",
      "City not found. Skipping ...\n",
      "City not found. Skipping ...\n",
      "City not found. Skipping ...\n",
      "City not found. Skipping ...\n",
      "City not found. Skipping ...\n",
      "City not found. Skipping ...\n",
      "City not found. Skipping ...\n",
      "City not found. Skipping ...\n",
      "City not found. Skipping ...\n",
      "City not found. Skipping ...\n",
      "City not found. Skipping ...\n",
      "City not found. Skipping ...\n",
      "City not found. Skipping ...\n",
      "City not found. Skipping ...\n",
      "City not found. Skipping ...\n",
      "City not found. Skipping ...\n",
      "City not found. Skipping ...\n",
      "City not found. Skipping ...\n",
      "City not found. Skipping ...\n",
      "City not found. Skipping ...\n",
      "City not found. Skipping ...\n",
      "City not found. Skipping ...\n",
      "City not found. Skipping ...\n",
      "City not found. Skipping ...\n",
      "City not found. Skipping ...\n",
      "City not found. Skipping ...\n",
      "City not found. Skipping ...\n",
      "City not found. Skipping ...\n",
      "City not found. Skipping ...\n",
      "City not found. Skipping ...\n",
      "City not found. Skipping ...\n",
      "City not found. Skipping ...\n",
      "City not found. Skipping ...\n",
      "City not found. Skipping ...\n",
      "City not found. Skipping ...\n",
      "City not found. Skipping ...\n",
      "City not found. Skipping ...\n",
      "City not found. Skipping ...\n",
      "City not found. Skipping ...\n",
      "City not found. Skipping ...\n",
      "City not found. Skipping ...\n",
      "City not found. Skipping ...\n",
      "City not found. Skipping ...\n",
      "City not found. Skipping ...\n",
      "City not found. Skipping ...\n",
      "City not found. Skipping ...\n",
      "City not found. Skipping ...\n",
      "City not found. Skipping ...\n",
      "City not found. Skipping ...\n",
      "City not found. Skipping ...\n",
      "City not found. Skipping ...\n",
      "City not found. Skipping ...\n",
      "City not found. Skipping ...\n",
      "City not found. Skipping ...\n",
      "City not found. Skipping ...\n",
      "City not found. Skipping ...\n",
      "City not found. Skipping ...\n",
      "City not found. Skipping ...\n",
      "City not found. Skipping ...\n",
      "City not found. Skipping ...\n",
      "City not found. Skipping ...\n",
      "City not found. Skipping ...\n",
      "City not found. Skipping ...\n",
      "City not found. Skipping ...\n",
      "City not found. Skipping ...\n",
      "City not found. Skipping ...\n",
      "City not found. Skipping ...\n",
      "City not found. Skipping ...\n",
      "City not found. Skipping ...\n",
      "City not found. Skipping ...\n",
      "City not found. Skipping ...\n",
      "City not found. Skipping ...\n",
      "City not found. Skipping ...\n",
      "City not found. Skipping ...\n",
      "City not found. Skipping ...\n",
      "City not found. Skipping ...\n",
      "City not found. Skipping ...\n",
      "City not found. Skipping ...\n",
      "City not found. Skipping ...\n",
      "City not found. Skipping ...\n",
      "City not found. Skipping ...\n",
      "City not found. Skipping ...\n",
      "City not found. Skipping ...\n",
      "City not found. Skipping ...\n",
      "City not found. Skipping ...\n",
      "City not found. Skipping ...\n",
      "City not found. Skipping ...\n",
      "City not found. Skipping ...\n",
      "City not found. Skipping ...\n",
      "City not found. Skipping ...\n",
      "City not found. Skipping ...\n",
      "City not found. Skipping ...\n",
      "City not found. Skipping ...\n",
      "City not found. Skipping ...\n",
      "City not found. Skipping ...\n",
      "City not found. Skipping ...\n",
      "City not found. Skipping ...\n",
      "City not found. Skipping ...\n",
      "City not found. Skipping ...\n",
      "City not found. Skipping ...\n",
      "City not found. Skipping ...\n",
      "City not found. Skipping ...\n",
      "City not found. Skipping ...\n",
      "City not found. Skipping ...\n",
      "City not found. Skipping ...\n",
      "City not found. Skipping ...\n",
      "City not found. Skipping ...\n",
      "City not found. Skipping ...\n",
      "City not found. Skipping ...\n",
      "City not found. Skipping ...\n",
      "City not found. Skipping ...\n",
      "City not found. Skipping ...\n",
      "City not found. Skipping ...\n",
      "City not found. Skipping ...\n",
      "City not found. Skipping ...\n",
      "City not found. Skipping ...\n",
      "City not found. Skipping ...\n",
      "City not found. Skipping ...\n",
      "City not found. Skipping ...\n",
      "City not found. Skipping ...\n",
      "City not found. Skipping ...\n",
      "City not found. Skipping ...\n",
      "City not found. Skipping ...\n",
      "City not found. Skipping ...\n",
      "City not found. Skipping ...\n",
      "City not found. Skipping ...\n",
      "City not found. Skipping ...\n",
      "City not found. Skipping ...\n",
      "City not found. Skipping ...\n",
      "City not found. Skipping ...\n",
      "City not found. Skipping ...\n",
      "City not found. Skipping ...\n",
      "City not found. Skipping ...\n",
      "City not found. Skipping ...\n",
      "City not found. Skipping ...\n",
      "City not found. Skipping ...\n",
      "City not found. Skipping ...\n",
      "City not found. Skipping ...\n",
      "City not found. Skipping ...\n",
      "City not found. Skipping ...\n",
      "City not found. Skipping ...\n",
      "City not found. Skipping ...\n",
      "City not found. Skipping ...\n",
      "City not found. Skipping ...\n",
      "City not found. Skipping ...\n",
      "City not found. Skipping ...\n",
      "City not found. Skipping ...\n",
      "City not found. Skipping ...\n",
      "City not found. Skipping ...\n",
      "City not found. Skipping ...\n",
      "City not found. Skipping ...\n",
      "City not found. Skipping ...\n",
      "City not found. Skipping ...\n",
      "City not found. Skipping ...\n",
      "City not found. Skipping ...\n",
      "City not found. Skipping ...\n",
      "City not found. Skipping ...\n",
      "City not found. Skipping ...\n",
      "City not found. Skipping ...\n",
      "City not found. Skipping ...\n",
      "City not found. Skipping ...\n",
      "City not found. Skipping ...\n",
      "City not found. Skipping ...\n",
      "City not found. Skipping ...\n",
      "City not found. Skipping ...\n",
      "City not found. Skipping ...\n",
      "City not found. Skipping ...\n",
      "City not found. Skipping ...\n",
      "City not found. Skipping ...\n",
      "City not found. Skipping ...\n",
      "City not found. Skipping ...\n",
      "City not found. Skipping ...\n",
      "City not found. Skipping ...\n",
      "City not found. Skipping ...\n",
      "City not found. Skipping ...\n",
      "City not found. Skipping ...\n",
      "City not found. Skipping ...\n",
      "City not found. Skipping ...\n",
      "City not found. Skipping ...\n",
      "City not found. Skipping ...\n",
      "City not found. Skipping ...\n",
      "City not found. Skipping ...\n",
      "City not found. Skipping ...\n",
      "City not found. Skipping ...\n",
      "City not found. Skipping ...\n",
      "City not found. Skipping ...\n",
      "City not found. Skipping ...\n",
      "City not found. Skipping ...\n",
      "City not found. Skipping ...\n",
      "City not found. Skipping ...\n",
      "City not found. Skipping ...\n",
      "City not found. Skipping ...\n",
      "City not found. Skipping ...\n",
      "City not found. Skipping ...\n",
      "City not found. Skipping ...\n",
      "City not found. Skipping ...\n",
      "City not found. Skipping ...\n",
      "City not found. Skipping ...\n",
      "City not found. Skipping ...\n",
      "City not found. Skipping ...\n",
      "City not found. Skipping ...\n",
      "City not found. Skipping ...\n",
      "City not found. Skipping ...\n",
      "City not found. Skipping ...\n",
      "City not found. Skipping ...\n",
      "City not found. Skipping ...\n",
      "City not found. Skipping ...\n",
      "City not found. Skipping ...\n",
      "City not found. Skipping ...\n",
      "City not found. Skipping ...\n",
      "City not found. Skipping ...\n",
      "City not found. Skipping ...\n",
      "City not found. Skipping ...\n",
      "City not found. Skipping ...\n",
      "City not found. Skipping ...\n",
      "City not found. Skipping ...\n",
      "City not found. Skipping ...\n",
      "City not found. Skipping ...\n",
      "City not found. Skipping ...\n",
      "City not found. Skipping ...\n",
      "City not found. Skipping ...\n",
      "City not found. Skipping ...\n",
      "City not found. Skipping ...\n",
      "City not found. Skipping ...\n",
      "City not found. Skipping ...\n",
      "City not found. Skipping ...\n",
      "City not found. Skipping ...\n",
      "City not found. Skipping ...\n",
      "City not found. Skipping ...\n",
      "City not found. Skipping ...\n",
      "City not found. Skipping ...\n",
      "City not found. Skipping ...\n",
      "City not found. Skipping ...\n",
      "City not found. Skipping ...\n",
      "City not found. Skipping ...\n",
      "City not found. Skipping ...\n",
      "City not found. Skipping ...\n",
      "City not found. Skipping ...\n",
      "City not found. Skipping ...\n",
      "City not found. Skipping ...\n",
      "City not found. Skipping ...\n",
      "City not found. Skipping ...\n",
      "City not found. Skipping ...\n",
      "City not found. Skipping ...\n",
      "City not found. Skipping ...\n",
      "City not found. Skipping ...\n",
      "City not found. Skipping ...\n",
      "City not found. Skipping ...\n",
      "City not found. Skipping ...\n",
      "City not found. Skipping ...\n",
      "City not found. Skipping ...\n",
      "City not found. Skipping ...\n",
      "City not found. Skipping ...\n",
      "City not found. Skipping ...\n",
      "City not found. Skipping ...\n"
     ]
    },
    {
     "name": "stdout",
     "output_type": "stream",
     "text": [
      "City not found. Skipping ...\n",
      "City not found. Skipping ...\n",
      "City not found. Skipping ...\n",
      "City not found. Skipping ...\n",
      "City not found. Skipping ...\n",
      "City not found. Skipping ...\n",
      "City not found. Skipping ...\n",
      "City not found. Skipping ...\n",
      "City not found. Skipping ...\n",
      "City not found. Skipping ...\n",
      "City not found. Skipping ...\n",
      "City not found. Skipping ...\n",
      "City not found. Skipping ...\n",
      "City not found. Skipping ...\n",
      "City not found. Skipping ...\n",
      "City not found. Skipping ...\n",
      "City not found. Skipping ...\n",
      "City not found. Skipping ...\n",
      "City not found. Skipping ...\n",
      "City not found. Skipping ...\n",
      "City not found. Skipping ...\n",
      "City not found. Skipping ...\n",
      "City not found. Skipping ...\n",
      "City not found. Skipping ...\n",
      "City not found. Skipping ...\n",
      "City not found. Skipping ...\n",
      "City not found. Skipping ...\n",
      "City not found. Skipping ...\n",
      "City not found. Skipping ...\n",
      "City not found. Skipping ...\n",
      "City not found. Skipping ...\n",
      "City not found. Skipping ...\n",
      "City not found. Skipping ...\n",
      "City not found. Skipping ...\n",
      "City not found. Skipping ...\n",
      "City not found. Skipping ...\n",
      "City not found. Skipping ...\n",
      "City not found. Skipping ...\n",
      "City not found. Skipping ...\n",
      "City not found. Skipping ...\n",
      "City not found. Skipping ...\n",
      "City not found. Skipping ...\n",
      "City not found. Skipping ...\n",
      "City not found. Skipping ...\n",
      "City not found. Skipping ...\n",
      "City not found. Skipping ...\n",
      "City not found. Skipping ...\n",
      "City not found. Skipping ...\n",
      "City not found. Skipping ...\n",
      "City not found. Skipping ...\n",
      "City not found. Skipping ...\n",
      "City not found. Skipping ...\n",
      "City not found. Skipping ...\n",
      "City not found. Skipping ...\n",
      "City not found. Skipping ...\n",
      "City not found. Skipping ...\n",
      "City not found. Skipping ...\n",
      "City not found. Skipping ...\n",
      "City not found. Skipping ...\n",
      "City not found. Skipping ...\n",
      "City not found. Skipping ...\n",
      "City not found. Skipping ...\n",
      "City not found. Skipping ...\n",
      "City not found. Skipping ...\n",
      "City not found. Skipping ...\n",
      "City not found. Skipping ...\n",
      "City not found. Skipping ...\n",
      "City not found. Skipping ...\n",
      "City not found. Skipping ...\n",
      "City not found. Skipping ...\n",
      "City not found. Skipping ...\n",
      "City not found. Skipping ...\n",
      "City not found. Skipping ...\n",
      "City not found. Skipping ...\n",
      "City not found. Skipping ...\n",
      "City not found. Skipping ...\n",
      "City not found. Skipping ...\n",
      "City not found. Skipping ...\n",
      "City not found. Skipping ...\n",
      "City not found. Skipping ...\n",
      "City not found. Skipping ...\n",
      "City not found. Skipping ...\n",
      "City not found. Skipping ...\n",
      "City not found. Skipping ...\n",
      "City not found. Skipping ...\n",
      "City not found. Skipping ...\n",
      "City not found. Skipping ...\n",
      "City not found. Skipping ...\n",
      "City not found. Skipping ...\n",
      "City not found. Skipping ...\n",
      "City not found. Skipping ...\n",
      "City not found. Skipping ...\n",
      "City not found. Skipping ...\n",
      "City not found. Skipping ...\n",
      "City not found. Skipping ...\n",
      "City not found. Skipping ...\n",
      "City not found. Skipping ...\n",
      "City not found. Skipping ...\n",
      "City not found. Skipping ...\n",
      "City not found. Skipping ...\n",
      "City not found. Skipping ...\n",
      "City not found. Skipping ...\n",
      "City not found. Skipping ...\n",
      "City not found. Skipping ...\n",
      "City not found. Skipping ...\n",
      "City not found. Skipping ...\n",
      "City not found. Skipping ...\n",
      "City not found. Skipping ...\n",
      "City not found. Skipping ...\n",
      "City not found. Skipping ...\n",
      "City not found. Skipping ...\n",
      "City not found. Skipping ...\n",
      "City not found. Skipping ...\n",
      "City not found. Skipping ...\n",
      "City not found. Skipping ...\n",
      "City not found. Skipping ...\n",
      "City not found. Skipping ...\n",
      "City not found. Skipping ...\n",
      "City not found. Skipping ...\n",
      "City not found. Skipping ...\n",
      "City not found. Skipping ...\n",
      "City not found. Skipping ...\n",
      "City not found. Skipping ...\n",
      "City not found. Skipping ...\n",
      "City not found. Skipping ...\n",
      "City not found. Skipping ...\n",
      "City not found. Skipping ...\n",
      "City not found. Skipping ...\n",
      "City not found. Skipping ...\n",
      "City not found. Skipping ...\n",
      "City not found. Skipping ...\n",
      "City not found. Skipping ...\n",
      "City not found. Skipping ...\n",
      "City not found. Skipping ...\n",
      "City not found. Skipping ...\n",
      "City not found. Skipping ...\n",
      "City not found. Skipping ...\n",
      "City not found. Skipping ...\n",
      "City not found. Skipping ...\n",
      "City not found. Skipping ...\n",
      "City not found. Skipping ...\n",
      "City not found. Skipping ...\n",
      "City not found. Skipping ...\n",
      "City not found. Skipping ...\n",
      "City not found. Skipping ...\n",
      "City not found. Skipping ...\n",
      "City not found. Skipping ...\n",
      "City not found. Skipping ...\n",
      "City not found. Skipping ...\n",
      "City not found. Skipping ...\n",
      "City not found. Skipping ...\n",
      "City not found. Skipping ...\n",
      "City not found. Skipping ...\n",
      "City not found. Skipping ...\n",
      "City not found. Skipping ...\n",
      "City not found. Skipping ...\n",
      "City not found. Skipping ...\n",
      "City not found. Skipping ...\n",
      "City not found. Skipping ...\n",
      "City not found. Skipping ...\n",
      "City not found. Skipping ...\n",
      "City not found. Skipping ...\n",
      "City not found. Skipping ...\n",
      "City not found. Skipping ...\n",
      "City not found. Skipping ...\n",
      "City not found. Skipping ...\n",
      "City not found. Skipping ...\n",
      "City not found. Skipping ...\n",
      "City not found. Skipping ...\n",
      "City not found. Skipping ...\n",
      "City not found. Skipping ...\n",
      "City not found. Skipping ...\n",
      "City not found. Skipping ...\n",
      "City not found. Skipping ...\n",
      "City not found. Skipping ...\n",
      "City not found. Skipping ...\n",
      "City not found. Skipping ...\n",
      "City not found. Skipping ...\n",
      "City not found. Skipping ...\n",
      "City not found. Skipping ...\n",
      "City not found. Skipping ...\n",
      "City not found. Skipping ...\n",
      "City not found. Skipping ...\n",
      "City not found. Skipping ...\n",
      "City not found. Skipping ...\n",
      "City not found. Skipping ...\n",
      "City not found. Skipping ...\n",
      "City not found. Skipping ...\n",
      "City not found. Skipping ...\n",
      "City not found. Skipping ...\n",
      "City not found. Skipping ...\n",
      "City not found. Skipping ...\n",
      "City not found. Skipping ...\n",
      "City not found. Skipping ...\n",
      "City not found. Skipping ...\n",
      "City not found. Skipping ...\n",
      "City not found. Skipping ...\n",
      "City not found. Skipping ...\n",
      "City not found. Skipping ...\n",
      "City not found. Skipping ...\n",
      "City not found. Skipping ...\n",
      "City not found. Skipping ...\n",
      "City not found. Skipping ...\n",
      "City not found. Skipping ...\n",
      "City not found. Skipping ...\n",
      "City not found. Skipping ...\n",
      "City not found. Skipping ...\n",
      "City not found. Skipping ...\n",
      "City not found. Skipping ...\n",
      "City not found. Skipping ...\n",
      "City not found. Skipping ...\n",
      "City not found. Skipping ...\n",
      "City not found. Skipping ...\n",
      "City not found. Skipping ...\n",
      "City not found. Skipping ...\n",
      "City not found. Skipping ...\n",
      "City not found. Skipping ...\n",
      "City not found. Skipping ...\n",
      "City not found. Skipping ...\n",
      "City not found. Skipping ...\n",
      "City not found. Skipping ...\n",
      "City not found. Skipping ...\n",
      "City not found. Skipping ...\n",
      "City not found. Skipping ...\n",
      "City not found. Skipping ...\n",
      "City not found. Skipping ...\n",
      "City not found. Skipping ...\n",
      "City not found. Skipping ...\n",
      "City not found. Skipping ...\n",
      "City not found. Skipping ...\n",
      "City not found. Skipping ...\n",
      "City not found. Skipping ...\n",
      "City not found. Skipping ...\n",
      "City not found. Skipping ...\n",
      "City not found. Skipping ...\n",
      "City not found. Skipping ...\n",
      "City not found. Skipping ...\n",
      "City not found. Skipping ...\n",
      "City not found. Skipping ...\n",
      "City not found. Skipping ...\n",
      "City not found. Skipping ...\n",
      "City not found. Skipping ...\n",
      "City not found. Skipping ...\n",
      "City not found. Skipping ...\n",
      "City not found. Skipping ...\n",
      "City not found. Skipping ...\n",
      "City not found. Skipping ...\n",
      "City not found. Skipping ...\n",
      "City not found. Skipping ...\n",
      "City not found. Skipping ...\n",
      "City not found. Skipping ...\n",
      "City not found. Skipping ...\n",
      "City not found. Skipping ...\n",
      "City not found. Skipping ...\n",
      "City not found. Skipping ...\n",
      "City not found. Skipping ...\n",
      "City not found. Skipping ...\n",
      "City not found. Skipping ...\n",
      "City not found. Skipping ...\n",
      "City not found. Skipping ...\n",
      "City not found. Skipping ...\n",
      "City not found. Skipping ...\n",
      "City not found. Skipping ...\n",
      "City not found. Skipping ...\n",
      "City not found. Skipping ...\n",
      "City not found. Skipping ...\n",
      "City not found. Skipping ...\n",
      "City not found. Skipping ...\n",
      "City not found. Skipping ...\n",
      "City not found. Skipping ...\n",
      "City not found. Skipping ...\n",
      "City not found. Skipping ...\n",
      "City not found. Skipping ...\n",
      "City not found. Skipping ...\n",
      "City not found. Skipping ...\n",
      "City not found. Skipping ...\n",
      "City not found. Skipping ...\n",
      "City not found. Skipping ...\n",
      "City not found. Skipping ...\n",
      "City not found. Skipping ...\n",
      "City not found. Skipping ...\n",
      "City not found. Skipping ...\n",
      "City not found. Skipping ...\n"
     ]
    },
    {
     "name": "stdout",
     "output_type": "stream",
     "text": [
      "City not found. Skipping ...\n",
      "City not found. Skipping ...\n",
      "City not found. Skipping ...\n",
      "City not found. Skipping ...\n",
      "City not found. Skipping ...\n",
      "City not found. Skipping ...\n",
      "City not found. Skipping ...\n",
      "City not found. Skipping ...\n",
      "City not found. Skipping ...\n",
      "City not found. Skipping ...\n",
      "City not found. Skipping ...\n",
      "City not found. Skipping ...\n",
      "City not found. Skipping ...\n",
      "City not found. Skipping ...\n",
      "City not found. Skipping ...\n",
      "City not found. Skipping ...\n",
      "City not found. Skipping ...\n",
      "City not found. Skipping ...\n",
      "City not found. Skipping ...\n",
      "City not found. Skipping ...\n",
      "City not found. Skipping ...\n",
      "City not found. Skipping ...\n",
      "City not found. Skipping ...\n",
      "City not found. Skipping ...\n",
      "City not found. Skipping ...\n",
      "City not found. Skipping ...\n",
      "City not found. Skipping ...\n",
      "City not found. Skipping ...\n",
      "City not found. Skipping ...\n",
      "City not found. Skipping ...\n",
      "City not found. Skipping ...\n",
      "City not found. Skipping ...\n",
      "City not found. Skipping ...\n",
      "City not found. Skipping ...\n",
      "City not found. Skipping ...\n",
      "City not found. Skipping ...\n",
      "City not found. Skipping ...\n",
      "City not found. Skipping ...\n",
      "City not found. Skipping ...\n",
      "City not found. Skipping ...\n",
      "City not found. Skipping ...\n",
      "City not found. Skipping ...\n",
      "City not found. Skipping ...\n",
      "City not found. Skipping ...\n",
      "City not found. Skipping ...\n",
      "City not found. Skipping ...\n",
      "City not found. Skipping ...\n",
      "City not found. Skipping ...\n",
      "City not found. Skipping ...\n",
      "City not found. Skipping ...\n",
      "City not found. Skipping ...\n",
      "City not found. Skipping ...\n",
      "City not found. Skipping ...\n",
      "City not found. Skipping ...\n",
      "City not found. Skipping ...\n",
      "City not found. Skipping ...\n",
      "City not found. Skipping ...\n",
      "City not found. Skipping ...\n",
      "City not found. Skipping ...\n",
      "City not found. Skipping ...\n",
      "City not found. Skipping ...\n",
      "City not found. Skipping ...\n",
      "City not found. Skipping ...\n",
      "City not found. Skipping ...\n",
      "City not found. Skipping ...\n",
      "City not found. Skipping ...\n",
      "City not found. Skipping ...\n",
      "City not found. Skipping ...\n"
     ]
    }
   ],
   "source": [
    "name = []\n",
    "lat = []\n",
    "lng = []\n",
    "temp = []\n",
    "humidity = []\n",
    "cloudiness = []\n",
    "wind = []\n",
    "country = []\n",
    "date = []\n",
    "y = 1\n",
    "\n",
    "print(\"Beginning Data Retrieval\")\n",
    "print(\"--------------------------------\")\n",
    "\n",
    "for city in cities:\n",
    "    city = requests.get(query_url + city).json()\n",
    "    try:\n",
    "        name.append(city[\"name\"])\n",
    "        lat.append(city[\"coord\"][\"lat\"])\n",
    "        lng.append(city[\"coord\"][\"lon\"])\n",
    "        temp.append(city[\"main\"][\"temp\"])\n",
    "        humidity.append(city[\"main\"][\"humidity\"])\n",
    "        cloudiness.append(city[\"clouds\"][\"all\"])\n",
    "        wind.append(city[\"wind\"][\"speed\"])\n",
    "        country.append(city[\"sys\"][\"country\"])\n",
    "        date.append(city[\"dt\"])\n",
    "        print(\"Processing Record\" + [y] + \"|\" + [city])\n",
    "        y = y+1\n",
    "    except:\n",
    "        print(\"City not found. Skipping ...\")\n"
   ]
  },
  {
   "cell_type": "code",
   "execution_count": 156,
   "metadata": {
    "scrolled": false
   },
   "outputs": [
    {
     "data": {
      "text/html": [
       "<div>\n",
       "<style scoped>\n",
       "    .dataframe tbody tr th:only-of-type {\n",
       "        vertical-align: middle;\n",
       "    }\n",
       "\n",
       "    .dataframe tbody tr th {\n",
       "        vertical-align: top;\n",
       "    }\n",
       "\n",
       "    .dataframe thead th {\n",
       "        text-align: right;\n",
       "    }\n",
       "</style>\n",
       "<table border=\"1\" class=\"dataframe\">\n",
       "  <thead>\n",
       "    <tr style=\"text-align: right;\">\n",
       "      <th></th>\n",
       "      <th>City</th>\n",
       "      <th>Lat</th>\n",
       "      <th>Lng</th>\n",
       "      <th>Max Temp</th>\n",
       "      <th>Humidity</th>\n",
       "      <th>Cloudiness</th>\n",
       "      <th>Wind Speed</th>\n",
       "      <th>Country</th>\n",
       "      <th>Date</th>\n",
       "    </tr>\n",
       "  </thead>\n",
       "  <tbody>\n",
       "    <tr>\n",
       "      <th>0</th>\n",
       "      <td>Bethel</td>\n",
       "      <td>41.3712</td>\n",
       "      <td>-73.4140</td>\n",
       "      <td>279.05</td>\n",
       "      <td>80</td>\n",
       "      <td>100</td>\n",
       "      <td>0.89</td>\n",
       "      <td>US</td>\n",
       "      <td>1618617626</td>\n",
       "    </tr>\n",
       "    <tr>\n",
       "      <th>1</th>\n",
       "      <td>Port Elizabeth</td>\n",
       "      <td>-33.9180</td>\n",
       "      <td>25.5701</td>\n",
       "      <td>289.15</td>\n",
       "      <td>72</td>\n",
       "      <td>0</td>\n",
       "      <td>5.66</td>\n",
       "      <td>ZA</td>\n",
       "      <td>1618617627</td>\n",
       "    </tr>\n",
       "    <tr>\n",
       "      <th>2</th>\n",
       "      <td>Flinders</td>\n",
       "      <td>-34.5833</td>\n",
       "      <td>150.8552</td>\n",
       "      <td>289.82</td>\n",
       "      <td>79</td>\n",
       "      <td>100</td>\n",
       "      <td>0.45</td>\n",
       "      <td>AU</td>\n",
       "      <td>1618617627</td>\n",
       "    </tr>\n",
       "    <tr>\n",
       "      <th>3</th>\n",
       "      <td>Hong Kong</td>\n",
       "      <td>22.2855</td>\n",
       "      <td>114.1577</td>\n",
       "      <td>295.13</td>\n",
       "      <td>91</td>\n",
       "      <td>73</td>\n",
       "      <td>2.93</td>\n",
       "      <td>HK</td>\n",
       "      <td>1618617409</td>\n",
       "    </tr>\n",
       "    <tr>\n",
       "      <th>4</th>\n",
       "      <td>Khurda</td>\n",
       "      <td>20.1833</td>\n",
       "      <td>85.6167</td>\n",
       "      <td>299.77</td>\n",
       "      <td>94</td>\n",
       "      <td>0</td>\n",
       "      <td>2.06</td>\n",
       "      <td>IN</td>\n",
       "      <td>1618617628</td>\n",
       "    </tr>\n",
       "    <tr>\n",
       "      <th>...</th>\n",
       "      <td>...</td>\n",
       "      <td>...</td>\n",
       "      <td>...</td>\n",
       "      <td>...</td>\n",
       "      <td>...</td>\n",
       "      <td>...</td>\n",
       "      <td>...</td>\n",
       "      <td>...</td>\n",
       "      <td>...</td>\n",
       "    </tr>\n",
       "    <tr>\n",
       "      <th>577</th>\n",
       "      <td>Peniche</td>\n",
       "      <td>39.3558</td>\n",
       "      <td>-9.3811</td>\n",
       "      <td>284.67</td>\n",
       "      <td>90</td>\n",
       "      <td>41</td>\n",
       "      <td>2.84</td>\n",
       "      <td>PT</td>\n",
       "      <td>1618617823</td>\n",
       "    </tr>\n",
       "    <tr>\n",
       "      <th>578</th>\n",
       "      <td>Bairiki Village</td>\n",
       "      <td>1.3292</td>\n",
       "      <td>172.9752</td>\n",
       "      <td>304.15</td>\n",
       "      <td>70</td>\n",
       "      <td>40</td>\n",
       "      <td>4.12</td>\n",
       "      <td>KI</td>\n",
       "      <td>1618617823</td>\n",
       "    </tr>\n",
       "    <tr>\n",
       "      <th>579</th>\n",
       "      <td>Khandyga</td>\n",
       "      <td>62.6667</td>\n",
       "      <td>135.6000</td>\n",
       "      <td>271.90</td>\n",
       "      <td>91</td>\n",
       "      <td>100</td>\n",
       "      <td>7.52</td>\n",
       "      <td>RU</td>\n",
       "      <td>1618617823</td>\n",
       "    </tr>\n",
       "    <tr>\n",
       "      <th>580</th>\n",
       "      <td>Umluj</td>\n",
       "      <td>25.0213</td>\n",
       "      <td>37.2685</td>\n",
       "      <td>300.69</td>\n",
       "      <td>46</td>\n",
       "      <td>18</td>\n",
       "      <td>4.32</td>\n",
       "      <td>SA</td>\n",
       "      <td>1618617824</td>\n",
       "    </tr>\n",
       "    <tr>\n",
       "      <th>581</th>\n",
       "      <td>Ayan</td>\n",
       "      <td>56.4500</td>\n",
       "      <td>138.1667</td>\n",
       "      <td>270.04</td>\n",
       "      <td>81</td>\n",
       "      <td>32</td>\n",
       "      <td>1.67</td>\n",
       "      <td>RU</td>\n",
       "      <td>1618617824</td>\n",
       "    </tr>\n",
       "  </tbody>\n",
       "</table>\n",
       "<p>582 rows × 9 columns</p>\n",
       "</div>"
      ],
      "text/plain": [
       "                City      Lat       Lng  Max Temp  Humidity  Cloudiness  \\\n",
       "0             Bethel  41.3712  -73.4140    279.05        80         100   \n",
       "1     Port Elizabeth -33.9180   25.5701    289.15        72           0   \n",
       "2           Flinders -34.5833  150.8552    289.82        79         100   \n",
       "3          Hong Kong  22.2855  114.1577    295.13        91          73   \n",
       "4             Khurda  20.1833   85.6167    299.77        94           0   \n",
       "..               ...      ...       ...       ...       ...         ...   \n",
       "577          Peniche  39.3558   -9.3811    284.67        90          41   \n",
       "578  Bairiki Village   1.3292  172.9752    304.15        70          40   \n",
       "579         Khandyga  62.6667  135.6000    271.90        91         100   \n",
       "580            Umluj  25.0213   37.2685    300.69        46          18   \n",
       "581             Ayan  56.4500  138.1667    270.04        81          32   \n",
       "\n",
       "     Wind Speed Country        Date  \n",
       "0          0.89      US  1618617626  \n",
       "1          5.66      ZA  1618617627  \n",
       "2          0.45      AU  1618617627  \n",
       "3          2.93      HK  1618617409  \n",
       "4          2.06      IN  1618617628  \n",
       "..          ...     ...         ...  \n",
       "577        2.84      PT  1618617823  \n",
       "578        4.12      KI  1618617823  \n",
       "579        7.52      RU  1618617823  \n",
       "580        4.32      SA  1618617824  \n",
       "581        1.67      RU  1618617824  \n",
       "\n",
       "[582 rows x 9 columns]"
      ]
     },
     "execution_count": 156,
     "metadata": {},
     "output_type": "execute_result"
    }
   ],
   "source": [
    "city_df = pd.DataFrame({\"City\": name,\n",
    "                       \"Lat\": lat,\n",
    "                       \"Lng\": lng,\n",
    "                       \"Max Temp\": temp,\n",
    "                       \"Humidity\": humidity,\n",
    "                       \"Cloudiness\": cloudiness,\n",
    "                       \"Wind Speed\": wind,\n",
    "                       \"Country\": country,\n",
    "                       \"Date\": date\n",
    "                       })\n",
    "city_df"
   ]
  },
  {
   "cell_type": "code",
   "execution_count": 155,
   "metadata": {},
   "outputs": [
    {
     "data": {
      "text/plain": [
       "<bound method NDFrame.describe of                 City      Lat       Lng  Max Temp  Humidity  Cloudiness  \\\n",
       "0             Bethel  41.3712  -73.4140    279.05        80         100   \n",
       "1     Port Elizabeth -33.9180   25.5701    289.15        72           0   \n",
       "2           Flinders -34.5833  150.8552    289.82        79         100   \n",
       "3          Hong Kong  22.2855  114.1577    295.13        91          73   \n",
       "4             Khurda  20.1833   85.6167    299.77        94           0   \n",
       "..               ...      ...       ...       ...       ...         ...   \n",
       "577          Peniche  39.3558   -9.3811    284.67        90          41   \n",
       "578  Bairiki Village   1.3292  172.9752    304.15        70          40   \n",
       "579         Khandyga  62.6667  135.6000    271.90        91         100   \n",
       "580            Umluj  25.0213   37.2685    300.69        46          18   \n",
       "581             Ayan  56.4500  138.1667    270.04        81          32   \n",
       "\n",
       "     Wind Speed Country        Date  \n",
       "0          0.89      US  1618617626  \n",
       "1          5.66      ZA  1618617627  \n",
       "2          0.45      AU  1618617627  \n",
       "3          2.93      HK  1618617409  \n",
       "4          2.06      IN  1618617628  \n",
       "..          ...     ...         ...  \n",
       "577        2.84      PT  1618617823  \n",
       "578        4.12      KI  1618617823  \n",
       "579        7.52      RU  1618617823  \n",
       "580        4.32      SA  1618617824  \n",
       "581        1.67      RU  1618617824  \n",
       "\n",
       "[582 rows x 9 columns]>"
      ]
     },
     "execution_count": 155,
     "metadata": {},
     "output_type": "execute_result"
    }
   ],
   "source": [
    "city_df.describe"
   ]
  },
  {
   "cell_type": "code",
   "execution_count": 57,
   "metadata": {},
   "outputs": [],
   "source": [
    "#save to csv\n",
    "pd.DataFrame.to_csv(city_df, \"city.csv\")"
   ]
  },
  {
   "cell_type": "code",
   "execution_count": 123,
   "metadata": {},
   "outputs": [
    {
     "name": "stdout",
     "output_type": "stream",
     "text": [
      "Empty DataFrame\n",
      "Columns: [City, Lat, Lng, Max Temp, Humidity, Cloudiness, Wind Speed, Country, Date]\n",
      "Index: []\n"
     ]
    }
   ],
   "source": [
    "humidity_over_100 = city_df.loc[city_df[\"Humidity\"]>100]\n",
    "print(humidity_over_100)"
   ]
  },
  {
   "cell_type": "markdown",
   "metadata": {},
   "source": [
    "There are no cities with humidity over 100%"
   ]
  },
  {
   "cell_type": "code",
   "execution_count": 157,
   "metadata": {},
   "outputs": [
    {
     "data": {
      "image/png": "[encoded data removed]",
      "text/plain": [
       "<Figure size 432x288 with 1 Axes>"
      ]
     },
     "metadata": {
      "needs_background": "light"
     },
     "output_type": "display_data"
    }
   ],
   "source": [
    "#lat versus temp scatter\n",
    "plt.scatter(city_df[\"Lat\"],city_df[\"Max Temp\"])\n",
    "plt.xlabel(\"Latitude\")\n",
    "plt.ylabel(\"Temperature in Kelvin\")\n",
    "plt.title(f\"Latitude v. Temperature\")\n",
    "plt.show()"
   ]
  },
  {
   "cell_type": "markdown",
   "metadata": {},
   "source": [
    "This scatter plot shows the relationship between the latitude of different cities versus their temperatures in Kelvin."
   ]
  },
  {
   "cell_type": "code",
   "execution_count": 158,
   "metadata": {},
   "outputs": [
    {
     "data": {
      "image/png": "[encoded data removed]",
      "text/plain": [
       "<Figure size 432x288 with 1 Axes>"
      ]
     },
     "metadata": {
      "needs_background": "light"
     },
     "output_type": "display_data"
    }
   ],
   "source": [
    "#lat versus humidity scatter\n",
    "plt.scatter(city_df[\"Lat\"],city_df[\"Humidity\"])\n",
    "plt.xlabel(\"Latitude\")\n",
    "plt.ylabel(\"Humidity in %\")\n",
    "plt.title(\"Latitude v. Humidity\")\n",
    "plt.show()"
   ]
  },
  {
   "cell_type": "markdown",
   "metadata": {},
   "source": [
    "This scatter plot shows the relationship between the latitude of different cities versus their humidity percentage."
   ]
  },
  {
   "cell_type": "code",
   "execution_count": 159,
   "metadata": {},
   "outputs": [
    {
     "data": {
      "image/png": "[encoded data removed]",
      "text/plain": [
       "<Figure size 432x288 with 1 Axes>"
      ]
     },
     "metadata": {
      "needs_background": "light"
     },
     "output_type": "display_data"
    }
   ],
   "source": [
    "#lat versus cloudiness scatter\n",
    "plt.scatter(city_df[\"Lat\"],city_df[\"Cloudiness\"])\n",
    "plt.xlabel(\"Latitude\")\n",
    "plt.ylabel(\"Cloudiness in %\")\n",
    "plt.title(\"Latitude v. Cloudiness\")\n",
    "plt.show()"
   ]
  },
  {
   "cell_type": "markdown",
   "metadata": {},
   "source": [
    "This scatter plot shows the relationship between the latitude of different cities versus their cloudiness percentage."
   ]
  },
  {
   "cell_type": "code",
   "execution_count": 160,
   "metadata": {},
   "outputs": [
    {
     "data": {
      "image/png": "[encoded data removed]",
      "text/plain": [
       "<Figure size 432x288 with 1 Axes>"
      ]
     },
     "metadata": {
      "needs_background": "light"
     },
     "output_type": "display_data"
    }
   ],
   "source": [
    "#lat versus wind scatter\n",
    "plt.scatter(city_df[\"Lat\"],city_df[\"Wind Speed\"])\n",
    "plt.xlabel(\"Latitude\")\n",
    "plt.ylabel(\"Wind Speed in mph\")\n",
    "plt.title(\"Latitude v. Wind Speed\")\n",
    "plt.show()"
   ]
  },
  {
   "cell_type": "markdown",
   "metadata": {},
   "source": [
    "This scatter plot shows the relationship between the latitude of different cities versus their wind speed in miles per hour."
   ]
  },
  {
   "cell_type": "code",
   "execution_count": 161,
   "metadata": {},
   "outputs": [],
   "source": [
    "northern_hem = city_df.loc[city_df[\"Lat\"]>=0]\n",
    "southern_hem = city_df.loc[city_df[\"Lat\"]<0]"
   ]
  },
  {
   "cell_type": "code",
   "execution_count": 162,
   "metadata": {},
   "outputs": [
    {
     "data": {
      "image/png": "[encoded data removed]",
      "text/plain": [
       "<Figure size 432x288 with 1 Axes>"
      ]
     },
     "metadata": {
      "needs_background": "light"
     },
     "output_type": "display_data"
    }
   ],
   "source": [
    "#northern lat versus temp scatter\n",
    "x_value = northern_hem[\"Lat\"]\n",
    "y_value = northern_hem[\"Max Temp\"]\n",
    "plt.scatter(x_value, y_value, marker = \"o\")\n",
    "(slope, intercept, rvalue, pvalue, stderr) = linregress(x_value, y_value)\n",
    "regress_values = x_value * slope + intercept\n",
    "plt.plot(x_value, regress_values, \"r\")\n",
    "plt.xlabel(\"Latitude\")\n",
    "plt.ylabel(\"Temperature in Kelvin\")\n",
    "plt.title(\"Latitude v. Temperature for Northern Hemisphere\")\n",
    "plt.show()"
   ]
  },
  {
   "cell_type": "code",
   "execution_count": 163,
   "metadata": {},
   "outputs": [
    {
     "name": "stdout",
     "output_type": "stream",
     "text": [
      "y = -0.5463409703643374x +306.0598002759895\n",
      "0.7723645325353089\n"
     ]
    }
   ],
   "source": [
    "print(f\"y = {slope}x +{intercept}\")\n",
    "print(rvalue**2)"
   ]
  },
  {
   "cell_type": "markdown",
   "metadata": {},
   "source": [
    "In this scatter plot, it shows the relationship between cities with latitudes above 0 degrees and their temperature. There is a strong positive correlation between the two."
   ]
  },
  {
   "cell_type": "code",
   "execution_count": 164,
   "metadata": {},
   "outputs": [
    {
     "data": {
      "image/png": "[encoded data removed]",
      "text/plain": [
       "<Figure size 432x288 with 1 Axes>"
      ]
     },
     "metadata": {
      "needs_background": "light"
     },
     "output_type": "display_data"
    }
   ],
   "source": [
    "#southern lat versus temp scatter\n",
    "x_value = southern_hem[\"Lat\"]\n",
    "y_value = southern_hem[\"Max Temp\"]\n",
    "plt.scatter(x_value, y_value, marker = \"o\")\n",
    "(slope, intercept, rvalue, pvalue, stderr) = linregress(x_value, y_value)\n",
    "regress_values = x_value * slope + intercept\n",
    "plt.plot(x_value, regress_values, \"r\")\n",
    "plt.xlabel(\"Latitude\")\n",
    "plt.ylabel(\"Temperature in F\")\n",
    "plt.title(\"Latitude v. Temperature for Southern Hemisphere\")\n",
    "plt.show()"
   ]
  },
  {
   "cell_type": "code",
   "execution_count": 165,
   "metadata": {},
   "outputs": [
    {
     "name": "stdout",
     "output_type": "stream",
     "text": [
      "y = 0.2859292377302972x +300.17936342189546\n",
      "0.4646841601914175\n"
     ]
    }
   ],
   "source": [
    "print(f\"y = {slope}x +{intercept}\")\n",
    "print(rvalue**2)"
   ]
  },
  {
   "cell_type": "markdown",
   "metadata": {},
   "source": [
    "In this scatter plot, it shows the relationship between cities with latitudes below 0 degrees and their temperature. There is a weak positive correlation between the two."
   ]
  },
  {
   "cell_type": "code",
   "execution_count": 166,
   "metadata": {},
   "outputs": [
    {
     "data": {
      "image/png": "[encoded data removed]",
      "text/plain": [
       "<Figure size 432x288 with 1 Axes>"
      ]
     },
     "metadata": {
      "needs_background": "light"
     },
     "output_type": "display_data"
    }
   ],
   "source": [
    "#northern lat versus humidity scatter\n",
    "x_value = northern_hem[\"Lat\"]\n",
    "y_value = northern_hem[\"Humidity\"]\n",
    "plt.scatter(x_value, y_value, marker = \"o\")\n",
    "(slope, intercept, rvalue, pvalue, stderr) = linregress(x_value, y_value)\n",
    "regress_values = x_value * slope + intercept\n",
    "plt.plot(x_value, regress_values, \"r\")\n",
    "plt.xlabel(\"Latitude\")\n",
    "plt.ylabel(\"Humidity in %\")\n",
    "plt.title(\"Latitude v. Humidity for Northern Hemisphere\")\n",
    "plt.show()"
   ]
  },
  {
   "cell_type": "code",
   "execution_count": 167,
   "metadata": {},
   "outputs": [
    {
     "name": "stdout",
     "output_type": "stream",
     "text": [
      "y = 0.17076839304015032x +61.18067186172979\n",
      "0.020661936107788183\n"
     ]
    }
   ],
   "source": [
    "print(f\"y = {slope}x +{intercept}\")\n",
    "print(rvalue**2)"
   ]
  },
  {
   "cell_type": "markdown",
   "metadata": {},
   "source": [
    "In this scatter plot, it shows the relationship between cities with latitudes above 0 degrees and their humidity percentage. There is a very weak positive correlation between the two."
   ]
  },
  {
   "cell_type": "code",
   "execution_count": 168,
   "metadata": {},
   "outputs": [
    {
     "data": {
      "image/png": "[encoded data removed]",
      "text/plain": [
       "<Figure size 432x288 with 1 Axes>"
      ]
     },
     "metadata": {
      "needs_background": "light"
     },
     "output_type": "display_data"
    }
   ],
   "source": [
    "#southern lat versus humidity scatter\n",
    "x_value = southern_hem[\"Lat\"]\n",
    "y_value = southern_hem[\"Humidity\"]\n",
    "plt.scatter(x_value, y_value, marker = \"o\")\n",
    "(slope, intercept, rvalue, pvalue, stderr) = linregress(x_value, y_value)\n",
    "regress_values = x_value * slope + intercept\n",
    "plt.plot(x_value, regress_values, \"r\")\n",
    "plt.xlabel(\"Latitude\")\n",
    "plt.ylabel(\"Humidity in %\")\n",
    "plt.title(\"Latitude v. Humidity for Southern Hemisphere\")\n",
    "plt.show()"
   ]
  },
  {
   "cell_type": "code",
   "execution_count": 169,
   "metadata": {},
   "outputs": [
    {
     "name": "stdout",
     "output_type": "stream",
     "text": [
      "y = 0.4331156751872064x +83.87833025071083\n",
      "0.12267847369215476\n"
     ]
    }
   ],
   "source": [
    "print(f\"y = {slope}x +{intercept}\")\n",
    "print(rvalue**2)"
   ]
  },
  {
   "cell_type": "markdown",
   "metadata": {},
   "source": [
    "In this scatter plot, it shows the relationship between cities with latitudes below 0 degrees and their humidity percentage. There is a very weak positive correlation between the two."
   ]
  },
  {
   "cell_type": "code",
   "execution_count": 170,
   "metadata": {},
   "outputs": [
    {
     "data": {
      "image/png": "[encoded data removed]",
      "text/plain": [
       "<Figure size 432x288 with 1 Axes>"
      ]
     },
     "metadata": {
      "needs_background": "light"
     },
     "output_type": "display_data"
    }
   ],
   "source": [
    "#northern lat versus cloudiness scatter\n",
    "x_value = northern_hem[\"Lat\"]\n",
    "y_value = northern_hem[\"Cloudiness\"]\n",
    "plt.scatter(x_value, y_value, marker = \"o\")\n",
    "(slope, intercept, rvalue, pvalue, stderr) = linregress(x_value, y_value)\n",
    "regress_values = x_value * slope + intercept\n",
    "plt.plot(x_value, regress_values, \"r\")\n",
    "plt.xlabel(\"Latitude\")\n",
    "plt.ylabel(\"Cloudiness in %\")\n",
    "plt.title(\"Latitude v. Cloudiness for Northern Hemisphere\")\n",
    "plt.show()"
   ]
  },
  {
   "cell_type": "code",
   "execution_count": 171,
   "metadata": {},
   "outputs": [
    {
     "name": "stdout",
     "output_type": "stream",
     "text": [
      "y = 0.1692189335828193x +47.421548029009955\n",
      "0.007850707033334495\n"
     ]
    }
   ],
   "source": [
    "print(f\"y = {slope}x +{intercept}\")\n",
    "print(rvalue**2)"
   ]
  },
  {
   "cell_type": "markdown",
   "metadata": {},
   "source": [
    "In this scatter plot, it shows the relationship between cities with latitudes above 0 degrees and their cloudiness percentage. There is a very weak positive correlation between the two."
   ]
  },
  {
   "cell_type": "code",
   "execution_count": 172,
   "metadata": {},
   "outputs": [
    {
     "data": {
      "image/png": "[encoded data removed]",
      "text/plain": [
       "<Figure size 432x288 with 1 Axes>"
      ]
     },
     "metadata": {
      "needs_background": "light"
     },
     "output_type": "display_data"
    }
   ],
   "source": [
    "#southern lat versus cloudiness scatter\n",
    "x_value = southern_hem[\"Lat\"]\n",
    "y_value = southern_hem[\"Cloudiness\"]\n",
    "plt.scatter(x_value, y_value, marker = \"o\")\n",
    "(slope, intercept, rvalue, pvalue, stderr) = linregress(x_value, y_value)\n",
    "regress_values = x_value * slope + intercept\n",
    "plt.plot(x_value, regress_values, \"r\")\n",
    "plt.xlabel(\"Latitude\")\n",
    "plt.ylabel(\"Cloudiness in %\")\n",
    "plt.title(\"Latitude v. Cloudiness for Southern Hemisphere\")\n",
    "plt.show()"
   ]
  },
  {
   "cell_type": "code",
   "execution_count": 173,
   "metadata": {},
   "outputs": [
    {
     "name": "stdout",
     "output_type": "stream",
     "text": [
      "y = 0.8618589807223132x +74.20702724246127\n",
      "0.10531460239362844\n"
     ]
    }
   ],
   "source": [
    "print(f\"y = {slope}x +{intercept}\")\n",
    "print(rvalue**2)"
   ]
  },
  {
   "cell_type": "markdown",
   "metadata": {},
   "source": [
    "In this scatter plot, it shows the relationship between cities with latitudes below 0 degrees and their cloudiness percentage. There is a very weak positive correlation between the two."
   ]
  },
  {
   "cell_type": "code",
   "execution_count": 174,
   "metadata": {},
   "outputs": [
    {
     "data": {
      "image/png": "[encoded data removed]",
      "text/plain": [
       "<Figure size 432x288 with 1 Axes>"
      ]
     },
     "metadata": {
      "needs_background": "light"
     },
     "output_type": "display_data"
    }
   ],
   "source": [
    "#northern lat versus wind speed scatter\n",
    "x_value = northern_hem[\"Lat\"]\n",
    "y_value = northern_hem[\"Wind Speed\"]\n",
    "plt.scatter(x_value, y_value, marker = \"o\")\n",
    "(slope, intercept, rvalue, pvalue, stderr) = linregress(x_value, y_value)\n",
    "regress_values = x_value * slope + intercept\n",
    "plt.plot(x_value, regress_values, \"r\")\n",
    "plt.xlabel(\"Latitude\")\n",
    "plt.ylabel(\"Wind Speed in mph\")\n",
    "plt.title(\"Latitude v.Wind Speed for Northern Hemisphere\")\n",
    "plt.show()"
   ]
  },
  {
   "cell_type": "code",
   "execution_count": 175,
   "metadata": {},
   "outputs": [
    {
     "name": "stdout",
     "output_type": "stream",
     "text": [
      "y = 0.03131575233830127x +2.562752349157904\n",
      "0.05096649000378214\n"
     ]
    }
   ],
   "source": [
    "print(f\"y = {slope}x +{intercept}\")\n",
    "print(rvalue**2)"
   ]
  },
  {
   "cell_type": "markdown",
   "metadata": {},
   "source": [
    "In this scatter plot, it shows the relationship between cities with latitudes above 0 degrees and their wind speed in mph. There is a very weak positive correlation between the two."
   ]
  },
  {
   "cell_type": "code",
   "execution_count": 176,
   "metadata": {},
   "outputs": [
    {
     "data": {
      "image/png": "[encoded data removed]",
      "text/plain": [
       "<Figure size 432x288 with 1 Axes>"
      ]
     },
     "metadata": {
      "needs_background": "light"
     },
     "output_type": "display_data"
    }
   ],
   "source": [
    "#southern lat versus wind speed scatter\n",
    "x_value = southern_hem[\"Lat\"]\n",
    "y_value = southern_hem[\"Wind Speed\"]\n",
    "plt.scatter(x_value, y_value, marker = \"o\")\n",
    "(slope, intercept, rvalue, pvalue, stderr) = linregress(x_value, y_value)\n",
    "regress_values = x_value * slope + intercept\n",
    "plt.plot(x_value, regress_values, \"r\")\n",
    "plt.xlabel(\"Latitude\")\n",
    "plt.ylabel(\"Wind Speed in mph\")\n",
    "plt.title(\"Latitude v.Wind Speed for Southern Hemisphere\")\n",
    "plt.show()"
   ]
  },
  {
   "cell_type": "code",
   "execution_count": 177,
   "metadata": {},
   "outputs": [
    {
     "name": "stdout",
     "output_type": "stream",
     "text": [
      "y = -0.03304722165945923x +2.320070477254821\n",
      "0.047197706208350156\n"
     ]
    }
   ],
   "source": [
    "print(f\"y = {slope}x +{intercept}\")\n",
    "print(rvalue**2)"
   ]
  },
  {
   "cell_type": "markdown",
   "metadata": {},
   "source": [
    "In this scatter plot, it shows the relationship between cities with latitudes below 0 degrees and their wind speed in mph. There is a very weak positive correlation between the two."
   ]
  },
  {
   "cell_type": "code",
   "execution_count": null,
   "metadata": {},
   "outputs": [],
   "source": []
  }
 ],
 "metadata": {
  "kernelspec": {
   "display_name": "Python [conda env:PythonData]",
   "language": "python",
   "name": "conda-env-PythonData-py"
  },
  "language_info": {
   "codemirror_mode": {
    "name": "ipython",
    "version": 3
   },
   "file_extension": ".py",
   "mimetype": "text/x-python",
   "name": "python",
   "nbconvert_exporter": "python",
   "pygments_lexer": "ipython3",
   "version": "3.6.10"
  }
 },
 "nbformat": 4,
 "nbformat_minor": 4
}
